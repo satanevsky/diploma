{
 "cells": [
  {
   "cell_type": "code",
   "execution_count": 1,
   "metadata": {
    "collapsed": false
   },
   "outputs": [
    {
     "name": "stdout",
     "output_type": "stream",
     "text": [
      "Populating the interactive namespace from numpy and matplotlib\n"
     ]
    }
   ],
   "source": [
    "import matplotlib.pyplot as plt\n",
    "%pylab inline\n",
    "import numpy as np"
   ]
  },
  {
   "cell_type": "code",
   "execution_count": 2,
   "metadata": {
    "collapsed": false
   },
   "outputs": [],
   "source": [
    "from getting_experiments_results import get_metrics_through_time, get_optimal_metrics_through_time"
   ]
  },
  {
   "cell_type": "code",
   "execution_count": 3,
   "metadata": {
    "collapsed": true
   },
   "outputs": [],
   "source": [
    "from data_keeper import get_data_keeper"
   ]
  },
  {
   "cell_type": "code",
   "execution_count": 4,
   "metadata": {
    "collapsed": false
   },
   "outputs": [],
   "source": [
    "EXPERIMENTS_RESULTS_PATH = \"final_res\""
   ]
  },
  {
   "cell_type": "code",
   "execution_count": 5,
   "metadata": {
    "collapsed": true
   },
   "outputs": [],
   "source": [
    "def savitzky_golay(y, window_size, order, deriv=0, rate=1):\n",
    "    r\"\"\"Smooth (and optionally differentiate) data with a Savitzky-Golay filter.\n",
    "    The Savitzky-Golay filter removes high frequency noise from data.\n",
    "    It has the advantage of preserving the original shape and\n",
    "    features of the signal better than other types of filtering\n",
    "    approaches, such as moving averages techniques.\n",
    "    Parameters\n",
    "    ----------\n",
    "    y : array_like, shape (N,)\n",
    "        the values of the time history of the signal.\n",
    "    window_size : int\n",
    "        the length of the window. Must be an odd integer number.\n",
    "    order : int\n",
    "        the order of the polynomial used in the filtering.\n",
    "        Must be less then `window_size` - 1.\n",
    "    deriv: int\n",
    "        the order of the derivative to compute (default = 0 means only smoothing)\n",
    "    Returns\n",
    "    -------\n",
    "    ys : ndarray, shape (N)\n",
    "        the smoothed signal (or it's n-th derivative).\n",
    "    Notes\n",
    "    -----\n",
    "    The Savitzky-Golay is a type of low-pass filter, particularly\n",
    "    suited for smoothing noisy data. The main idea behind this\n",
    "    approach is to make for each point a least-square fit with a\n",
    "    polynomial of high order over a odd-sized window centered at\n",
    "    the point.\n",
    "    Examples\n",
    "    --------\n",
    "    t = np.linspace(-4, 4, 500)\n",
    "    y = np.exp( -t**2 ) + np.random.normal(0, 0.05, t.shape)\n",
    "    ysg = savitzky_golay(y, window_size=31, order=4)\n",
    "    import matplotlib.pyplot as plt\n",
    "    plt.plot(t, y, label='Noisy signal')\n",
    "    plt.plot(t, np.exp(-t**2), 'k', lw=1.5, label='Original signal')\n",
    "    plt.plot(t, ysg, 'r', label='Filtered signal')\n",
    "    plt.legend()\n",
    "    plt.show()\n",
    "    References\n",
    "    ----------\n",
    "    .. [1] A. Savitzky, M. J. E. Golay, Smoothing and Differentiation of\n",
    "       Data by Simplified Least Squares Procedures. Analytical\n",
    "       Chemistry, 1964, 36 (8), pp 1627-1639.\n",
    "    .. [2] Numerical Recipes 3rd Edition: The Art of Scientific Computing\n",
    "       W.H. Press, S.A. Teukolsky, W.T. Vetterling, B.P. Flannery\n",
    "       Cambridge University Press ISBN-13: 9780521880688\n",
    "    \"\"\"\n",
    "    import numpy as np\n",
    "    from math import factorial\n",
    "    \n",
    "    try:\n",
    "        window_size = np.abs(np.int(window_size))\n",
    "        order = np.abs(np.int(order))\n",
    "    except ValueError, msg:\n",
    "        raise ValueError(\"window_size and order have to be of type int\")\n",
    "    if window_size % 2 != 1 or window_size < 1:\n",
    "        raise TypeError(\"window_size size must be a positive odd number\")\n",
    "    if window_size < order + 2:\n",
    "        raise TypeError(\"window_size is too small for the polynomials order\")\n",
    "    order_range = range(order+1)\n",
    "    half_window = (window_size -1) // 2\n",
    "    # precompute coefficients\n",
    "    b = np.mat([[k**i for i in order_range] for k in range(-half_window, half_window+1)])\n",
    "    m = np.linalg.pinv(b).A[deriv] * rate**deriv * factorial(deriv)\n",
    "    # pad the signal at the extremes with\n",
    "    # values taken from the signal itself\n",
    "    firstvals = y[0] - np.abs( y[1:half_window+1][::-1] - y[0] )\n",
    "    lastvals = y[-1] + np.abs(y[-half_window-1:-1][::-1] - y[-1])\n",
    "    y = np.concatenate((firstvals, y, lastvals))\n",
    "    return np.convolve( m[::-1], y, mode='valid')"
   ]
  },
  {
   "cell_type": "code",
   "execution_count": 6,
   "metadata": {
    "collapsed": false
   },
   "outputs": [
    {
     "name": "stderr",
     "output_type": "stream",
     "text": [
      "/usr/local/lib/python2.7/dist-packages/sklearn/metrics/classification.py:1074: UndefinedMetricWarning: F-score is ill-defined and being set to 0.0 due to no predicted samples.\n",
      "  'precision', 'predicted', average, warn_for)\n",
      "/usr/local/lib/python2.7/dist-packages/sklearn/metrics/classification.py:1074: UndefinedMetricWarning: F-score is ill-defined and being set to 0.0 due to no predicted samples.\n",
      "  'precision', 'predicted', average, warn_for)\n",
      "/usr/local/lib/python2.7/dist-packages/sklearn/metrics/classification.py:1074: UndefinedMetricWarning: F-score is ill-defined and being set to 0.0 due to no predicted samples.\n",
      "  'precision', 'predicted', average, warn_for)\n",
      "/usr/local/lib/python2.7/dist-packages/sklearn/metrics/classification.py:1074: UndefinedMetricWarning: F-score is ill-defined and being set to 0.0 due to no predicted samples.\n",
      "  'precision', 'predicted', average, warn_for)\n"
     ]
    },
    {
     "name": "stdout",
     "output_type": "stream",
     "text": [
      "CAPR: Capreomycin  model done\n",
      "AMIK: Amikacin model done\n",
      "OFLO: Ofloxacin  model done\n",
      "ETHI: Ethionamide/ Prothionamide  model done\n",
      "PARA: Para-aminosalicyclic acid  model done\n"
     ]
    },
    {
     "name": "stderr",
     "output_type": "stream",
     "text": [
      "/usr/local/lib/python2.7/dist-packages/sklearn/metrics/classification.py:1074: UndefinedMetricWarning: F-score is ill-defined and being set to 0.0 due to no predicted samples.\n",
      "  'precision', 'predicted', average, warn_for)\n"
     ]
    },
    {
     "name": "stdout",
     "output_type": "stream",
     "text": [
      "AMIK: Amikacin selector_model done\n",
      "CAPR: Capreomycin  selector_model done\n",
      "ETHI: Ethionamide/ Prothionamide  selector_model done\n",
      "PARA: Para-aminosalicyclic acid  selector_model done\n",
      "OFLO: Ofloxacin  selector_model done\n",
      "AMIK: Amikacin frn_model done\n",
      "CAPR: Capreomycin  frn_model done\n",
      "AMIK: Amikacin extender_robust_model done\n",
      "CAPR: Capreomycin  extender_robust_model done\n",
      "CAPR: Capreomycin  extender_selector_model done\n",
      "AMIK: Amikacin extender_selector_model done\n",
      "CAPR: Capreomycin  extender_frn_model done\n",
      "ETHI: Ethionamide/ Prothionamide  frn_model done\n",
      "OFLO: Ofloxacin  frn_model done\n",
      "AMIK: Amikacin extender_frn_model done\n",
      "PARA: Para-aminosalicyclic acid  frn_model done\n",
      "OFLO: Ofloxacin  extender_robust_model done\n",
      "OFLO: Ofloxacin  extender_selector_model done\n",
      "OFLO: Ofloxacin  extender_frn_model done\n",
      "PARA: Para-aminosalicyclic acid  extender_robust_model done\n",
      "ETHI: Ethionamide/ Prothionamide  extender_robust_model done\n",
      "PARA: Para-aminosalicyclic acid  extender_selector_model done\n",
      "ETHI: Ethionamide/ Prothionamide  extender_selector_model done\n",
      "PARA: Para-aminosalicyclic acid  extender_frn_model done\n",
      "ETHI: Ethionamide/ Prothionamide  extender_frn_model done\n"
     ]
    }
   ],
   "source": [
    "import sys\n",
    "from concurrent.futures import ProcessPoolExecutor\n",
    "def get_drug_result(drug):\n",
    "    conv_plot_done = not (drug == get_data_keeper().get_possible_second_level_drugs()[0])\n",
    "    result = dict()\n",
    "    drug_result = dict()\n",
    "    result[drug] = drug_result\n",
    "    drug_result['F1'] = dict()\n",
    "    drug_result['accuracy'] = dict()\n",
    "    drug_result['0/0'] = dict()\n",
    "    drug_result['0/1'] = dict()\n",
    "    drug_result['1/0'] = dict()\n",
    "    drug_result['1/1'] = dict()\n",
    "    for experiment_name in ['model', 'selector_model', 'frn_model', 'extender_robust_model', 'extender_selector_model','extender_frn_model']:\n",
    "        local_results = dict()\n",
    "        result[drug][experiment_name] = local_results\n",
    "        metrics = get_metrics_through_time(\n",
    "            experiment_name=experiment_name,\n",
    "            drug=drug,\n",
    "            experiments_results_path=EXPERIMENTS_RESULTS_PATH,\n",
    "        )\n",
    "        optimal_metrics = get_optimal_metrics_through_time(\n",
    "            experiment_name=experiment_name,\n",
    "            drug=drug,\n",
    "            experiments_results_path=EXPERIMENTS_RESULTS_PATH,\n",
    "        )\n",
    "        if not conv_plot_done:\n",
    "            local_results['convergence_plot_x'] = [el[0] - metrics[0][0] for el in metrics]\n",
    "            local_results['convergence_plot_y'] = savitzky_golay([np.mean([el1['full_metrics']['accuracy'] for el1 in el[1]]) for el in metrics], 21, 3)\n",
    "            conv_plot_done = True\n",
    "        local_results['best_accuracy_plot_cv_x'] = [el[0] - optimal_metrics[0][0] for el in optimal_metrics]\n",
    "        local_results['best_accuracy_plot_cv_y'] = [np.mean([el1['full_metrics']['accuracy'] for el1 in el[1]]) for el in optimal_metrics] \n",
    "        local_results['best_accuracy_plot_test_x'] = [el[0] - optimal_metrics[0][0] for el in optimal_metrics]\n",
    "        local_results['best_accuracy_plot_test_y'] = [el[2]['accuracy'] for el in optimal_metrics]\n",
    "        result_metrics = optimal_metrics[-1][2]\n",
    "        drug_result['F1'][experiment_name] = result_metrics['f1_score']\n",
    "        drug_result['accuracy'][experiment_name] = result_metrics['accuracy']\n",
    "        drug_result['0/0'][experiment_name] = result_metrics['confusion_matrix'][0][0]\n",
    "        drug_result['0/1'][experiment_name] = result_metrics['confusion_matrix'][0][1]\n",
    "        drug_result['1/0'][experiment_name] = result_metrics['confusion_matrix'][1][0]\n",
    "        drug_result['1/1'][experiment_name] = result_metrics['confusion_matrix'][1][1]\n",
    "        print \"{} {} done\".format(drug, experiment_name)\n",
    "        sys.stdout.flush()\n",
    "    return result\n",
    "result = dict()\n",
    "    \n",
    "with ProcessPoolExecutor(max_workers=6) as e:\n",
    "    for res in e.map(get_drug_result, get_data_keeper().get_possible_second_level_drugs()):\n",
    "        result.update(res)"
   ]
  },
  {
   "cell_type": "code",
   "execution_count": 10,
   "metadata": {
    "collapsed": false
   },
   "outputs": [],
   "source": [
    "import pandas as pd\n",
    "d = {\n",
    "    'model': '4.4.1',\n",
    "    'selector_model': '4.4.2',\n",
    "    'frn_model': '4.4.3',\n",
    "    'extender_robust_model': '4.4.4',\n",
    "    'extender_selector_model': '4.4.5',\n",
    "    'extender_frn_model': '4.4.6',\n",
    "}\n",
    "result_refactored = {key: {(k, d[v1]): v2 for k, v in value.iteritems() for v1, v2 in v.iteritems() if 'plot' not in v1} for key, value in result.iteritems()}\n",
    "df = pd.DataFrame.from_dict(result_refactored)\n",
    "df.index = pd.MultiIndex.from_tuples(df.index)\n",
    "df.to_excel(\"a.xls\")"
   ]
  },
  {
   "cell_type": "code",
   "execution_count": 11,
   "metadata": {
    "collapsed": false
   },
   "outputs": [
    {
     "data": {
      "text/plain": [
       "[('0/0', '4.4.1'),\n",
       " ('0/0', '4.4.2'),\n",
       " ('0/0', '4.4.3'),\n",
       " ('0/0', '4.4.4'),\n",
       " ('0/0', '4.4.5'),\n",
       " ('0/0', '4.4.6'),\n",
       " ('0/1', '4.4.1'),\n",
       " ('0/1', '4.4.2'),\n",
       " ('0/1', '4.4.3'),\n",
       " ('0/1', '4.4.4'),\n",
       " ('0/1', '4.4.5'),\n",
       " ('0/1', '4.4.6'),\n",
       " ('1/0', '4.4.1'),\n",
       " ('1/0', '4.4.2'),\n",
       " ('1/0', '4.4.3'),\n",
       " ('1/0', '4.4.4'),\n",
       " ('1/0', '4.4.5'),\n",
       " ('1/0', '4.4.6'),\n",
       " ('1/1', '4.4.1'),\n",
       " ('1/1', '4.4.2'),\n",
       " ('1/1', '4.4.3'),\n",
       " ('1/1', '4.4.4'),\n",
       " ('1/1', '4.4.5'),\n",
       " ('1/1', '4.4.6'),\n",
       " ('F1', '4.4.1'),\n",
       " ('F1', '4.4.2'),\n",
       " ('F1', '4.4.3'),\n",
       " ('F1', '4.4.4'),\n",
       " ('F1', '4.4.5'),\n",
       " ('F1', '4.4.6'),\n",
       " ('accuracy', '4.4.1'),\n",
       " ('accuracy', '4.4.2'),\n",
       " ('accuracy', '4.4.3'),\n",
       " ('accuracy', '4.4.4'),\n",
       " ('accuracy', '4.4.5'),\n",
       " ('accuracy', '4.4.6')]"
      ]
     },
     "execution_count": 11,
     "metadata": {},
     "output_type": "execute_result"
    }
   ],
   "source": [
    "list(df.T.columns.values)"
   ]
  },
  {
   "cell_type": "code",
   "execution_count": null,
   "metadata": {
    "collapsed": true
   },
   "outputs": [],
   "source": []
  }
 ],
 "metadata": {
  "kernelspec": {
   "display_name": "Python 2",
   "language": "python",
   "name": "python2"
  },
  "language_info": {
   "codemirror_mode": {
    "name": "ipython",
    "version": 2
   },
   "file_extension": ".py",
   "mimetype": "text/x-python",
   "name": "python",
   "nbconvert_exporter": "python",
   "pygments_lexer": "ipython2",
   "version": "2.7.6"
  }
 },
 "nbformat": 4,
 "nbformat_minor": 0
}

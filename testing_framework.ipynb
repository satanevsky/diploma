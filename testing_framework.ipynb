{
 "cells": [
  {
   "cell_type": "code",
   "execution_count": 2,
   "metadata": {
    "collapsed": false
   },
   "outputs": [],
   "source": [
    "from data_keeper import get_data_keeper"
   ]
  },
  {
   "cell_type": "code",
   "execution_count": 3,
   "metadata": {
    "collapsed": false
   },
   "outputs": [],
   "source": [
    "from testing import test_models_with_drugs"
   ]
  },
  {
   "cell_type": "code",
   "execution_count": 4,
   "metadata": {
    "collapsed": false
   },
   "outputs": [],
   "source": [
    "from sklearn.ensemble import RandomForestClassifier\n",
    "from sklearn.linear_model import LogisticRegressionCV"
   ]
  },
  {
   "cell_type": "code",
   "execution_count": 5,
   "metadata": {
    "collapsed": false
   },
   "outputs": [
    {
     "data": {
      "text/plain": [
       "[u'ETHA: Ethambutol ',\n",
       " u'ISON: Isoniazid ',\n",
       " u'RIFM: rifampicin ',\n",
       " u'RIFP: Rifapentine ',\n",
       " u'PYRA: Pyrazinamide ',\n",
       " u'STRE: Streptomycin ',\n",
       " u'CYCL: Cycloserine ',\n",
       " u'ETHI: Ethionamide/ Prothionamide ',\n",
       " u'PARA: Para-aminosalicyclic acid ',\n",
       " u'AMIK: Amikacin',\n",
       " u' Kanamycin ',\n",
       " u'CAPR: Capreomycin ',\n",
       " u'OFLO: Ofloxacin ']"
      ]
     },
     "execution_count": 5,
     "metadata": {},
     "output_type": "execute_result"
    }
   ],
   "source": [
    "get_data_keeper().get_possible_drugs()"
   ]
  },
  {
   "cell_type": "code",
   "execution_count": 6,
   "metadata": {
    "collapsed": false
   },
   "outputs": [],
   "source": [
    "import joblib"
   ]
  },
  {
   "cell_type": "code",
   "execution_count": 7,
   "metadata": {
    "collapsed": false
   },
   "outputs": [],
   "source": [
    "from wrappers import GridSearchCVWrapper\n",
    "from wrappers import XGBoostClassifierFeatureImportances as XGB\n",
    "from wrappers import MatrixCleaningWrapper\n",
    "from wrappers import SparseWrapper\n",
    "from wrappers import ModelFeatureSelectionWrapper\n",
    "from wrappers import ModelBasedFeatureImportanceGetter"
   ]
  },
  {
   "cell_type": "code",
   "execution_count": 8,
   "metadata": {
    "collapsed": false
   },
   "outputs": [],
   "source": [
    "from frn import FeatureRelevanceNetworkWrapper"
   ]
  },
  {
   "cell_type": "code",
   "execution_count": 9,
   "metadata": {
    "collapsed": true
   },
   "outputs": [],
   "source": [
    "def get_complete_linear_model():\n",
    "    inner_model = LogisticRegressionCV(Cs=[10 ** i for i in xrange(-4, 4)], solver='liblinear')\n",
    "    outer_model = GridSearchCV(inner_model, {'penalty': ['l1', 'l2']})\n",
    "    return MatrixCleaningWrapper(SparseWrapper(outer_model))"
   ]
  },
  {
   "cell_type": "code",
   "execution_count": 10,
   "metadata": {
    "collapsed": false
   },
   "outputs": [],
   "source": [
    "def get_complete_tree_based_model():\n",
    "    cv_params = {'inner_model__inner_model__n_estimators': [1],#, 5, 10, 20, 50, 100], \n",
    "                 'feature_selection_threshold_coef': [0.1]}#, 1, 3, 10, 30, 100, 300]}\n",
    "    return MatrixCleaningWrapper(FeatureRelevanceNetworkWrapper(XGB(n_estimators=100), ModelBasedFeatureImportanceGetter(XGB())))"
   ]
  },
  {
   "cell_type": "code",
   "execution_count": null,
   "metadata": {
    "collapsed": true
   },
   "outputs": [],
   "source": []
  },
  {
   "cell_type": "code",
   "execution_count": 11,
   "metadata": {
    "collapsed": false,
    "scrolled": true
   },
   "outputs": [
    {
     "name": "stdout",
     "output_type": "stream",
     "text": [
      "cleaner (122, 2718)\n",
      "{'f949': 1, 'f904': 1, 'f532': 9, 'f606': 10, 'f2604': 9, 'f2193': 15, 'f160': 1, 'f2607': 5, 'f1285': 1, 'f554': 2, 'f1714': 1, 'f800': 1, 'f2391': 3, 'f511': 2, 'f2056': 5, 'f2054': 7, 'f213': 1, 'f1060': 11, 'f117': 6, 'f2375': 3, 'f6': 1, 'f202': 9, 'f225': 1, 'f2100': 1, 'f900': 4, 'f652': 1, 'f2401': 1, 'f2186': 6, 'f1111': 1, 'f972': 3, 'f2177': 1, 'f970': 1, 'f458': 18, 'f2409': 8, 'f996': 30, 'f588': 3, 'f2461': 3, 'f2077': 6, 'f964': 4, 'f932': 5, 'f2469': 1, 'f2379': 1, 'f2586': 8, 'f719': 10, 'f952': 4, 'f2460': 6, 'f955': 17, 'f92': 1, 'f1917': 2, 'f2168': 16, 'f544': 1, 'f353': 3, 'f2380': 11, 'f2381': 12, 'f2040': 1, 'f1873': 3, 'f2161': 8, 'f770': 6, 'f397': 2, 'f798': 1, 'f504': 3, 'f1401': 2, 'f2363': 11, 'f316': 6, 'f211': 3, 'f210': 2, 'f1286': 1, 'f1158': 1, 'f203': 4, 'f1994': 1, 'f1884': 1, 'f2439': 15, 'f2248': 1, 'f35': 9, 'f1543': 2, 'f2356': 8, 'f2418': 8, 'f2374': 2, 'f2373': 3, 'f1937': 3, 'f2370': 8}\n",
      "[ 0.  0.  0.  0.  0.  0.  1.  0.  0.  0.]\n",
      "0.150478292862 0.150478292862 1.0 0.150478292862\n",
      "<type 'numpy.ndarray'>\n",
      "shape: (122, 81)\n",
      "<type 'numpy.ndarray'>\n",
      "shape: (14, 81)\n",
      "<type 'numpy.ndarray'>\n",
      "cleaner (122, 2705)\n",
      "{'f2157': 14, 'f1185': 1, 'f534': 6, 'f1054': 6, 'f5': 1, 'f2171': 1, 'f607': 5, 'f2441': 1, 'f1713': 1, 'f902': 5, 'f946': 3, 'f1983': 6, 'f2277': 3, 'f1906': 3, 'f1499': 7, 'f2392': 8, 'f2034': 4, 'f2361': 7, 'f513': 6, 'f558': 1, 'f2398': 1, 'f438': 3, 'f117': 1, 'f2591': 3, 'f2439': 3, 'f49': 4, 'f2400': 4, 'f1712': 2, 'f1677': 2, 'f1162': 1, 'f2343': 11, 'f962': 4, 'f972': 1, 'f2444': 3, 'f994': 34, 'f995': 15, 'f2362': 3, 'f1577': 1, 'f1389': 2, 'f932': 2, 'f1974': 1, 'f2614': 1, 'f2589': 14, 'f867': 1, 'f954': 11, 'f955': 2, 'f2069': 9, 'f2336': 5, 'f2360': 3, 'f2384': 2, 'f542': 4, 'f95': 8, 'f2163': 2, 'f463': 26, 'f2045': 11, 'f1954': 2, 'f2325': 1, 'f317': 5, 'f1057': 1, 'f1056': 3, 'f1700': 4, 'f198': 18, 'f199': 2, 'f31': 12, 'f963': 8, 'f2411': 1, 'f1394': 2, 'f964': 2, 'f1892': 1, 'f969': 2, 'f2402': 1, 'f2418': 23}\n",
      "[ 0.  0.  0.  0.  0.  1.  0.  0.  0.  0.]\n",
      "0.139371534196 0.139371534196 1.0 0.139371534196\n",
      "<type 'numpy.ndarray'>\n",
      "shape: (122, 72)\n",
      "<type 'numpy.ndarray'>\n",
      "shape: (14, 72)\n",
      "<type 'numpy.ndarray'>\n",
      "cleaner (122, 2770)\n",
      "{'f886': 1, 'f121': 13, 'f2577': 1, 'f1748': 3, 'f2093': 1, 'f554': 3, 'f2336': 7, 'f617': 1, 'f2230': 19, 'f82': 1, 'f2030': 3, 'f476': 24, 'f2119': 2, 'f2235': 1, 'f1417': 4, 'f578': 1, 'f882': 1, 'f321': 1, 'f1166': 1, 'f208': 8, 'f209': 1, 'f1301': 2, 'f328': 1, 'f976': 1, 'f2343': 8, 'f2652': 3, 'f1384': 1, 'f2405': 8, 'f2427': 2, 'f2501': 6, 'f2425': 1, 'f2503': 2, 'f2423': 11, 'f2422': 5, 'f2421': 2, 'f613': 1, 'f327': 1, 'f2398': 2, 'f525': 4, 'f2145': 1, 'f912': 1, 'f2631': 5, 'f220': 2, 'f630': 21, 'f1844': 1, 'f2208': 2, 'f2081': 3, 'f975': 1, 'f2209': 2, 'f889': 2, 'f1916': 3, 'f987': 3, 'f794': 6, 'f96': 2, 'f2262': 9, 'f2106': 2, 'f99': 12, 'f2515': 5, 'f2227': 11, 'f1905': 1, 'f588': 1, 'f1075': 1, 'f1076': 3, 'f210': 10, 'f90': 3, 'f233': 12, 'f1126': 1, 'f1555': 1, 'f972': 5, 'f2654': 3, 'f2414': 4, 'f2415': 1, 'f1422': 8, 'f1011': 39, 'f2479': 25, 'f981': 2, 'f1209': 9}\n",
      "[ 0.  0.  0.  0.  0.  0.  0.  0.  0.  0.]\n",
      "0.137545126354 0.137545126354 1.0 0.137545126354\n",
      "<type 'numpy.ndarray'>\n",
      "shape: (122, 77)\n",
      "<type 'numpy.ndarray'>\n",
      "shape: (14, 77)\n",
      "<type 'numpy.ndarray'>\n",
      "cleaner (122, 2712)\n",
      "{'f2596': 3, 'f949': 11, 'f386': 5, 'f2153': 7, 'f928': 7, 'f725': 3, 'f943': 1, 'f2574': 4, 'f732': 2, 'f2334': 9, 'f1378': 1, 'f1590': 3, 'f2272': 4, 'f1180': 1, 'f513': 4, 'f1493': 2, 'f515': 1, 'f412': 1, 'f204': 4, 'f205': 3, 'f45': 1, 'f2151': 3, 'f321': 9, 'f2142': 1, 'f1041': 2, 'f1044': 5, 'f1046': 6, 'f2352': 3, 'f2400': 9, 'f2391': 2, 'f1384': 2, 'f88': 1, 'f2360': 10, 'f2361': 6, 'f2348': 4, 'f1803': 1, 'f2421': 21, 'f964': 6, 'f958': 3, 'f2065': 7, 'f2414': 3, 'f2201': 13, 'f950': 2, 'f2444': 1, 'f619': 9, 'f2446': 8, 'f1993': 2, 'f2442': 5, 'f402': 1, 'f1047': 1, 'f2169': 17, 'f96': 10, 'f2383': 8, 'f2145': 2, 'f2041': 7, 'f117': 5, 'f2045': 1, 'f2167': 3, 'f466': 22, 'f1572': 2, 'f1709': 3, 'f1403': 2, 'f1156': 2, 'f50': 1, 'f899': 6, 'f1269': 11, 'f697': 1, 'f230': 3, 'f218': 1, 'f33': 6, 'f1389': 6, 'f989': 37, 'f2359': 3, 'f543': 7, 'f73': 4}\n",
      "[ 0.  0.  0.  0.  0.  0.  0.  0.  0.  0.]\n",
      "0.144911504425 0.144911504425 1.0 0.144911504425\n",
      "<type 'numpy.ndarray'>\n",
      "shape: (122, 75)\n",
      "<type 'numpy.ndarray'>\n",
      "shape: (14, 75)\n",
      "<type 'numpy.ndarray'>\n",
      "cleaner (122, 2852)\n",
      "{'f2092': 1, 'f2155': 4, 'f699': 1, 'f6': 1, 'f2574': 6, 'f2551': 12, 'f921': 1, 'f923': 1, 'f539': 2, 'f2274': 10, 'f571': 2, 'f1808': 1, 'f649': 2, 'f769': 4, 'f2492': 9, 'f2493': 3, 'f101': 9, 'f605': 1, 'f1049': 28, 'f1006': 3, 'f123': 5, 'f1169': 2, 'f1235': 2, 'f243': 5, 'f1008': 17, 'f1009': 3, 'f771': 2, 'f820': 14, 'f1258': 7, 'f2180': 9, 'f1795': 1, 'f2731': 18, 'f2733': 3, 'f2291': 2, 'f1219': 2, 'f2577': 5, 'f1257': 2, 'f79': 1, 'f2531': 3, 'f2142': 3, 'f538': 1, 'f1473': 6, 'f1005': 2, 'f2710': 7, 'f2467': 9, 'f336': 1, 'f956': 6, 'f1580': 1, 'f55': 5, 'f2298': 5, 'f1815': 1, 'f802': 1, 'f2481': 1, 'f1112': 3, 'f2572': 1, 'f2484': 10, 'f1877': 1, 'f44': 3, 'f216': 1, 'f215': 13, 'f337': 12, 'f2272': 4, 'f1352': 1, 'f50': 1, 'f1489': 1, 'f1435': 2, 'f1173': 1, 'f1138': 2, 'f1977': 1, 'f1023': 1, 'f2474': 8, 'f227': 1, 'f2266': 1, 'f490': 21, 'f36': 7, 'f988': 3, 'f2729': 8, 'f1114': 3, 'f1111': 1, 'f1017': 5, 'f816': 1}\n",
      "[ 0.  0.  0.  0.  0.  0.  1.  0.  0.  0.]\n",
      "0.129733520337 0.129733520337 1.0 0.129733520337\n",
      "<type 'numpy.ndarray'>\n",
      "shape: (122, 81)\n",
      "<type 'numpy.ndarray'>\n",
      "shape: (14, 81)\n",
      "<type 'numpy.ndarray'>\n",
      "cleaner (122, 2692)\n",
      "{'f709': 5, 'f2156': 2, 'f2339': 4, 'f452': 21, 'f2578': 6, 'f2332': 2, 'f940': 15, 'f893': 4, 'f2395': 13, 'f789': 1, 'f2059': 9, 'f2393': 1, 'f768': 1, 'f2037': 6, 'f1494': 1, 'f2177': 2, 'f643': 2, 'f2351': 1, 'f1143': 3, 'f2172': 16, 'f308': 1, 'f202': 3, 'f2356': 3, 'f307': 8, 'f683': 1, 'f1044': 1, 'f1045': 3, 'f1699': 6, 'f1201': 2, 'f2346': 3, 'f1382': 7, 'f2355': 3, 'f1897': 2, 'f2349': 5, 'f346': 1, 'f1177': 5, 'f932': 1, 'f2141': 5, 'f677': 1, 'f2203': 1, 'f156': 1, 'f526': 7, 'f950': 1, 'f2149': 14, 'f597': 11, 'f918': 3, 'f955': 7, 'f2560': 5, 'f889': 9, 'f2023': 2, 'f1665': 3, 'f94': 6, 'f791': 5, 'f116': 6, 'f757': 2, 'f1918': 2, 'f2165': 8, 'f194': 7, 'f547': 2, 'f698': 1, 'f193': 9, 'f1268': 1, 'f218': 3, 'f2275': 11, 'f856': 2, 'f34': 13, 'f2436': 2, 'f2415': 27, 'f2359': 1, 'f949': 1, 'f2294': 1, 'f498': 2, 'f981': 40}\n",
      "[ 0.  0.  0.  0.  0.  0.  0.  0.  0.  0.]\n",
      "0.145616641902 0.145616641902 1.0 0.145616641902\n",
      "<type 'numpy.ndarray'>\n",
      "shape: (122, 73)\n",
      "<type 'numpy.ndarray'>\n",
      "shape: (14, 73)\n",
      "<type 'numpy.ndarray'>\n",
      "cleaner (123, 2852)\n",
      "{'f609': 1, 'f2275': 8, 'f2273': 1, 'f2181': 5, 'f2574': 3, 'f1251': 8, 'f1024': 5, 'f1252': 5, 'f992': 3, 'f1793': 2, 'f427': 2, 'f1769': 4, 'f2482': 1, 'f2487': 1, 'f2486': 2, 'f217': 13, 'f218': 1, 'f2475': 4, 'f1013': 3, 'f1012': 3, 'f1015': 14, 'f2157': 7, 'f2708': 10, 'f740': 2, 'f924': 1, 'f927': 4, 'f2554': 11, 'f341': 7, 'f342': 1, 'f2010': 1, 'f2493': 4, 'f1806': 3, 'f102': 3, 'f2494': 4, 'f2495': 11, 'f1007': 2, 'f1003': 1, 'f228': 2, 'f1009': 3, 'f820': 1, 'f821': 3, 'f824': 6, 'f2407': 15, 'f1472': 2, 'f2143': 1, 'f634': 2, 'f1666': 1, 'f1667': 1, 'f409': 1, 'f1875': 1, 'f1467': 2, 'f36': 10, 'f126': 6, 'f1613': 2, 'f2032': 1, 'f2547': 2, 'f2732': 7, 'f92': 2, 'f93': 1, 'f544': 1, 'f542': 1, 'f2585': 1, 'f653': 7, 'f1054': 23, 'f494': 25, 'f2533': 8, 'f2728': 8, 'f1117': 4, 'f1114': 2, 'f879': 1, 'f2457': 1, 'f575': 3, 'f2526': 1, 'f2525': 7, 'f2284': 2, 'f2468': 8, 'f2062': 2, 'f1348': 1, 'f2068': 1, 'f2104': 2, 'f961': 3, 'f2299': 15, 'f965': 4, 'f2516': 2, 'f2515': 3, 'f2293': 9, 'f1030': 1, 'f1033': 1, 'f1032': 2}\n",
      "[ 0.  0.  0.  0.  0.  0.  0.  0.  0.  0.]\n",
      "0.133941093969 0.133941093969 1.0 0.133941093969\n",
      "<type 'numpy.ndarray'>\n",
      "shape: (123, 89)\n",
      "<type 'numpy.ndarray'>\n",
      "shape: (13, 89)\n",
      "<type 'numpy.ndarray'>\n",
      "cleaner (123, 2765)\n",
      "{'f2211': 1, 'f2626': 4, 'f2076': 2, 'f2456': 13, 'f2454': 1, 'f6': 2, 'f2090': 11, 'f2194': 9, 'f2498': 4, 'f2391': 10, 'f2259': 9, 'f115': 6, 'f2496': 1, 'f911': 3, 'f2647': 3, 'f1414': 4, 'f1299': 2, 'f1001': 34, 'f1169': 1, 'f970': 1, 'f1734': 2, 'f2200': 5, 'f32': 5, 'f1419': 1, 'f2111': 1, 'f976': 5, 'f1555': 1, 'f2405': 2, 'f2448': 2, 'f971': 1, 'f2409': 3, 'f2501': 1, 'f2285': 1, 'f2331': 8, 'f2506': 1, 'f958': 3, 'f959': 1, 'f953': 1, 'f2202': 13, 'f409': 3, 'f1063': 3, 'f938': 2, 'f618': 8, 'f2447': 1, 'f955': 2, 'f2500': 1, 'f2026': 1, 'f94': 12, 'f2381': 2, 'f2220': 1, 'f463': 22, 'f2100': 1, 'f2227': 11, 'f44': 5, 'f196': 14, 'f197': 4, 'f316': 5, 'f1536': 2, 'f314': 1, 'f1408': 1, 'f783': 8, 'f961': 15, 'f2475': 24, 'f2645': 9, 'f1205': 3, 'f78': 1, 'f2417': 4, 'f2418': 15, 'f2649': 1, 'f816': 1}\n",
      "[ 0.  0.  0.  0.  0.  0.  2.  0.  0.  0.]\n",
      "0.130560578662 0.130560578662 1.0 0.130560578662\n",
      "<type 'numpy.ndarray'>\n",
      "shape: (123, 70)\n",
      "<type 'numpy.ndarray'>\n",
      "shape: (13, 70)\n",
      "<type 'numpy.ndarray'>\n",
      "cleaner (123, 2693)\n",
      "{'f2210': 1, 'f2176': 1, 'f534': 10, 'f86': 1, 'f1192': 2, 'f1193': 1, 'f456': 20, 'f2333': 9, 'f609': 7, 'f2317': 1, 'f2576': 2, 'f2557': 5, 'f2199': 3, 'f2159': 4, 'f870': 2, 'f503': 5, 'f556': 1, 'f557': 1, 'f262': 1, 'f2133': 8, 'f2271': 4, 'f644': 2, 'f903': 3, 'f2036': 3, 'f2139': 2, 'f2029': 1, 'f2075': 2, 'f1060': 3, 'f1061': 1, 'f201': 1, 'f202': 7, 'f203': 7, 'f1167': 1, 'f1308': 10, 'f724': 2, 'f1248': 10, 'f1233': 1, 'f2343': 2, 'f1217': 1, 'f2428': 11, 'f2409': 21, 'f997': 29, 'f958': 8, 'f2141': 14, 'f869': 2, 'f935': 12, 'f159': 1, 'f2340': 1, 'f2379': 1, 'f955': 2, 'f2579': 1, 'f2049': 3, 'f93': 10, 'f1263': 4, 'f956': 1, 'f774': 10, 'f116': 2, 'f2166': 14, 'f2388': 13, 'f1535': 2, 'f312': 3, 'f313': 2, 'f311': 3, 'f1058': 1, 'f1408': 4, 'f1171': 4, 'f1284': 1, 'f46': 1, 'f2578': 1, 'f717': 1, 'f2351': 18, 'f1467': 6, 'f592': 10, 'f962': 1, 'f34': 7, 'f1684': 1, 'f967': 5, 'f1672': 7, 'f2430': 4, 'f2371': 1}\n",
      "[ 0.  0.  0.  0.  0.  0.  0.  0.  0.  0.]\n",
      "0.145191236539 0.145191236539 1.0 0.145191236539\n",
      "<type 'numpy.ndarray'>\n",
      "shape: (123, 80)\n",
      "<type 'numpy.ndarray'>\n",
      "shape: (13, 80)\n",
      "<type 'numpy.ndarray'>\n",
      "cleaner (123, 2855)\n",
      "{'f169': 1, 'f2157': 8, 'f2579': 3, 'f5': 2, 'f6': 1, 'f122': 3, 'f2577': 1, 'f2557': 24, 'f920': 1, 'f572': 5, 'f2498': 2, 'f2499': 6, 'f2120': 2, 'f2270': 6, 'f1902': 1, 'f2593': 2, 'f2491': 7, 'f2057': 1, 'f2278': 16, 'f100': 6, 'f1005': 20, 'f226': 3, 'f1002': 4, 'f242': 1, 'f1045': 34, 'f1046': 17, 'f641': 1, 'f2736': 5, 'f2734': 5, 'f1109': 1, 'f2732': 7, 'f2182': 6, 'f2500': 15, 'f1253': 3, 'f917': 1, 'f999': 2, 'f2531': 3, 'f489': 23, 'f2276': 1, 'f1473': 3, 'f1348': 1, 'f952': 2, 'f2712': 5, 'f2302': 13, 'f336': 2, 'f1774': 3, 'f2336': 2, 'f92': 2, 'f2414': 10, 'f759': 2, 'f1810': 1, 'f55': 1, 'f1663': 1, 'f2480': 5, 'f462': 7, 'f2487': 2, 'f650': 5, 'f335': 2, 'f215': 2, 'f214': 7, 'f213': 1, 'f2581': 1, 'f2430': 1, 'f2521': 4, 'f983': 1, 'f231': 2, 'f819': 2, 'f1429': 1, 'f1020': 1, 'f36': 15, 'f2473': 6, 'f1013': 1, 'f2538': 5, 'f1112': 2, 'f2295': 1, 'f1015': 2, 'f1014': 8}\n",
      "[ 0.  0.  0.  0.  0.  2.  1.  0.  0.  0.]\n",
      "0.133800350263 0.133800350263 1.0 0.133800350263\n",
      "<type 'numpy.ndarray'>\n",
      "shape: (123, 77)\n",
      "<type 'numpy.ndarray'>\n",
      "shape: (13, 77)\n",
      "<type 'numpy.ndarray'>\n"
     ]
    },
    {
     "data": {
      "text/plain": [
       "{('xgboost',\n",
       "  u'ETHI: Ethionamide/ Prothionamide '): {'accuracy': 0.82352941176470584, 'confusion matrix': array([[94,  6],\n",
       "         [18, 18]])}}"
      ]
     },
     "execution_count": 11,
     "metadata": {},
     "output_type": "execute_result"
    }
   ],
   "source": [
    "model = get_complete_tree_based_model()\n",
    "test_models_with_drugs([('xgboost', model)], [u'ETHI: Ethionamide/ Prothionamide '], metrics=['accuracy', 'confusion matrix'])"
   ]
  },
  {
   "cell_type": "code",
   "execution_count": 12,
   "metadata": {
    "collapsed": true
   },
   "outputs": [],
   "source": [
    "X = get_data_keeper().get_common_x()"
   ]
  },
  {
   "cell_type": "code",
   "execution_count": 13,
   "metadata": {
    "collapsed": true
   },
   "outputs": [],
   "source": [
    "from testing import results_differ_p_value"
   ]
  },
  {
   "cell_type": "code",
   "execution_count": 14,
   "metadata": {
    "collapsed": false
   },
   "outputs": [
    {
     "data": {
      "text/plain": [
       "0.077071286548999973"
      ]
     },
     "execution_count": 14,
     "metadata": {},
     "output_type": "execute_result"
    }
   ],
   "source": [
    "results_differ_p_value([0] * 100 + [1] * 32, [0] * 100 + [1] * 32, [0] * 99 + [1] * 32 + [0])"
   ]
  },
  {
   "cell_type": "code",
   "execution_count": 15,
   "metadata": {
    "collapsed": false
   },
   "outputs": [],
   "source": [
    "from generate_subsets_for_common_x import get_ready_generator"
   ]
  },
  {
   "cell_type": "code",
   "execution_count": 16,
   "metadata": {
    "collapsed": false
   },
   "outputs": [
    {
     "data": {
      "text/plain": [
       "(<wrappers.SubsetGeneratorWrapper at 0x7f62cd985890>,\n",
       "           698  1594  1771  4086  7570  7572  7581  7582  8040  9841   ...     \\\n",
       " #snp_pos                                                              ...      \n",
       " G55413      0     0     0     1     1     0     0     0     0     0   ...      \n",
       " G55414      0     1     0     1     0     0     0     0     0     0   ...      \n",
       " G55415      0     0     0     0     0     0     0     0     0     0   ...      \n",
       " G55416      0     0     0     1     0     0     0     0     0     0   ...      \n",
       " G55417      0     0     0     0     0     0     0     0     0     0   ...      \n",
       " G55418      0     0     0     1     1     0     0     0     0     0   ...      \n",
       " G55419      0     0     0     0     0     0     0     0     0     0   ...      \n",
       " G55421      0     1     0     1     0     0     0     1     0     0   ...      \n",
       " G55422      0     0     0     0     0     0     0     0     0     0   ...      \n",
       " G55423      0     0     0     0     0     0     0     0     0     0   ...      \n",
       " G55424      0     0     0     0     0     0     0     0     0     0   ...      \n",
       " G55425      0     1     0     0     0     0     0     0     0     0   ...      \n",
       " G55426      0     0     0     0     0     0     0     0     0     0   ...      \n",
       " G55427      0     1     0     1     0     0     0     0     0     0   ...      \n",
       " G55428      0     0     0     1     0     0     0     1     0     0   ...      \n",
       " G55429      1     0     0     0     0     0     0     0     1     0   ...      \n",
       " G55430      0     0     0     0     0     0     0     0     0     0   ...      \n",
       " G55431      1     0     0     0     0     0     0     0     1     0   ...      \n",
       " G55432      0     0     0     0     0     0     0     0     0     0   ...      \n",
       " G55433      0     0     0     0     0     0     0     0     0     0   ...      \n",
       " G55435      1     0     0     0     0     0     1     0     1     0   ...      \n",
       " G55436      0     0     0     0     0     0     0     0     0     0   ...      \n",
       " G55438      0     1     0     1     0     0     0     1     0     0   ...      \n",
       " G55439      0     0     0     0     0     0     0     0     0     0   ...      \n",
       " G55440      0     0     0     1     0     0     0     0     0     0   ...      \n",
       " G55441      0     0     0     1     0     0     0     1     0     0   ...      \n",
       " G55442      0     0     0     1     0     0     0     0     0     0   ...      \n",
       " G55443      1     0     0     0     1     0     0     0     1     0   ...      \n",
       " G55444      0     0     0     0     0     0     0     1     0     0   ...      \n",
       " G55445      0     0     0     1     0     0     0     0     0     0   ...      \n",
       " ...       ...   ...   ...   ...   ...   ...   ...   ...   ...   ...   ...      \n",
       " G55535      0     1     0     1     0     0     0     0     0     0   ...      \n",
       " G55536      0     1     0     1     0     0     0     0     0     0   ...      \n",
       " G55537      1     0     0     0     0     0     0     0     1     0   ...      \n",
       " G55538      0     1     0     1     0     0     0     0     0     0   ...      \n",
       " G55539      0     0     0     1     0     0     0     1     0     0   ...      \n",
       " G55540      1     0     0     0     0     0     0     0     1     0   ...      \n",
       " G55541      1     0     0     0     1     0     0     0     1     0   ...      \n",
       " G55542      0     0     0     1     0     0     0     1     0     0   ...      \n",
       " G55543      0     0     0     0     0     0     0     0     1     0   ...      \n",
       " G55544      0     1     0     1     0     0     0     1     0     0   ...      \n",
       " G55545      0     0     0     0     0     0     0     0     0     0   ...      \n",
       " G55546      0     0     0     0     0     0     0     0     0     0   ...      \n",
       " G55547      0     1     0     1     0     0     0     1     0     0   ...      \n",
       " G55548      0     1     0     1     0     1     0     0     0     0   ...      \n",
       " G55549      1     0     0     0     0     0     0     0     1     0   ...      \n",
       " G55550      0     1     0     1     0     0     0     1     0     0   ...      \n",
       " G55551      1     0     0     0     0     0     0     0     1     0   ...      \n",
       " G55552      1     0     0     0     1     0     0     0     1     0   ...      \n",
       " G55553      0     0     0     0     0     0     0     0     0     0   ...      \n",
       " G55554      0     1     0     1     1     0     0     0     0     0   ...      \n",
       " G55555      0     1     0     1     0     0     0     0     0     0   ...      \n",
       " G55556      0     1     0     1     0     0     0     0     0     0   ...      \n",
       " G55557      0     0     0     0     0     0     0     0     0     0   ...      \n",
       " G55558      1     0     0     0     1     0     0     0     1     0   ...      \n",
       " G55559      0     1     0     1     0     0     0     1     0     0   ...      \n",
       " G55560      0     1     0     0     0     0     0     0     0     0   ...      \n",
       " G55561      0     1     0     0     0     0     0     0     0     0   ...      \n",
       " G55563      0     0     0     0     0     0     0     0     0     0   ...      \n",
       " G55565      0     1     0     1     0     0     0     0     0     0   ...      \n",
       " G55566      0     0     0     0     0     0     0     0     0     0   ...      \n",
       " \n",
       "           4399363  4399861  4400424  4404211  4405009  4406293  4406543  \\\n",
       " #snp_pos                                                                  \n",
       " G55413          0        1        0        0        0        0        0   \n",
       " G55414          0        1        0        0        0        0        0   \n",
       " G55415          0        0        0        0        0        0        0   \n",
       " G55416          0        1        0        0        0        0        0   \n",
       " G55417          0        0        0        0        0        0        0   \n",
       " G55418          0        1        0        0        0        0        0   \n",
       " G55419          0        0        0        0        0        0        0   \n",
       " G55421          0        1        0        0        0        0        0   \n",
       " G55422          0        0        0        0        0        0        0   \n",
       " G55423          0        0        0        0        0        0        0   \n",
       " G55424          0        0        0        0        0        0        0   \n",
       " G55425          0        0        0        0        0        0        0   \n",
       " G55426          0        0        0        0        0        0        0   \n",
       " G55427          0        1        0        0        0        0        0   \n",
       " G55428          0        1        0        0        0        0        0   \n",
       " G55429          0        0        0        0        0        0        0   \n",
       " G55430          0        0        0        0        0        0        0   \n",
       " G55431          0        0        0        0        0        0        0   \n",
       " G55432          0        0        0        0        0        0        0   \n",
       " G55433          0        0        0        0        0        0        0   \n",
       " G55435          0        0        0        0        0        0        0   \n",
       " G55436          0        0        0        0        0        0        0   \n",
       " G55438          0        1        0        0        0        0        0   \n",
       " G55439          0        0        0        0        0        0        0   \n",
       " G55440          0        1        0        0        0        0        0   \n",
       " G55441          0        1        0        0        0        0        0   \n",
       " G55442          0        1        0        0        0        0        0   \n",
       " G55443          0        0        0        0        0        0        0   \n",
       " G55444          0        0        0        0        0        0        0   \n",
       " G55445          0        1        0        0        0        0        0   \n",
       " ...           ...      ...      ...      ...      ...      ...      ...   \n",
       " G55535          0        1        0        0        0        0        0   \n",
       " G55536          0        1        0        0        0        0        0   \n",
       " G55537          0        0        0        0        0        0        0   \n",
       " G55538          0        1        0        0        0        0        0   \n",
       " G55539          0        1        0        0        0        0        0   \n",
       " G55540          0        0        0        0        0        0        0   \n",
       " G55541          0        0        0        0        0        0        0   \n",
       " G55542          0        1        0        0        0        0        0   \n",
       " G55543          0        0        0        0        0        0        0   \n",
       " G55544          0        1        0        0        0        0        0   \n",
       " G55545          0        0        0        0        0        0        0   \n",
       " G55546          0        0        0        0        0        0        0   \n",
       " G55547          0        1        0        0        0        0        0   \n",
       " G55548          0        1        0        0        0        0        0   \n",
       " G55549          0        0        0        0        0        0        0   \n",
       " G55550          0        0        0        0        0        0        0   \n",
       " G55551          0        0        0        0        0        0        0   \n",
       " G55552          0        0        0        0        0        0        0   \n",
       " G55553          1        0        1        1        1        0        0   \n",
       " G55554          0        1        0        0        0        0        0   \n",
       " G55555          0        1        0        0        0        0        0   \n",
       " G55556          0        1        0        0        0        0        0   \n",
       " G55557          1        0        1        1        1        0        0   \n",
       " G55558          0        0        0        0        0        0        0   \n",
       " G55559          0        1        0        0        0        0        0   \n",
       " G55560          0        0        0        0        0        0        0   \n",
       " G55561          0        0        0        0        0        0        0   \n",
       " G55563          0        0        1        0        0        0        0   \n",
       " G55565          0        1        0        0        0        0        0   \n",
       " G55566          0        0        0        0        0        0        0   \n",
       " \n",
       "           4408333  4408390  4408724  \n",
       " #snp_pos                             \n",
       " G55413          0        0        0  \n",
       " G55414          0        0        0  \n",
       " G55415          0        0        1  \n",
       " G55416          0        0        0  \n",
       " G55417          0        0        0  \n",
       " G55418          0        0        0  \n",
       " G55419          0        0        0  \n",
       " G55421          0        0        0  \n",
       " G55422          0        0        0  \n",
       " G55423          0        0        1  \n",
       " G55424          0        0        0  \n",
       " G55425          0        0        1  \n",
       " G55426          0        0        0  \n",
       " G55427          0        0        0  \n",
       " G55428          0        0        0  \n",
       " G55429          1        0        0  \n",
       " G55430          0        0        1  \n",
       " G55431          1        0        0  \n",
       " G55432          0        0        0  \n",
       " G55433          0        0        0  \n",
       " G55435          1        0        0  \n",
       " G55436          0        0        0  \n",
       " G55438          0        0        0  \n",
       " G55439          0        0        1  \n",
       " G55440          0        0        0  \n",
       " G55441          0        0        0  \n",
       " G55442          0        0        0  \n",
       " G55443          1        0        0  \n",
       " G55444          0        0        0  \n",
       " G55445          0        0        0  \n",
       " ...           ...      ...      ...  \n",
       " G55535          0        0        0  \n",
       " G55536          0        0        0  \n",
       " G55537          1        0        0  \n",
       " G55538          0        0        0  \n",
       " G55539          0        0        0  \n",
       " G55540          1        0        0  \n",
       " G55541          1        0        0  \n",
       " G55542          0        0        0  \n",
       " G55543          1        0        0  \n",
       " G55544          0        0        0  \n",
       " G55545          0        0        0  \n",
       " G55546          0        0        0  \n",
       " G55547          0        0        0  \n",
       " G55548          0        0        0  \n",
       " G55549          1        0        0  \n",
       " G55550          0        0        0  \n",
       " G55551          1        0        0  \n",
       " G55552          1        0        0  \n",
       " G55553          0        0        0  \n",
       " G55554          0        0        0  \n",
       " G55555          0        0        0  \n",
       " G55556          0        0        0  \n",
       " G55557          0        0        0  \n",
       " G55558          1        0        0  \n",
       " G55559          0        0        0  \n",
       " G55560          0        0        0  \n",
       " G55561          0        0        0  \n",
       " G55563          0        0        0  \n",
       " G55565          0        0        0  \n",
       " G55566          0        0        0  \n",
       " \n",
       " [142 rows x 3175 columns])"
      ]
     },
     "execution_count": 16,
     "metadata": {},
     "output_type": "execute_result"
    }
   ],
   "source": [
    "res = get_ready_generator()\n",
    "res"
   ]
  },
  {
   "cell_type": "code",
   "execution_count": 17,
   "metadata": {
    "collapsed": false
   },
   "outputs": [],
   "source": [
    "generator, X = res"
   ]
  },
  {
   "cell_type": "code",
   "execution_count": 18,
   "metadata": {
    "collapsed": true
   },
   "outputs": [],
   "source": [
    "def and_arrays(arrays):\n",
    "    print arrays.shape\n",
    "    arrays_sum = arrays.sum(axis=0)\n",
    "    return (arrays_sum == len(arrays)).astype(arrays.dtype)"
   ]
  },
  {
   "cell_type": "code",
   "execution_count": 19,
   "metadata": {
    "collapsed": false
   },
   "outputs": [],
   "source": [
    "import time\n",
    "import numpy as np\n",
    "\n",
    "class ExtenderStrategy(object):\n",
    "    def __init__(self, max_features, priority_getter, pre_filter, generator, max_index=150):\n",
    "        self._max_features = max_features\n",
    "        self._generator = generator\n",
    "        self._max_features_sets_storing = 1000000\n",
    "        assert self._max_features_sets_storing > 2 * max_features\n",
    "        self._best_feature_sets = list()\n",
    "        self._max_index = max_index\n",
    "        self._priority_getter = priority_getter\n",
    "        self._pre_filter_strategy = pre_filter\n",
    "        \n",
    "    def set_generator(self, generator):\n",
    "        self._generator = generator\n",
    "        \n",
    "    def _generate_candidates(self):\n",
    "        start_time = time.time()\n",
    "        print self._generator.get_sets_count()\n",
    "        for i in xrange(self._generator.get_sets_count()):\n",
    "            yield self._get_translated_indexes(self._generator.get_set(i))\n",
    "            \n",
    "    def _pre_filter(self, candidate):\n",
    "        return self._pre_filter_strategy.pre_filter(candidate)\n",
    "    \n",
    "    def _estimate_parameters(self, simple_features, y, indexes):\n",
    "        self._priority_getter.estimate_parameters(self._generate_candidates(), simple_features, y, self._generator, indexes)\n",
    "        \n",
    "    def _set_indexes(self, indexes):\n",
    "        self._index_translation = -1 * np.ones(self._max_index, dtype=np.int32)\n",
    "        for i, el in enumerate(indexes):\n",
    "            self._index_translation[el] = i\n",
    "        \n",
    "    def _get_translated_indexes(self, candidate):\n",
    "        translated_indexes_with_garbage = self._index_translation[candidate]\n",
    "        return translated_indexes_with_garbage[translated_indexes_with_garbage >= 0]\n",
    "        \n",
    "    def _get_simple_feature_indexes(self, simple_features, candidate_feature_rows, candidate):\n",
    "        return and_arrays(candidate_feature_rows).nonzero()[0]\n",
    "        \n",
    "    def _set_result_feature_sets(self, feature_sets):\n",
    "        self._result_feature_sets = feature_sets\n",
    "        \n",
    "    def _get_top_priority_feature_sets(self):\n",
    "        return sorted(self._best_feature_sets, reverse=True, key=lambda x: x[0])[:self._max_features]\n",
    "    \n",
    "    def _clean_storing_feature_sets(self):\n",
    "        self._best_feature_sets = self._get_top_priority_feature_sets()\n",
    "    \n",
    "    def _get_candidate_priority(self, candidate, y_values, simple_feature_indexes):\n",
    "        return self._priority_getter.get_candidate_priority(candidate, y_values, simple_feature_indexes)\n",
    "        \n",
    "    def fit(self, simple_features, y, indexes):\n",
    "        if self._generator is None:\n",
    "            raise KeyError(\"generator should be setted\")\n",
    "        indexes = indexes.ravel()\n",
    "        print indexes\n",
    "        self._set_indexes(indexes)\n",
    "        self._estimate_parameters(simple_features, y, indexes)\n",
    "        with self._priority_getter:\n",
    "            for candidate_index, candidate in enumerate(self._generate_candidates()):\n",
    "                if self._pre_filter(candidate):\n",
    "                    candidate_feature_rows = simple_features[candidate]\n",
    "                    y_values = y[candidate]\n",
    "                    simple_feature_indexes = self._get_simple_feature_indexes(simple_features, candidate_feature_rows, candidate)\n",
    "                    priority = self._get_candidate_priority(candidate, y_values, simple_feature_indexes, candidate_index)\n",
    "                    if priority > 0:\n",
    "                        print \"append\"\n",
    "                        self._best_feature_sets.append((priority, simple_feature_indexes))\n",
    "                        if len(self._best_feature_sets) > self._max_features_sets_storing:\n",
    "                            self._clean_storing_feature_sets()\n",
    "        self._set_result_feature_sets([el[1] for el in self._get_top_priority_feature_sets()])\n",
    "        return self\n",
    "    \n",
    "    def transform(self, simple_features):\n",
    "        to_add = np.zeros((simple_features.shape[0], len(self._result_feature_sets)), dtype=np.int32)\n",
    "        for i, simple_features_indexes in enumerate(self._result_feature_sets):\n",
    "            simple_features_values = simple_features[:,simple_features_indexes]\n",
    "            result = and_arrays(simple_features_values.T)\n",
    "            print to_add.shape, result.shape\n",
    "            to_add[:,i] = result\n",
    "        return np.concatenate((simple_features, to_add), axis=1)"
   ]
  },
  {
   "cell_type": "code",
   "execution_count": 20,
   "metadata": {
    "collapsed": true
   },
   "outputs": [],
   "source": [
    "class MinSizePreFilter(object):\n",
    "    def __init__(self, min_size):\n",
    "        self._min_size = min_size\n",
    "    \n",
    "    def pre_filter(self, candidate):\n",
    "        return len(candidate) >= self._min_size"
   ]
  },
  {
   "cell_type": "code",
   "execution_count": null,
   "metadata": {
    "collapsed": false
   },
   "outputs": [],
   "source": []
  },
  {
   "cell_type": "code",
   "execution_count": 21,
   "metadata": {
    "collapsed": false
   },
   "outputs": [],
   "source": [
    "class SimplePriorityGetter(object):\n",
    "    def estimate_parameters(self, candidates_iterator, simple_features, y, generator, indexes):\n",
    "        true_y_indexes = list()\n",
    "        for i in xrange(len(indexes)):\n",
    "            if y[i]:\n",
    "                true_y_indexes.append(indexes[i])\n",
    "        true_y_indexes = np.array(true_y_indexes)\n",
    "        print true_y_indexes\n",
    "        self._true_y_indexes = true_y_indexes\n",
    "        self._generator = generator\n",
    "        \n",
    "    def get_candidate_priority(self, candidate, y_values, simple_feature_indexes, candidate_index):\n",
    "        print y_values, \n",
    "        if y_values.sum() < len(y_values) or len(y_values) < 3:\n",
    "            result = -1\n",
    "        else:\n",
    "            result = 3 + len(y_values) - len(simple_feature_indexes)\n",
    "        print result\n",
    "        return result\n",
    "        \n",
    "    def __enter__(self):\n",
    "        self._generator.set_filtered_have_ones_in_positions(self._true_y_indexes)\n",
    "        \n",
    "    def __exit__(self, type, value, tb):\n",
    "        self._generator.restore()\n",
    "    "
   ]
  },
  {
   "cell_type": "code",
   "execution_count": 168,
   "metadata": {
    "collapsed": true
   },
   "outputs": [],
   "source": [
    "from scipy.optimize import minimize\n",
    "from scipy.special import betaln\n",
    "\n",
    "class ValidityCalculator(object):\n",
    "    def __init__(self, all_true_statistics):\n",
    "        self._all_true_statistics_reduced = list()\n",
    "        for i, row in enumerate(all_true_statistics):\n",
    "            for j, val in enumerate(row):\n",
    "                if val != 0:\n",
    "                    assert i >= j\n",
    "                    self._all_true_statistics_reduced.append((i, j, val))\n",
    "                \n",
    "    def __call__(self, (a, b)):\n",
    "        ans = 0.0\n",
    "        for i, j, val in self._all_true_statistics_reduced:\n",
    "            ans += (betaln(a + j, b + i - j) - betaln(a, b)) * val\n",
    "        return -ans\n",
    "    \n",
    "    \n",
    "class BayesBasedPriorityGetter(object):\n",
    "    def __init__(self, max_features, reg_param=None):\n",
    "        self._reg_param = reg_param\n",
    "        self._max_features = max_features\n",
    "        \n",
    "    def estimate_parameters(self, candidates_iterator, simple_features, y, generator, indexes):\n",
    "        self._generator = generator\n",
    "        self._y = y.astype(np.int32)\n",
    "        self._indexes = indexes.astype(np.int32)\n",
    "        if self._reg_param is None:\n",
    "            print y.dtype, indexes.dtype\n",
    "            all_true_statistics = generator.get_count_and_y_true_statistics(self._y, self._indexes)\n",
    "            validity_calculator = ValidityCalculator(all_true_statistics)\n",
    "            ret = minimize(validity_calculator, [1, 1], bounds=[(-1, 1e4), (-1, 1e4)], \n",
    "                           method='Nelder-Mead', \n",
    "                           options={'maxiter': 1000, 'maxfev':10000, 'xtol'})\n",
    "            print ret\n",
    "            assert ret.success\n",
    "            self._ret_param = ret.x\n",
    "            \n",
    "    def __enter__(self):\n",
    "        alpha_reg, beta_reg = self._reg_param\n",
    "        self._generator.set_filtered_best_beta_binomial(alpha_reg, beta_reg, self._y, self._indexes, self._max_features)\n",
    "        \n",
    "    def __exit__(self, type, value, tb):\n",
    "        self._generator.restore()\n",
    "    \n",
    "    def get_candidate_priority(self, candidate, y_values, simple_feature_indexes, candidate_index):\n",
    "        return 1e9 - candidate_index"
   ]
  },
  {
   "cell_type": "code",
   "execution_count": 169,
   "metadata": {
    "collapsed": false
   },
   "outputs": [],
   "source": [
    "from sklearn.base import BaseEstimator\n",
    "class ComplexFeaturesAdderWrapper(BaseEstimator):\n",
    "    def __init__(self, inner_model, matrix_before_generating, features_names, objects_names, extender_strategy):\n",
    "        self.inner_model = inner_model\n",
    "        self.matrix_before_generating = matrix_before_generating\n",
    "        self.features_names = features_names\n",
    "        self.extender_strategy = extender_strategy\n",
    "        self.objects_names = objects_names\n",
    "        \n",
    "    def _get_simple_features(self, indexes):\n",
    "        return self.matrix_before_generating[indexes]\n",
    "    \n",
    "    def _fit_feature_extender(self, simple_features, y, indexes):\n",
    "        self.extender_strategy.fit(simple_features, y, indexes)\n",
    "    \n",
    "    def _extend_features(self, simple_features):\n",
    "        return self.extender_strategy.transform(simple_features)\n",
    "        \n",
    "    def fit(self, indexes=None, y=None, simple_features=None):\n",
    "        indexes = indexes.ravel()\n",
    "        if y is None:\n",
    "            raise KeyError(\"y should be setted\")\n",
    "        if simple_features is None:\n",
    "            simple_features = self._get_simple_features(indexes)\n",
    "        else:\n",
    "            simple_features = simple_features[self.features_names]\n",
    "        self._fit_feature_extender(simple_features, y, indexes)\n",
    "        extended_features = self._extend_features(simple_features)\n",
    "        self.inner_model.fit(extended_features, y)\n",
    "        return self\n",
    "    \n",
    "    def predict(self, indexes=None, simple_features=None):\n",
    "        if simple_features is None:\n",
    "            if indexes is None:\n",
    "                raise KeyError(\"either simple_features or indexes should be setted\")\n",
    "            indexes = indexes.ravel()\n",
    "            simple_features = self._get_simple_features(indexes)\n",
    "        extended_features = self._extend_features(simple_features)\n",
    "        return self.inner_model.predict(extended_features)"
   ]
  },
  {
   "cell_type": "code",
   "execution_count": 170,
   "metadata": {
    "collapsed": false
   },
   "outputs": [],
   "source": [
    "def get_simple_feature_adder_wrapper(inner_model, max_features_to_add):\n",
    "    generator, matrix_before_generating = get_ready_generator()\n",
    "    priority_getter = BayesBasedPriorityGetter(max_features_to_add)\n",
    "    pre_filter = MinSizePreFilter(min_size=1)\n",
    "    extender_strategy = ExtenderStrategy(max_features=1000, \n",
    "                                         priority_getter=priority_getter, \n",
    "                                         pre_filter=pre_filter,\n",
    "                                         generator=get_ready_generator()[0])\n",
    "    return ComplexFeaturesAdderWrapper(inner_model=inner_model, \n",
    "                                       matrix_before_generating=matrix_before_generating.as_matrix(),\n",
    "                                       features_names=list(matrix_before_generating.columns.values),\n",
    "                                       objects_names=list(matrix_before_generating.index),\n",
    "                                       extender_strategy=extender_strategy)"
   ]
  },
  {
   "cell_type": "code",
   "execution_count": 171,
   "metadata": {
    "collapsed": false
   },
   "outputs": [],
   "source": [
    "from sklearn.linear_model import LogisticRegression\n",
    "simple_feature_adder_wrapper = get_simple_feature_adder_wrapper(LogisticRegression(), 1000)"
   ]
  },
  {
   "cell_type": "code",
   "execution_count": 172,
   "metadata": {
    "collapsed": false
   },
   "outputs": [
    {
     "data": {
      "text/plain": [
       "(142, 3175)"
      ]
     },
     "execution_count": 172,
     "metadata": {},
     "output_type": "execute_result"
    }
   ],
   "source": [
    "simple_feature_adder_wrapper.matrix_before_generating.shape"
   ]
  },
  {
   "cell_type": "code",
   "execution_count": 173,
   "metadata": {
    "collapsed": false
   },
   "outputs": [],
   "source": [
    "X, y = get_data_keeper().get_train_data('ETHI: Ethionamide/ Prothionamide ')"
   ]
  },
  {
   "cell_type": "code",
   "execution_count": 174,
   "metadata": {
    "collapsed": false
   },
   "outputs": [],
   "source": [
    "possible_objects = set(y.index)"
   ]
  },
  {
   "cell_type": "code",
   "execution_count": 175,
   "metadata": {
    "collapsed": false
   },
   "outputs": [],
   "source": [
    "indexes = list()\n",
    "y_refactored = list()\n",
    "\n",
    "for i, el in enumerate(simple_feature_adder_wrapper.objects_names):\n",
    "    if el in possible_objects:\n",
    "        indexes.append(i)\n",
    "        y_refactored.append(y[el])\n",
    "y_refactored = np.array(y_refactored)\n",
    "indexes = np.array(indexes)\n",
    "indexes = indexes.reshape((indexes.shape[0], 1))"
   ]
  },
  {
   "cell_type": "code",
   "execution_count": 176,
   "metadata": {
    "collapsed": false
   },
   "outputs": [
    {
     "data": {
      "text/plain": [
       "136"
      ]
     },
     "execution_count": 176,
     "metadata": {},
     "output_type": "execute_result"
    }
   ],
   "source": [
    "len(indexes)"
   ]
  },
  {
   "cell_type": "code",
   "execution_count": 177,
   "metadata": {
    "collapsed": false
   },
   "outputs": [
    {
     "data": {
      "text/plain": [
       "106625438"
      ]
     },
     "execution_count": 177,
     "metadata": {},
     "output_type": "execute_result"
    }
   ],
   "source": [
    "get_ready_generator()[0].get_sets_count()"
   ]
  },
  {
   "cell_type": "code",
   "execution_count": 178,
   "metadata": {
    "collapsed": false
   },
   "outputs": [],
   "source": [
    "import sys\n",
    "stdout = sys.stdout\n",
    "stderr = sys.stderr"
   ]
  },
  {
   "cell_type": "code",
   "execution_count": 179,
   "metadata": {
    "collapsed": false
   },
   "outputs": [
    {
     "ename": "AssertionError",
     "evalue": "",
     "output_type": "error",
     "traceback": [
      "\u001b[1;31m---------------------------------------------------------------------------\u001b[0m",
      "\u001b[1;31mAssertionError\u001b[0m                            Traceback (most recent call last)",
      "\u001b[1;32m<ipython-input-179-40c602058d3c>\u001b[0m in \u001b[0;36m<module>\u001b[1;34m()\u001b[0m\n\u001b[0;32m      3\u001b[0m \u001b[1;32mfrom\u001b[0m \u001b[0mwrappers\u001b[0m \u001b[1;32mimport\u001b[0m \u001b[0mXGBoostClassifierFeatureImportances\u001b[0m \u001b[1;32mas\u001b[0m \u001b[0mXGB\u001b[0m\u001b[1;33m\u001b[0m\u001b[0m\n\u001b[0;32m      4\u001b[0m \u001b[0msys\u001b[0m\u001b[1;33m.\u001b[0m\u001b[0mstdout\u001b[0m \u001b[1;33m=\u001b[0m \u001b[0msys\u001b[0m\u001b[1;33m.\u001b[0m\u001b[0mstderr\u001b[0m \u001b[1;33m=\u001b[0m \u001b[0mopen\u001b[0m\u001b[1;33m(\u001b[0m\u001b[1;34m\"cross_val.log\"\u001b[0m\u001b[1;33m,\u001b[0m \u001b[1;34m\"w\"\u001b[0m\u001b[1;33m)\u001b[0m\u001b[1;33m\u001b[0m\u001b[0m\n\u001b[1;32m----> 5\u001b[1;33m \u001b[0mcross_val_score\u001b[0m\u001b[1;33m(\u001b[0m\u001b[0msimple_feature_adder_wrapper\u001b[0m\u001b[1;33m,\u001b[0m \u001b[0mindexes\u001b[0m\u001b[1;33m,\u001b[0m \u001b[0my_refactored\u001b[0m\u001b[1;33m,\u001b[0m \u001b[0mscoring\u001b[0m\u001b[1;33m=\u001b[0m\u001b[0mmake_scorer\u001b[0m\u001b[1;33m(\u001b[0m\u001b[0maccuracy_score\u001b[0m\u001b[1;33m)\u001b[0m\u001b[1;33m,\u001b[0m \u001b[0mcv\u001b[0m\u001b[1;33m=\u001b[0m\u001b[1;36m10\u001b[0m\u001b[1;33m)\u001b[0m\u001b[1;33m\u001b[0m\u001b[0m\n\u001b[0m",
      "\u001b[1;32m/home/svetlana/anaconda/lib/python2.7/site-packages/sklearn/cross_validation.pyc\u001b[0m in \u001b[0;36mcross_val_score\u001b[1;34m(estimator, X, y, scoring, cv, n_jobs, verbose, fit_params, pre_dispatch)\u001b[0m\n\u001b[0;32m   1431\u001b[0m                                               \u001b[0mtrain\u001b[0m\u001b[1;33m,\u001b[0m \u001b[0mtest\u001b[0m\u001b[1;33m,\u001b[0m \u001b[0mverbose\u001b[0m\u001b[1;33m,\u001b[0m \u001b[0mNone\u001b[0m\u001b[1;33m,\u001b[0m\u001b[1;33m\u001b[0m\u001b[0m\n\u001b[0;32m   1432\u001b[0m                                               fit_params)\n\u001b[1;32m-> 1433\u001b[1;33m                       for train, test in cv)\n\u001b[0m\u001b[0;32m   1434\u001b[0m     \u001b[1;32mreturn\u001b[0m \u001b[0mnp\u001b[0m\u001b[1;33m.\u001b[0m\u001b[0marray\u001b[0m\u001b[1;33m(\u001b[0m\u001b[0mscores\u001b[0m\u001b[1;33m)\u001b[0m\u001b[1;33m[\u001b[0m\u001b[1;33m:\u001b[0m\u001b[1;33m,\u001b[0m \u001b[1;36m0\u001b[0m\u001b[1;33m]\u001b[0m\u001b[1;33m\u001b[0m\u001b[0m\n\u001b[0;32m   1435\u001b[0m \u001b[1;33m\u001b[0m\u001b[0m\n",
      "\u001b[1;32m/home/svetlana/anaconda/lib/python2.7/site-packages/sklearn/externals/joblib/parallel.pyc\u001b[0m in \u001b[0;36m__call__\u001b[1;34m(self, iterable)\u001b[0m\n\u001b[0;32m    802\u001b[0m             \u001b[0mself\u001b[0m\u001b[1;33m.\u001b[0m\u001b[0m_iterating\u001b[0m \u001b[1;33m=\u001b[0m \u001b[0mTrue\u001b[0m\u001b[1;33m\u001b[0m\u001b[0m\n\u001b[0;32m    803\u001b[0m \u001b[1;33m\u001b[0m\u001b[0m\n\u001b[1;32m--> 804\u001b[1;33m             \u001b[1;32mwhile\u001b[0m \u001b[0mself\u001b[0m\u001b[1;33m.\u001b[0m\u001b[0mdispatch_one_batch\u001b[0m\u001b[1;33m(\u001b[0m\u001b[0miterator\u001b[0m\u001b[1;33m)\u001b[0m\u001b[1;33m:\u001b[0m\u001b[1;33m\u001b[0m\u001b[0m\n\u001b[0m\u001b[0;32m    805\u001b[0m                 \u001b[1;32mpass\u001b[0m\u001b[1;33m\u001b[0m\u001b[0m\n\u001b[0;32m    806\u001b[0m \u001b[1;33m\u001b[0m\u001b[0m\n",
      "\u001b[1;32m/home/svetlana/anaconda/lib/python2.7/site-packages/sklearn/externals/joblib/parallel.pyc\u001b[0m in \u001b[0;36mdispatch_one_batch\u001b[1;34m(self, iterator)\u001b[0m\n\u001b[0;32m    660\u001b[0m                 \u001b[1;32mreturn\u001b[0m \u001b[0mFalse\u001b[0m\u001b[1;33m\u001b[0m\u001b[0m\n\u001b[0;32m    661\u001b[0m             \u001b[1;32melse\u001b[0m\u001b[1;33m:\u001b[0m\u001b[1;33m\u001b[0m\u001b[0m\n\u001b[1;32m--> 662\u001b[1;33m                 \u001b[0mself\u001b[0m\u001b[1;33m.\u001b[0m\u001b[0m_dispatch\u001b[0m\u001b[1;33m(\u001b[0m\u001b[0mtasks\u001b[0m\u001b[1;33m)\u001b[0m\u001b[1;33m\u001b[0m\u001b[0m\n\u001b[0m\u001b[0;32m    663\u001b[0m                 \u001b[1;32mreturn\u001b[0m \u001b[0mTrue\u001b[0m\u001b[1;33m\u001b[0m\u001b[0m\n\u001b[0;32m    664\u001b[0m \u001b[1;33m\u001b[0m\u001b[0m\n",
      "\u001b[1;32m/home/svetlana/anaconda/lib/python2.7/site-packages/sklearn/externals/joblib/parallel.pyc\u001b[0m in \u001b[0;36m_dispatch\u001b[1;34m(self, batch)\u001b[0m\n\u001b[0;32m    568\u001b[0m \u001b[1;33m\u001b[0m\u001b[0m\n\u001b[0;32m    569\u001b[0m         \u001b[1;32mif\u001b[0m \u001b[0mself\u001b[0m\u001b[1;33m.\u001b[0m\u001b[0m_pool\u001b[0m \u001b[1;32mis\u001b[0m \u001b[0mNone\u001b[0m\u001b[1;33m:\u001b[0m\u001b[1;33m\u001b[0m\u001b[0m\n\u001b[1;32m--> 570\u001b[1;33m             \u001b[0mjob\u001b[0m \u001b[1;33m=\u001b[0m \u001b[0mImmediateComputeBatch\u001b[0m\u001b[1;33m(\u001b[0m\u001b[0mbatch\u001b[0m\u001b[1;33m)\u001b[0m\u001b[1;33m\u001b[0m\u001b[0m\n\u001b[0m\u001b[0;32m    571\u001b[0m             \u001b[0mself\u001b[0m\u001b[1;33m.\u001b[0m\u001b[0m_jobs\u001b[0m\u001b[1;33m.\u001b[0m\u001b[0mappend\u001b[0m\u001b[1;33m(\u001b[0m\u001b[0mjob\u001b[0m\u001b[1;33m)\u001b[0m\u001b[1;33m\u001b[0m\u001b[0m\n\u001b[0;32m    572\u001b[0m             \u001b[0mself\u001b[0m\u001b[1;33m.\u001b[0m\u001b[0mn_dispatched_batches\u001b[0m \u001b[1;33m+=\u001b[0m \u001b[1;36m1\u001b[0m\u001b[1;33m\u001b[0m\u001b[0m\n",
      "\u001b[1;32m/home/svetlana/anaconda/lib/python2.7/site-packages/sklearn/externals/joblib/parallel.pyc\u001b[0m in \u001b[0;36m__init__\u001b[1;34m(self, batch)\u001b[0m\n\u001b[0;32m    181\u001b[0m         \u001b[1;31m# Don't delay the application, to avoid keeping the input\u001b[0m\u001b[1;33m\u001b[0m\u001b[1;33m\u001b[0m\u001b[0m\n\u001b[0;32m    182\u001b[0m         \u001b[1;31m# arguments in memory\u001b[0m\u001b[1;33m\u001b[0m\u001b[1;33m\u001b[0m\u001b[0m\n\u001b[1;32m--> 183\u001b[1;33m         \u001b[0mself\u001b[0m\u001b[1;33m.\u001b[0m\u001b[0mresults\u001b[0m \u001b[1;33m=\u001b[0m \u001b[0mbatch\u001b[0m\u001b[1;33m(\u001b[0m\u001b[1;33m)\u001b[0m\u001b[1;33m\u001b[0m\u001b[0m\n\u001b[0m\u001b[0;32m    184\u001b[0m \u001b[1;33m\u001b[0m\u001b[0m\n\u001b[0;32m    185\u001b[0m     \u001b[1;32mdef\u001b[0m \u001b[0mget\u001b[0m\u001b[1;33m(\u001b[0m\u001b[0mself\u001b[0m\u001b[1;33m)\u001b[0m\u001b[1;33m:\u001b[0m\u001b[1;33m\u001b[0m\u001b[0m\n",
      "\u001b[1;32m/home/svetlana/anaconda/lib/python2.7/site-packages/sklearn/externals/joblib/parallel.pyc\u001b[0m in \u001b[0;36m__call__\u001b[1;34m(self)\u001b[0m\n\u001b[0;32m     70\u001b[0m \u001b[1;33m\u001b[0m\u001b[0m\n\u001b[0;32m     71\u001b[0m     \u001b[1;32mdef\u001b[0m \u001b[0m__call__\u001b[0m\u001b[1;33m(\u001b[0m\u001b[0mself\u001b[0m\u001b[1;33m)\u001b[0m\u001b[1;33m:\u001b[0m\u001b[1;33m\u001b[0m\u001b[0m\n\u001b[1;32m---> 72\u001b[1;33m         \u001b[1;32mreturn\u001b[0m \u001b[1;33m[\u001b[0m\u001b[0mfunc\u001b[0m\u001b[1;33m(\u001b[0m\u001b[1;33m*\u001b[0m\u001b[0margs\u001b[0m\u001b[1;33m,\u001b[0m \u001b[1;33m**\u001b[0m\u001b[0mkwargs\u001b[0m\u001b[1;33m)\u001b[0m \u001b[1;32mfor\u001b[0m \u001b[0mfunc\u001b[0m\u001b[1;33m,\u001b[0m \u001b[0margs\u001b[0m\u001b[1;33m,\u001b[0m \u001b[0mkwargs\u001b[0m \u001b[1;32min\u001b[0m \u001b[0mself\u001b[0m\u001b[1;33m.\u001b[0m\u001b[0mitems\u001b[0m\u001b[1;33m]\u001b[0m\u001b[1;33m\u001b[0m\u001b[0m\n\u001b[0m\u001b[0;32m     73\u001b[0m \u001b[1;33m\u001b[0m\u001b[0m\n\u001b[0;32m     74\u001b[0m     \u001b[1;32mdef\u001b[0m \u001b[0m__len__\u001b[0m\u001b[1;33m(\u001b[0m\u001b[0mself\u001b[0m\u001b[1;33m)\u001b[0m\u001b[1;33m:\u001b[0m\u001b[1;33m\u001b[0m\u001b[0m\n",
      "\u001b[1;32m/home/svetlana/anaconda/lib/python2.7/site-packages/sklearn/cross_validation.pyc\u001b[0m in \u001b[0;36m_fit_and_score\u001b[1;34m(estimator, X, y, scorer, train, test, verbose, parameters, fit_params, return_train_score, return_parameters, error_score)\u001b[0m\n\u001b[0;32m   1529\u001b[0m             \u001b[0mestimator\u001b[0m\u001b[1;33m.\u001b[0m\u001b[0mfit\u001b[0m\u001b[1;33m(\u001b[0m\u001b[0mX_train\u001b[0m\u001b[1;33m,\u001b[0m \u001b[1;33m**\u001b[0m\u001b[0mfit_params\u001b[0m\u001b[1;33m)\u001b[0m\u001b[1;33m\u001b[0m\u001b[0m\n\u001b[0;32m   1530\u001b[0m         \u001b[1;32melse\u001b[0m\u001b[1;33m:\u001b[0m\u001b[1;33m\u001b[0m\u001b[0m\n\u001b[1;32m-> 1531\u001b[1;33m             \u001b[0mestimator\u001b[0m\u001b[1;33m.\u001b[0m\u001b[0mfit\u001b[0m\u001b[1;33m(\u001b[0m\u001b[0mX_train\u001b[0m\u001b[1;33m,\u001b[0m \u001b[0my_train\u001b[0m\u001b[1;33m,\u001b[0m \u001b[1;33m**\u001b[0m\u001b[0mfit_params\u001b[0m\u001b[1;33m)\u001b[0m\u001b[1;33m\u001b[0m\u001b[0m\n\u001b[0m\u001b[0;32m   1532\u001b[0m \u001b[1;33m\u001b[0m\u001b[0m\n\u001b[0;32m   1533\u001b[0m     \u001b[1;32mexcept\u001b[0m \u001b[0mException\u001b[0m \u001b[1;32mas\u001b[0m \u001b[0me\u001b[0m\u001b[1;33m:\u001b[0m\u001b[1;33m\u001b[0m\u001b[0m\n",
      "\u001b[1;32m<ipython-input-169-50d555e36006>\u001b[0m in \u001b[0;36mfit\u001b[1;34m(self, indexes, y, simple_features)\u001b[0m\n\u001b[0;32m     25\u001b[0m         \u001b[1;32melse\u001b[0m\u001b[1;33m:\u001b[0m\u001b[1;33m\u001b[0m\u001b[0m\n\u001b[0;32m     26\u001b[0m             \u001b[0msimple_features\u001b[0m \u001b[1;33m=\u001b[0m \u001b[0msimple_features\u001b[0m\u001b[1;33m[\u001b[0m\u001b[0mself\u001b[0m\u001b[1;33m.\u001b[0m\u001b[0mfeatures_names\u001b[0m\u001b[1;33m]\u001b[0m\u001b[1;33m\u001b[0m\u001b[0m\n\u001b[1;32m---> 27\u001b[1;33m         \u001b[0mself\u001b[0m\u001b[1;33m.\u001b[0m\u001b[0m_fit_feature_extender\u001b[0m\u001b[1;33m(\u001b[0m\u001b[0msimple_features\u001b[0m\u001b[1;33m,\u001b[0m \u001b[0my\u001b[0m\u001b[1;33m,\u001b[0m \u001b[0mindexes\u001b[0m\u001b[1;33m)\u001b[0m\u001b[1;33m\u001b[0m\u001b[0m\n\u001b[0m\u001b[0;32m     28\u001b[0m         \u001b[0mextended_features\u001b[0m \u001b[1;33m=\u001b[0m \u001b[0mself\u001b[0m\u001b[1;33m.\u001b[0m\u001b[0m_extend_features\u001b[0m\u001b[1;33m(\u001b[0m\u001b[0msimple_features\u001b[0m\u001b[1;33m)\u001b[0m\u001b[1;33m\u001b[0m\u001b[0m\n\u001b[0;32m     29\u001b[0m         \u001b[0mself\u001b[0m\u001b[1;33m.\u001b[0m\u001b[0minner_model\u001b[0m\u001b[1;33m.\u001b[0m\u001b[0mfit\u001b[0m\u001b[1;33m(\u001b[0m\u001b[0mextended_features\u001b[0m\u001b[1;33m,\u001b[0m \u001b[0my\u001b[0m\u001b[1;33m)\u001b[0m\u001b[1;33m\u001b[0m\u001b[0m\n",
      "\u001b[1;32m<ipython-input-169-50d555e36006>\u001b[0m in \u001b[0;36m_fit_feature_extender\u001b[1;34m(self, simple_features, y, indexes)\u001b[0m\n\u001b[0;32m     12\u001b[0m \u001b[1;33m\u001b[0m\u001b[0m\n\u001b[0;32m     13\u001b[0m     \u001b[1;32mdef\u001b[0m \u001b[0m_fit_feature_extender\u001b[0m\u001b[1;33m(\u001b[0m\u001b[0mself\u001b[0m\u001b[1;33m,\u001b[0m \u001b[0msimple_features\u001b[0m\u001b[1;33m,\u001b[0m \u001b[0my\u001b[0m\u001b[1;33m,\u001b[0m \u001b[0mindexes\u001b[0m\u001b[1;33m)\u001b[0m\u001b[1;33m:\u001b[0m\u001b[1;33m\u001b[0m\u001b[0m\n\u001b[1;32m---> 14\u001b[1;33m         \u001b[0mself\u001b[0m\u001b[1;33m.\u001b[0m\u001b[0mextender_strategy\u001b[0m\u001b[1;33m.\u001b[0m\u001b[0mfit\u001b[0m\u001b[1;33m(\u001b[0m\u001b[0msimple_features\u001b[0m\u001b[1;33m,\u001b[0m \u001b[0my\u001b[0m\u001b[1;33m,\u001b[0m \u001b[0mindexes\u001b[0m\u001b[1;33m)\u001b[0m\u001b[1;33m\u001b[0m\u001b[0m\n\u001b[0m\u001b[0;32m     15\u001b[0m \u001b[1;33m\u001b[0m\u001b[0m\n\u001b[0;32m     16\u001b[0m     \u001b[1;32mdef\u001b[0m \u001b[0m_extend_features\u001b[0m\u001b[1;33m(\u001b[0m\u001b[0mself\u001b[0m\u001b[1;33m,\u001b[0m \u001b[0msimple_features\u001b[0m\u001b[1;33m)\u001b[0m\u001b[1;33m:\u001b[0m\u001b[1;33m\u001b[0m\u001b[0m\n",
      "\u001b[1;32m<ipython-input-19-8e56f43cea32>\u001b[0m in \u001b[0;36mfit\u001b[1;34m(self, simple_features, y, indexes)\u001b[0m\n\u001b[0;32m     58\u001b[0m         \u001b[1;32mprint\u001b[0m \u001b[0mindexes\u001b[0m\u001b[1;33m\u001b[0m\u001b[0m\n\u001b[0;32m     59\u001b[0m         \u001b[0mself\u001b[0m\u001b[1;33m.\u001b[0m\u001b[0m_set_indexes\u001b[0m\u001b[1;33m(\u001b[0m\u001b[0mindexes\u001b[0m\u001b[1;33m)\u001b[0m\u001b[1;33m\u001b[0m\u001b[0m\n\u001b[1;32m---> 60\u001b[1;33m         \u001b[0mself\u001b[0m\u001b[1;33m.\u001b[0m\u001b[0m_estimate_parameters\u001b[0m\u001b[1;33m(\u001b[0m\u001b[0msimple_features\u001b[0m\u001b[1;33m,\u001b[0m \u001b[0my\u001b[0m\u001b[1;33m,\u001b[0m \u001b[0mindexes\u001b[0m\u001b[1;33m)\u001b[0m\u001b[1;33m\u001b[0m\u001b[0m\n\u001b[0m\u001b[0;32m     61\u001b[0m         \u001b[1;32mwith\u001b[0m \u001b[0mself\u001b[0m\u001b[1;33m.\u001b[0m\u001b[0m_priority_getter\u001b[0m\u001b[1;33m:\u001b[0m\u001b[1;33m\u001b[0m\u001b[0m\n\u001b[0;32m     62\u001b[0m             \u001b[1;32mfor\u001b[0m \u001b[0mcandidate_index\u001b[0m\u001b[1;33m,\u001b[0m \u001b[0mcandidate\u001b[0m \u001b[1;32min\u001b[0m \u001b[0menumerate\u001b[0m\u001b[1;33m(\u001b[0m\u001b[0mself\u001b[0m\u001b[1;33m.\u001b[0m\u001b[0m_generate_candidates\u001b[0m\u001b[1;33m(\u001b[0m\u001b[1;33m)\u001b[0m\u001b[1;33m)\u001b[0m\u001b[1;33m:\u001b[0m\u001b[1;33m\u001b[0m\u001b[0m\n",
      "\u001b[1;32m<ipython-input-19-8e56f43cea32>\u001b[0m in \u001b[0;36m_estimate_parameters\u001b[1;34m(self, simple_features, y, indexes)\u001b[0m\n\u001b[0;32m     26\u001b[0m \u001b[1;33m\u001b[0m\u001b[0m\n\u001b[0;32m     27\u001b[0m     \u001b[1;32mdef\u001b[0m \u001b[0m_estimate_parameters\u001b[0m\u001b[1;33m(\u001b[0m\u001b[0mself\u001b[0m\u001b[1;33m,\u001b[0m \u001b[0msimple_features\u001b[0m\u001b[1;33m,\u001b[0m \u001b[0my\u001b[0m\u001b[1;33m,\u001b[0m \u001b[0mindexes\u001b[0m\u001b[1;33m)\u001b[0m\u001b[1;33m:\u001b[0m\u001b[1;33m\u001b[0m\u001b[0m\n\u001b[1;32m---> 28\u001b[1;33m         \u001b[0mself\u001b[0m\u001b[1;33m.\u001b[0m\u001b[0m_priority_getter\u001b[0m\u001b[1;33m.\u001b[0m\u001b[0mestimate_parameters\u001b[0m\u001b[1;33m(\u001b[0m\u001b[0mself\u001b[0m\u001b[1;33m.\u001b[0m\u001b[0m_generate_candidates\u001b[0m\u001b[1;33m(\u001b[0m\u001b[1;33m)\u001b[0m\u001b[1;33m,\u001b[0m \u001b[0msimple_features\u001b[0m\u001b[1;33m,\u001b[0m \u001b[0my\u001b[0m\u001b[1;33m,\u001b[0m \u001b[0mself\u001b[0m\u001b[1;33m.\u001b[0m\u001b[0m_generator\u001b[0m\u001b[1;33m,\u001b[0m \u001b[0mindexes\u001b[0m\u001b[1;33m)\u001b[0m\u001b[1;33m\u001b[0m\u001b[0m\n\u001b[0m\u001b[0;32m     29\u001b[0m \u001b[1;33m\u001b[0m\u001b[0m\n\u001b[0;32m     30\u001b[0m     \u001b[1;32mdef\u001b[0m \u001b[0m_set_indexes\u001b[0m\u001b[1;33m(\u001b[0m\u001b[0mself\u001b[0m\u001b[1;33m,\u001b[0m \u001b[0mindexes\u001b[0m\u001b[1;33m)\u001b[0m\u001b[1;33m:\u001b[0m\u001b[1;33m\u001b[0m\u001b[0m\n",
      "\u001b[1;32m<ipython-input-168-9be35454a970>\u001b[0m in \u001b[0;36mestimate_parameters\u001b[1;34m(self, candidates_iterator, simple_features, y, generator, indexes)\u001b[0m\n\u001b[0;32m     35\u001b[0m                            options={'maxiter': 1000, 'maxfev':10000})\n\u001b[0;32m     36\u001b[0m             \u001b[1;32mprint\u001b[0m \u001b[0mret\u001b[0m\u001b[1;33m\u001b[0m\u001b[0m\n\u001b[1;32m---> 37\u001b[1;33m             \u001b[1;32massert\u001b[0m \u001b[0mret\u001b[0m\u001b[1;33m.\u001b[0m\u001b[0msuccess\u001b[0m\u001b[1;33m\u001b[0m\u001b[0m\n\u001b[0m\u001b[0;32m     38\u001b[0m             \u001b[0mself\u001b[0m\u001b[1;33m.\u001b[0m\u001b[0m_ret_param\u001b[0m \u001b[1;33m=\u001b[0m \u001b[0mret\u001b[0m\u001b[1;33m.\u001b[0m\u001b[0mx\u001b[0m\u001b[1;33m\u001b[0m\u001b[0m\n\u001b[0;32m     39\u001b[0m \u001b[1;33m\u001b[0m\u001b[0m\n",
      "\u001b[1;31mAssertionError\u001b[0m: "
     ]
    }
   ],
   "source": [
    "from sklearn.cross_validation import cross_val_score\n",
    "from sklearn.metrics import make_scorer, accuracy_score\n",
    "from wrappers import XGBoostClassifierFeatureImportances as XGB\n",
    "sys.stdout = sys.stderr = open(\"cross_val.log\", \"w\")\n",
    "cross_val_score(simple_feature_adder_wrapper, indexes, y_refactored, scoring=make_scorer(accuracy_score), cv=10)"
   ]
  },
  {
   "cell_type": "code",
   "execution_count": null,
   "metadata": {
    "collapsed": false
   },
   "outputs": [],
   "source": [
    "_.mean()"
   ]
  },
  {
   "cell_type": "code",
   "execution_count": null,
   "metadata": {
    "collapsed": false
   },
   "outputs": [],
   "source": [
    "simple_feature_adder_wrapper.extender_strategy.__dict__"
   ]
  },
  {
   "cell_type": "code",
   "execution_count": null,
   "metadata": {
    "collapsed": true
   },
   "outputs": [],
   "source": []
  }
 ],
 "metadata": {
  "kernelspec": {
   "display_name": "Python 2",
   "language": "python",
   "name": "python2"
  },
  "language_info": {
   "codemirror_mode": {
    "name": "ipython",
    "version": 2
   },
   "file_extension": ".py",
   "mimetype": "text/x-python",
   "name": "python",
   "nbconvert_exporter": "python",
   "pygments_lexer": "ipython2",
   "version": "2.7.11"
  }
 },
 "nbformat": 4,
 "nbformat_minor": 0
}

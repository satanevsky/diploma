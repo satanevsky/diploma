{
 "cells": [
  {
   "cell_type": "code",
   "execution_count": 1,
   "metadata": {
    "collapsed": false
   },
   "outputs": [],
   "source": [
    "from data_keeper import get_data_keeper"
   ]
  },
  {
   "cell_type": "code",
   "execution_count": 2,
   "metadata": {
    "collapsed": false
   },
   "outputs": [],
   "source": [
    "from testing import test_models_with_drugs"
   ]
  },
  {
   "cell_type": "code",
   "execution_count": 3,
   "metadata": {
    "collapsed": false
   },
   "outputs": [],
   "source": [
    "from sklearn.ensemble import RandomForestClassifier\n",
    "from sklearn.linear_model import LogisticRegressionCV"
   ]
  },
  {
   "cell_type": "code",
   "execution_count": 4,
   "metadata": {
    "collapsed": false
   },
   "outputs": [
    {
     "data": {
      "text/plain": [
       "[u'ETHA: Ethambutol ',\n",
       " u'ISON: Isoniazid ',\n",
       " u'RIFM: rifampicin ',\n",
       " u'RIFP: Rifapentine ',\n",
       " u'PYRA: Pyrazinamide ',\n",
       " u'STRE: Streptomycin ',\n",
       " u'CYCL: Cycloserine ',\n",
       " u'ETHI: Ethionamide/ Prothionamide ',\n",
       " u'PARA: Para-aminosalicyclic acid ',\n",
       " u'AMIK: Amikacin',\n",
       " u' Kanamycin ',\n",
       " u'CAPR: Capreomycin ',\n",
       " u'OFLO: Ofloxacin ']"
      ]
     },
     "execution_count": 4,
     "metadata": {},
     "output_type": "execute_result"
    }
   ],
   "source": [
    "get_data_keeper().get_possible_drugs()"
   ]
  },
  {
   "cell_type": "code",
   "execution_count": 5,
   "metadata": {
    "collapsed": false
   },
   "outputs": [],
   "source": [
    "from wrappers import GridSearchCVWrapper\n",
    "from wrappers import XGBoostClassifierFeatureImportances as XGB\n",
    "from wrappers import MatrixCleaningWrapper\n",
    "from wrappers import SparseWrapper\n",
    "from wrappers import ModelFeatureSelectionWrapper\n",
    "from wrappers import ModelBasedFeatureImportanceGetter"
   ]
  },
  {
   "cell_type": "code",
   "execution_count": 6,
   "metadata": {
    "collapsed": false
   },
   "outputs": [],
   "source": [
    "from frn import FeatureRelevanceNetworkWrapper"
   ]
  },
  {
   "cell_type": "code",
   "execution_count": 7,
   "metadata": {
    "collapsed": true
   },
   "outputs": [],
   "source": [
    "def get_complete_linear_model():\n",
    "    inner_model = LogisticRegressionCV(Cs=[10 ** i for i in xrange(-4, 4)], solver='liblinear')\n",
    "    outer_model = GridSearchCV(inner_model, {'penalty': ['l1', 'l2']})\n",
    "    return MatrixCleaningWrapper(SparseWrapper(outer_model))"
   ]
  },
  {
   "cell_type": "code",
   "execution_count": null,
   "metadata": {
    "collapsed": false
   },
   "outputs": [],
   "source": [
    "def get_complete_tree_based_model():\n",
    "    cv_params = {'inner_model__inner_model__n_estimators': [1],#, 5, 10, 20, 50, 100], \n",
    "                 'feature_selection_threshold_coef': [0.1]}#, 1, 3, 10, 30, 100, 300]}\n",
    "    return MatrixCleaningWrapper(FeatureRelevanceNetworkWrapper(SparseWrapper(XGB()), ModelBasedFeatureImportanceGetter(SparseWrapper(XGB(n_estimators=10)))))"
   ]
  },
  {
   "cell_type": "code",
   "execution_count": null,
   "metadata": {
    "collapsed": false,
    "scrolled": false
   },
   "outputs": [
    {
     "name": "stdout",
     "output_type": "stream",
     "text": [
      "cleaner (122, 2718)\n",
      "{'f1401': 1, 'f1060': 1, 'f606': 3, 'f202': 3, 'f210': 2, 'f2193': 1, 'f160': 1, 'f2439': 3, 'f2168': 5, 'f970': 1, 'f458': 8, 'f2586': 2, 'f996': 8, 'f2161': 2, 'f504': 1}\n",
      "<class 'scipy.sparse.csr.csr_matrix'>\n",
      "cleaner (122, 2705)\n",
      "{'f2157': 1, 'f198': 5, 'f2034': 1, 'f2411': 1, 'f1954': 1, 'f1499': 1, 'f95': 2, 'f994': 9, 'f995': 1, 'f2418': 5, 'f463': 10, 'f1389': 2}\n",
      "<class 'scipy.sparse.csr.csr_matrix'>\n",
      "cleaner (122, 2770)\n",
      "{'f1417': 4, 'f630': 4, 'f2230': 2, 'f208': 1, 'f2479': 4, 'f1384': 1, 'f1011': 10, 'f99': 4, 'f476': 10}\n",
      "<class 'scipy.sparse.csr.csr_matrix'>\n",
      "cleaner (122, 2712)\n"
     ]
    }
   ],
   "source": [
    "model = get_complete_tree_based_model()\n",
    "test_models_with_drugs([('xgboost', model)], [u'ETHI: Ethionamide/ Prothionamide '], metrics=['accuracy', 'confusion matrix', 'feature count'])"
   ]
  },
  {
   "cell_type": "code",
   "execution_count": null,
   "metadata": {
    "collapsed": true
   },
   "outputs": [],
   "source": [
    "X = get_data_keeper().get_common_x()"
   ]
  },
  {
   "cell_type": "code",
   "execution_count": null,
   "metadata": {
    "collapsed": true
   },
   "outputs": [],
   "source": [
    "from testing import results_differ_p_value"
   ]
  },
  {
   "cell_type": "code",
   "execution_count": null,
   "metadata": {
    "collapsed": false
   },
   "outputs": [],
   "source": [
    "results_differ_p_value([0] * 100 + [1] * 32, [0] * 100 + [1] * 32, [0] * 99 + [1] * 32 + [0])"
   ]
  },
  {
   "cell_type": "code",
   "execution_count": null,
   "metadata": {
    "collapsed": true
   },
   "outputs": [],
   "source": []
  }
 ],
 "metadata": {
  "kernelspec": {
   "display_name": "Python 2",
   "language": "python",
   "name": "python2"
  },
  "language_info": {
   "codemirror_mode": {
    "name": "ipython",
    "version": 2
   },
   "file_extension": ".py",
   "mimetype": "text/x-python",
   "name": "python",
   "nbconvert_exporter": "python",
   "pygments_lexer": "ipython2",
   "version": "2.7.6"
  }
 },
 "nbformat": 4,
 "nbformat_minor": 0
}

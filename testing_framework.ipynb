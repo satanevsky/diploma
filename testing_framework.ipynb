{
 "cells": [
  {
   "cell_type": "code",
   "execution_count": 1,
   "metadata": {
    "collapsed": false
   },
   "outputs": [],
   "source": [
    "from data_keeper import get_data_keeper"
   ]
  },
  {
   "cell_type": "code",
   "execution_count": 2,
   "metadata": {
    "collapsed": false
   },
   "outputs": [],
   "source": [
    "from testing import test_models_with_drugs"
   ]
  },
  {
   "cell_type": "code",
   "execution_count": 3,
   "metadata": {
    "collapsed": false
   },
   "outputs": [],
   "source": [
    "from sklearn.ensemble import RandomForestClassifier\n",
    "from sklearn.linear_model import LogisticRegressionCV"
   ]
  },
  {
   "cell_type": "code",
   "execution_count": 4,
   "metadata": {
    "collapsed": false
   },
   "outputs": [
    {
     "data": {
      "text/plain": [
       "[u'ETHA: Ethambutol ',\n",
       " u'ISON: Isoniazid ',\n",
       " u'RIFM: rifampicin ',\n",
       " u'RIFP: Rifapentine ',\n",
       " u'PYRA: Pyrazinamide ',\n",
       " u'STRE: Streptomycin ',\n",
       " u'CYCL: Cycloserine ',\n",
       " u'ETHI: Ethionamide/ Prothionamide ',\n",
       " u'PARA: Para-aminosalicyclic acid ',\n",
       " u'AMIK: Amikacin',\n",
       " u' Kanamycin ',\n",
       " u'CAPR: Capreomycin ',\n",
       " u'OFLO: Ofloxacin ']"
      ]
     },
     "execution_count": 4,
     "metadata": {},
     "output_type": "execute_result"
    }
   ],
   "source": [
    "get_data_keeper().get_possible_drugs()"
   ]
  },
  {
   "cell_type": "code",
   "execution_count": 7,
   "metadata": {
    "collapsed": false
   },
   "outputs": [
    {
     "ename": "ImportError",
     "evalue": "cannot import name MatrixCleanerWrapper",
     "output_type": "error",
     "traceback": [
      "\u001b[1;31m---------------------------------------------------------------------------\u001b[0m",
      "\u001b[1;31mImportError\u001b[0m                               Traceback (most recent call last)",
      "\u001b[1;32m<ipython-input-7-f849b5ef05d3>\u001b[0m in \u001b[0;36m<module>\u001b[1;34m()\u001b[0m\n\u001b[0;32m      1\u001b[0m \u001b[1;32mfrom\u001b[0m \u001b[0mwrappers\u001b[0m \u001b[1;32mimport\u001b[0m \u001b[0mGridSearchCVWrapper\u001b[0m\u001b[1;33m\u001b[0m\u001b[0m\n\u001b[0;32m      2\u001b[0m \u001b[1;32mfrom\u001b[0m \u001b[0mwrappers\u001b[0m \u001b[1;32mimport\u001b[0m \u001b[0mXGBoostClassifierFeatureImportances\u001b[0m \u001b[1;32mas\u001b[0m \u001b[0mXGB\u001b[0m\u001b[1;33m\u001b[0m\u001b[0m\n\u001b[1;32m----> 3\u001b[1;33m \u001b[1;32mfrom\u001b[0m \u001b[0mwrappers\u001b[0m \u001b[1;32mimport\u001b[0m \u001b[0mMatrixCleanerWrapper\u001b[0m\u001b[1;33m\u001b[0m\u001b[0m\n\u001b[0m\u001b[0;32m      4\u001b[0m \u001b[1;32mfrom\u001b[0m \u001b[0mwrappers\u001b[0m \u001b[1;32mimport\u001b[0m \u001b[0mSparseWrapper\u001b[0m\u001b[1;33m\u001b[0m\u001b[0m\n",
      "\u001b[1;31mImportError\u001b[0m: cannot import name MatrixCleanerWrapper"
     ]
    }
   ],
   "source": [
    "from wrappers import GridSearchCVWrapper\n",
    "from wrappers import XGBoostClassifierFeatureImportances as XGB\n",
    "from wrappers import MatrixCleanerWrapper\n",
    "from wrappers import SparseWrapper\n",
    "from wrappers import ModelFeatureSelectionWrapper"
   ]
  },
  {
   "cell_type": "code",
   "execution_count": 45,
   "metadata": {
    "collapsed": true
   },
   "outputs": [],
   "source": [
    "class ModelBasedFeatureImportanceGetter(BaseEstimator):\n",
    "    def __init__(self, inner_model):\n",
    "        self.inner_model = inner_model\n",
    "    \n",
    "    def get_feature_importances(self, X, y):\n",
    "        return self.inner_model.fit(X, y).feature_importances_"
   ]
  },
  {
   "cell_type": "code",
   "execution_count": 8,
   "metadata": {
    "collapsed": false
   },
   "outputs": [],
   "source": [
    "from frn import FeatureRelevanceNetwork"
   ]
  },
  {
   "cell_type": "code",
   "execution_count": 47,
   "metadata": {
    "collapsed": true
   },
   "outputs": [],
   "source": [
    "def get_complete_linear_model():\n",
    "    inner_model = LogisticRegressionCV(Cs=[10 ** i for i in xrange(-4, 4)], solver='liblinear')\n",
    "    outer_model = GridSearchCV(inner_model, {'penalty': ['l1', 'l2']})\n",
    "    return MatrixCleaningWrapper(SparseWrapper(outer_model))"
   ]
  },
  {
   "cell_type": "code",
   "execution_count": 55,
   "metadata": {
    "collapsed": false
   },
   "outputs": [],
   "source": [
    "def get_complete_tree_based_model():\n",
    "    cv_params = {'inner_model__inner_model__n_estimators': [1],#, 5, 10, 20, 50, 100], \n",
    "                 'feature_selection_threshold_coef': [0.1]}#, 1, 3, 10, 30, 100, 300]}\n",
    "    return MatrixCleaningWrapper(FeatureRelevanceNetwork(SparseWrapper(XGBoostClassifierFeatureImportances()), ModelBasedFeatureImportanceGetter(SparseWrapper(XGBoostClassifierFeatureImportances(n_estimators=10)))))"
   ]
  },
  {
   "cell_type": "code",
   "execution_count": 56,
   "metadata": {
    "collapsed": false,
    "scrolled": true
   },
   "outputs": [
    {
     "name": "stdout",
     "output_type": "stream",
     "text": [
      "cleaner (122, 2718)\n",
      "{'f1401': 1, 'f1060': 1, 'f606': 3, 'f202': 3, 'f210': 2, 'f2193': 1, 'f160': 1, 'f2439': 3, 'f2168': 5, 'f970': 1, 'f458': 8, 'f2586': 2, 'f996': 8, 'f2161': 2, 'f504': 1}\n",
      "<class 'scipy.sparse.csr.csr_matrix'>\n",
      "cleaner (122, 2705)\n",
      "{'f2157': 1, 'f198': 5, 'f2034': 1, 'f2411': 1, 'f1954': 1, 'f1499': 1, 'f95': 2, 'f994': 9, 'f995': 1, 'f2418': 5, 'f463': 10, 'f1389': 2}\n",
      "<class 'scipy.sparse.csr.csr_matrix'>\n",
      "cleaner (122, 2770)\n",
      "{'f1417': 4, 'f630': 4, 'f2230': 2, 'f208': 1, 'f2479': 4, 'f1384': 1, 'f1011': 10, 'f99': 4, 'f476': 10}\n",
      "<class 'scipy.sparse.csr.csr_matrix'>\n",
      "cleaner (122, 2712)\n",
      "{'f204': 3, 'f2169': 2, 'f2153': 1, 'f466': 10, 'f1384': 1, 'f96': 5, 'f2421': 4, 'f989': 10, 'f2360': 2, 'f45': 1, 'f619': 3, 'f1389': 1}\n",
      "<class 'scipy.sparse.csr.csr_matrix'>\n",
      "cleaner (122, 2852)\n",
      "{'f1049': 10, 'f215': 5, 'f2551': 3, 'f2142': 2, 'f2274': 3, 'f490': 10, 'f2729': 2, 'f101': 2, 'f649': 1}\n",
      "<class 'scipy.sparse.csr.csr_matrix'>\n",
      "cleaner (122, 2692)\n",
      "{'f452': 10, 'f156': 1, 'f193': 3, 'f307': 3, 'f2415': 6, 'f955': 2, 'f2560': 3, 'f856': 1, 'f1382': 1, 'f94': 1, 'f597': 2, 'f981': 7}\n",
      "<class 'scipy.sparse.csr.csr_matrix'>\n",
      "cleaner (123, 2852)\n",
      "{'f217': 4, 'f2708': 3, 'f609': 1, 'f927': 3, 'f1054': 7, 'f2554': 1, 'f341': 2, 'f494': 10, 'f2275': 6, 'f653': 3}\n",
      "<class 'scipy.sparse.csr.csr_matrix'>\n",
      "cleaner (123, 2765)\n",
      "{'f196': 3, 'f1414': 2, 'f316': 1, 'f1001': 9, 'f2076': 1, 'f618': 3, 'f976': 1, 'f2475': 3, 'f2626': 1, 'f94': 3, 'f463': 10, 'f2202': 1}\n",
      "<class 'scipy.sparse.csr.csr_matrix'>\n",
      "cleaner (123, 2693)\n",
      "{'f2141': 2, 'f202': 2, 'f456': 10, 'f1408': 1, 'f159': 1, 'f2576': 2, 'f2557': 2, 'f46': 1, 'f870': 2, 'f93': 2, 'f609': 2, 'f2409': 4, 'f997': 9}\n",
      "<class 'scipy.sparse.csr.csr_matrix'>\n",
      "cleaner (123, 2855)\n",
      "{'f169': 1, 'f489': 10, 'f2270': 1, 'f2557': 6, 'f1045': 9, 'f1046': 1, 'f819': 1, 'f214': 2, 'f36': 1, 'f2500': 1, 'f100': 1, 'f2278': 2, 'f650': 4}\n",
      "<class 'scipy.sparse.csr.csr_matrix'>\n",
      "cleaner (136, 2906)\n",
      "{'f2603': 4, 'f498': 10, 'f1068': 9, 'f173': 1, 'f2762': 1, 'f218': 4, 'f342': 1, 'f938': 1, 'f2317': 2, 'f660': 3, 'f1494': 1, 'f102': 3}\n"
     ]
    },
    {
     "data": {
      "text/plain": [
       "{('xgboost',\n",
       "  u'ETHI: Ethionamide/ Prothionamide '): {'accuracy': 0.84558823529411764, 'confusion matrix': array([[94,  6],\n",
       "         [15, 21]]), 'feature count': 12}}"
      ]
     },
     "execution_count": 56,
     "metadata": {},
     "output_type": "execute_result"
    }
   ],
   "source": [
    "model = get_complete_tree_based_model()\n",
    "test_models_with_drugs([('xgboost', model)], [u'ETHI: Ethionamide/ Prothionamide '], metrics=['accuracy', 'confusion matrix', 'feature count'])"
   ]
  },
  {
   "cell_type": "code",
   "execution_count": 16,
   "metadata": {
    "collapsed": true
   },
   "outputs": [],
   "source": [
    "X = get_data_keeper().get_common_x()"
   ]
  },
  {
   "cell_type": "code",
   "execution_count": 10,
   "metadata": {
    "collapsed": true
   },
   "outputs": [],
   "source": [
    "from scipy.stats import norm\n",
    "def results_differ_p_value(y_true, y1, y2):\n",
    "    y1 = (np.array(y1) == np.array(y_true)).astype(np.float64)\n",
    "    y2 = (np.array(y2) == np.array(y_true)).astype(np.float64)\n",
    "    diff = y1 - y2\n",
    "    norm_stat = diff.mean() / diff.std() * np.sqrt(diff.shape[0])\n",
    "    quantile = norm.cdf(norm_stat)\n",
    "    return min(quantile, 1.0 - quantile)"
   ]
  },
  {
   "cell_type": "code",
   "execution_count": 11,
   "metadata": {
    "collapsed": false
   },
   "outputs": [
    {
     "data": {
      "text/plain": [
       "0.077071286548999973"
      ]
     },
     "execution_count": 11,
     "metadata": {},
     "output_type": "execute_result"
    }
   ],
   "source": [
    "results_differ_p_value([0] * 100 + [1] * 32, [0] * 100 + [1] * 32, [0] * 99 + [1] * 32 + [0])"
   ]
  },
  {
   "cell_type": "code",
   "execution_count": null,
   "metadata": {
    "collapsed": true
   },
   "outputs": [],
   "source": []
  }
 ],
 "metadata": {
  "kernelspec": {
   "display_name": "Python 2",
   "language": "python",
   "name": "python2"
  },
  "language_info": {
   "codemirror_mode": {
    "name": "ipython",
    "version": 2
   },
   "file_extension": ".py",
   "mimetype": "text/x-python",
   "name": "python",
   "nbconvert_exporter": "python",
   "pygments_lexer": "ipython2",
   "version": "2.7.6"
  }
 },
 "nbformat": 4,
 "nbformat_minor": 0
}

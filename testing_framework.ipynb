{
 "cells": [
  {
   "cell_type": "code",
   "execution_count": 9,
   "metadata": {
    "collapsed": false
   },
   "outputs": [],
   "source": [
    "from data_keeper import get_data_keeper"
   ]
  },
  {
   "cell_type": "code",
   "execution_count": 2,
   "metadata": {
    "collapsed": false
   },
   "outputs": [],
   "source": [
    "from testing import test_models_with_drugs"
   ]
  },
  {
   "cell_type": "code",
   "execution_count": 3,
   "metadata": {
    "collapsed": false
   },
   "outputs": [],
   "source": [
    "from sklearn.ensemble import RandomForestClassifier\n",
    "from sklearn.linear_model import LogisticRegressionCV"
   ]
  },
  {
   "cell_type": "code",
   "execution_count": 4,
   "metadata": {
    "collapsed": false
   },
   "outputs": [
    {
     "data": {
      "text/plain": [
       "[u'ETHA: Ethambutol ',\n",
       " u'ISON: Isoniazid ',\n",
       " u'RIFM: rifampicin ',\n",
       " u'RIFP: Rifapentine ',\n",
       " u'PYRA: Pyrazinamide ',\n",
       " u'STRE: Streptomycin ',\n",
       " u'CYCL: Cycloserine ',\n",
       " u'ETHI: Ethionamide/ Prothionamide ',\n",
       " u'PARA: Para-aminosalicyclic acid ',\n",
       " u'AMIK: Amikacin',\n",
       " u' Kanamycin ',\n",
       " u'CAPR: Capreomycin ',\n",
       " u'OFLO: Ofloxacin ']"
      ]
     },
     "execution_count": 4,
     "metadata": {},
     "output_type": "execute_result"
    }
   ],
   "source": [
    "get_data_keeper().get_possible_drugs()"
   ]
  },
  {
   "cell_type": "code",
   "execution_count": 5,
   "metadata": {
    "collapsed": false
   },
   "outputs": [],
   "source": [
    "import joblib"
   ]
  },
  {
   "cell_type": "code",
   "execution_count": 7,
   "metadata": {
    "collapsed": false
   },
   "outputs": [],
   "source": [
    "from wrappers import GridSearchCVWrapper\n",
    "from wrappers import XGBoostClassifierFeatureImportances as XGB\n",
    "from wrappers import MatrixCleaningWrapper\n",
    "from wrappers import SparseWrapper\n",
    "from wrappers import ModelFeatureSelectionWrapper\n",
    "from wrappers import ModelBasedFeatureImportanceGetter"
   ]
  },
  {
   "cell_type": "code",
   "execution_count": 8,
   "metadata": {
    "collapsed": false
   },
   "outputs": [],
   "source": [
    "from frn import FeatureRelevanceNetworkWrapper"
   ]
  },
  {
   "cell_type": "code",
   "execution_count": 9,
   "metadata": {
    "collapsed": true
   },
   "outputs": [],
   "source": [
    "def get_complete_linear_model():\n",
    "    inner_model = LogisticRegressionCV(Cs=[10 ** i for i in xrange(-4, 4)], solver='liblinear')\n",
    "    outer_model = GridSearchCV(inner_model, {'penalty': ['l1', 'l2']})\n",
    "    return MatrixCleaningWrapper(SparseWrapper(outer_model))"
   ]
  },
  {
   "cell_type": "code",
   "execution_count": 10,
   "metadata": {
    "collapsed": false
   },
   "outputs": [],
   "source": [
    "def get_complete_tree_based_model():\n",
    "    cv_params = {'inner_model__inner_model__n_estimators': [1],#, 5, 10, 20, 50, 100], \n",
    "                 'feature_selection_threshold_coef': [0.1]}#, 1, 3, 10, 30, 100, 300]}\n",
    "    return MatrixCleaningWrapper(FeatureRelevanceNetworkWrapper(XGB(n_estimators=100), ModelBasedFeatureImportanceGetter(XGB())))"
   ]
  },
  {
   "cell_type": "code",
   "execution_count": null,
   "metadata": {
    "collapsed": true
   },
   "outputs": [],
   "source": []
  },
  {
   "cell_type": "code",
   "execution_count": 11,
   "metadata": {
    "collapsed": false,
    "scrolled": true
   },
   "outputs": [
    {
     "name": "stdout",
     "output_type": "stream",
     "text": [
      "cleaner (122, 2718)\n",
      "{'f949': 1, 'f904': 1, 'f532': 9, 'f606': 10, 'f2604': 9, 'f2193': 15, 'f160': 1, 'f2607': 5, 'f1285': 1, 'f554': 2, 'f1714': 1, 'f800': 1, 'f2391': 3, 'f511': 2, 'f2056': 5, 'f2054': 7, 'f213': 1, 'f1060': 11, 'f117': 6, 'f2375': 3, 'f6': 1, 'f202': 9, 'f225': 1, 'f2100': 1, 'f900': 4, 'f652': 1, 'f2401': 1, 'f2186': 6, 'f1111': 1, 'f972': 3, 'f2177': 1, 'f970': 1, 'f458': 18, 'f2409': 8, 'f996': 30, 'f588': 3, 'f2461': 3, 'f2077': 6, 'f964': 4, 'f932': 5, 'f2469': 1, 'f2379': 1, 'f2586': 8, 'f719': 10, 'f952': 4, 'f2460': 6, 'f955': 17, 'f92': 1, 'f1917': 2, 'f2168': 16, 'f544': 1, 'f353': 3, 'f2380': 11, 'f2381': 12, 'f2040': 1, 'f1873': 3, 'f2161': 8, 'f770': 6, 'f397': 2, 'f798': 1, 'f504': 3, 'f1401': 2, 'f2363': 11, 'f316': 6, 'f211': 3, 'f210': 2, 'f1286': 1, 'f1158': 1, 'f203': 4, 'f1994': 1, 'f1884': 1, 'f2439': 15, 'f2248': 1, 'f35': 9, 'f1543': 2, 'f2356': 8, 'f2418': 8, 'f2374': 2, 'f2373': 3, 'f1937': 3, 'f2370': 8}\n",
      "[ 0.  0.  0.  0.  0.  0.  1.  0.  0.  0.]\n",
      "0.150478292862 0.150478292862 1.0 0.150478292862\n",
      "________________________________________________________________________________\n",
      "[Memory] Calling frn.get_rel_feat_frn-alias...\n",
      "get_rel_feat_frn-alias({ 'feature_importance_priority': 1000000000000.0,\n",
      "  'feature_selection_threshold_coef': 1.0,\n",
      "  'min_correlation': 0.8}, \n",
      "array([[0, ..., 0],\n",
      "       ..., \n",
      "       [0, ..., 0]], dtype=int32), array([ 0., ...,  0.]), 0.15047829286239883)\n",
      "get_relevant_features_call\n",
      "real importances 81\n",
      "features count: 81\n",
      "[0 0 0 ..., 0 0 0] (2718,)\n",
      "__________________________________________get_rel_feat_frn-alias - 11.4s, 0.2min\n",
      "<type 'numpy.ndarray'>\n",
      "shape: (122, 81)\n",
      "<type 'numpy.ndarray'>\n",
      "shape: (14, 81)\n",
      "<type 'numpy.ndarray'>\n",
      "cleaner (122, 2705)\n",
      "{'f2157': 14, 'f1185': 1, 'f534': 6, 'f1054': 6, 'f5': 1, 'f2171': 1, 'f607': 5, 'f2441': 1, 'f1713': 1, 'f902': 5, 'f946': 3, 'f1983': 6, 'f2277': 3, 'f1906': 3, 'f1499': 7, 'f2392': 8, 'f2034': 4, 'f2361': 7, 'f513': 6, 'f558': 1, 'f2398': 1, 'f438': 3, 'f117': 1, 'f2591': 3, 'f2439': 3, 'f49': 4, 'f2400': 4, 'f1712': 2, 'f1677': 2, 'f1162': 1, 'f2343': 11, 'f962': 4, 'f972': 1, 'f2444': 3, 'f994': 34, 'f995': 15, 'f2362': 3, 'f1577': 1, 'f1389': 2, 'f932': 2, 'f1974': 1, 'f2614': 1, 'f2589': 14, 'f867': 1, 'f954': 11, 'f955': 2, 'f2069': 9, 'f2336': 5, 'f2360': 3, 'f2384': 2, 'f542': 4, 'f95': 8, 'f2163': 2, 'f463': 26, 'f2045': 11, 'f1954': 2, 'f2325': 1, 'f317': 5, 'f1057': 1, 'f1056': 3, 'f1700': 4, 'f198': 18, 'f199': 2, 'f31': 12, 'f963': 8, 'f2411': 1, 'f1394': 2, 'f964': 2, 'f1892': 1, 'f969': 2, 'f2402': 1, 'f2418': 23}\n",
      "[ 0.  0.  0.  0.  0.  1.  0.  0.  0.  0.]\n",
      "0.139371534196 0.139371534196 1.0 0.139371534196\n",
      "________________________________________________________________________________\n",
      "[Memory] Calling frn.get_rel_feat_frn-alias...\n",
      "get_rel_feat_frn-alias({ 'feature_importance_priority': 1000000000000.0,\n",
      "  'feature_selection_threshold_coef': 1.0,\n",
      "  'min_correlation': 0.8}, \n",
      "array([[0, ..., 0],\n",
      "       ..., \n",
      "       [0, ..., 0]], dtype=int32), array([ 0., ...,  0.]), 0.13937153419593346)\n",
      "get_relevant_features_call\n",
      "real importances 72\n",
      "features count: 72\n",
      "[0 0 0 ..., 0 0 0] (2705,)\n",
      "__________________________________________get_rel_feat_frn-alias - 11.7s, 0.2min\n",
      "<type 'numpy.ndarray'>\n",
      "shape: (122, 72)\n",
      "<type 'numpy.ndarray'>\n",
      "shape: (14, 72)\n",
      "<type 'numpy.ndarray'>\n",
      "cleaner (122, 2770)\n",
      "{'f886': 1, 'f121': 13, 'f2577': 1, 'f1748': 3, 'f2093': 1, 'f554': 3, 'f2336': 7, 'f617': 1, 'f2230': 19, 'f82': 1, 'f2030': 3, 'f476': 24, 'f2119': 2, 'f2235': 1, 'f1417': 4, 'f578': 1, 'f882': 1, 'f321': 1, 'f1166': 1, 'f208': 8, 'f209': 1, 'f1301': 2, 'f328': 1, 'f976': 1, 'f2343': 8, 'f2652': 3, 'f1384': 1, 'f2405': 8, 'f2427': 2, 'f2501': 6, 'f2425': 1, 'f2503': 2, 'f2423': 11, 'f2422': 5, 'f2421': 2, 'f613': 1, 'f327': 1, 'f2398': 2, 'f525': 4, 'f2145': 1, 'f912': 1, 'f2631': 5, 'f220': 2, 'f630': 21, 'f1844': 1, 'f2208': 2, 'f2081': 3, 'f975': 1, 'f2209': 2, 'f889': 2, 'f1916': 3, 'f987': 3, 'f794': 6, 'f96': 2, 'f2262': 9, 'f2106': 2, 'f99': 12, 'f2515': 5, 'f2227': 11, 'f1905': 1, 'f588': 1, 'f1075': 1, 'f1076': 3, 'f210': 10, 'f90': 3, 'f233': 12, 'f1126': 1, 'f1555': 1, 'f972': 5, 'f2654': 3, 'f2414': 4, 'f2415': 1, 'f1422': 8, 'f1011': 39, 'f2479': 25, 'f981': 2, 'f1209': 9}\n",
      "[ 0.  0.  0.  0.  0.  0.  0.  0.  0.  0.]\n",
      "0.137545126354 0.137545126354 1.0 0.137545126354\n",
      "________________________________________________________________________________\n",
      "[Memory] Calling frn.get_rel_feat_frn-alias...\n",
      "get_rel_feat_frn-alias({ 'feature_importance_priority': 1000000000000.0,\n",
      "  'feature_selection_threshold_coef': 1.0,\n",
      "  'min_correlation': 0.8}, \n",
      "array([[0, ..., 0],\n",
      "       ..., \n",
      "       [0, ..., 0]], dtype=int32), array([ 0., ...,  0.]), 0.13754512635379063)\n",
      "get_relevant_features_call\n",
      "real importances 77\n",
      "features count: 77\n",
      "[0 0 0 ..., 0 0 0] (2770,)\n",
      "__________________________________________get_rel_feat_frn-alias - 11.2s, 0.2min\n",
      "<type 'numpy.ndarray'>\n",
      "shape: (122, 77)\n",
      "<type 'numpy.ndarray'>\n",
      "shape: (14, 77)\n",
      "<type 'numpy.ndarray'>\n",
      "cleaner (122, 2712)\n",
      "{'f2596': 3, 'f949': 11, 'f386': 5, 'f2153': 7, 'f928': 7, 'f725': 3, 'f943': 1, 'f2574': 4, 'f732': 2, 'f2334': 9, 'f1378': 1, 'f1590': 3, 'f2272': 4, 'f1180': 1, 'f513': 4, 'f1493': 2, 'f515': 1, 'f412': 1, 'f204': 4, 'f205': 3, 'f45': 1, 'f2151': 3, 'f321': 9, 'f2142': 1, 'f1041': 2, 'f1044': 5, 'f1046': 6, 'f2352': 3, 'f2400': 9, 'f2391': 2, 'f1384': 2, 'f88': 1, 'f2360': 10, 'f2361': 6, 'f2348': 4, 'f1803': 1, 'f2421': 21, 'f964': 6, 'f958': 3, 'f2065': 7, 'f2414': 3, 'f2201': 13, 'f950': 2, 'f2444': 1, 'f619': 9, 'f2446': 8, 'f1993': 2, 'f2442': 5, 'f402': 1, 'f1047': 1, 'f2169': 17, 'f96': 10, 'f2383': 8, 'f2145': 2, 'f2041': 7, 'f117': 5, 'f2045': 1, 'f2167': 3, 'f466': 22, 'f1572': 2, 'f1709': 3, 'f1403': 2, 'f1156': 2, 'f50': 1, 'f899': 6, 'f1269': 11, 'f697': 1, 'f230': 3, 'f218': 1, 'f33': 6, 'f1389': 6, 'f989': 37, 'f2359': 3, 'f543': 7, 'f73': 4}\n",
      "[ 0.  0.  0.  0.  0.  0.  0.  0.  0.  0.]\n",
      "0.144911504425 0.144911504425 1.0 0.144911504425\n",
      "________________________________________________________________________________\n",
      "[Memory] Calling frn.get_rel_feat_frn-alias...\n",
      "get_rel_feat_frn-alias({ 'feature_importance_priority': 1000000000000.0,\n",
      "  'feature_selection_threshold_coef': 1.0,\n",
      "  'min_correlation': 0.8}, \n",
      "array([[0, ..., 0],\n",
      "       ..., \n",
      "       [0, ..., 0]], dtype=int32), array([ 0., ...,  0.]), 0.14491150442477876)\n",
      "get_relevant_features_call\n",
      "real importances 75\n",
      "features count: 75\n",
      "[0 0 0 ..., 0 0 0] (2712,)\n",
      "__________________________________________get_rel_feat_frn-alias - 11.2s, 0.2min\n",
      "<type 'numpy.ndarray'>\n",
      "shape: (122, 75)\n",
      "<type 'numpy.ndarray'>\n",
      "shape: (14, 75)\n",
      "<type 'numpy.ndarray'>\n",
      "cleaner (122, 2852)\n",
      "{'f2092': 1, 'f2155': 4, 'f699': 1, 'f6': 1, 'f2574': 6, 'f2551': 12, 'f921': 1, 'f923': 1, 'f539': 2, 'f2274': 10, 'f571': 2, 'f1808': 1, 'f649': 2, 'f769': 4, 'f2492': 9, 'f2493': 3, 'f101': 9, 'f605': 1, 'f1049': 28, 'f1006': 3, 'f123': 5, 'f1169': 2, 'f1235': 2, 'f243': 5, 'f1008': 17, 'f1009': 3, 'f771': 2, 'f820': 14, 'f1258': 7, 'f2180': 9, 'f1795': 1, 'f2731': 18, 'f2733': 3, 'f2291': 2, 'f1219': 2, 'f2577': 5, 'f1257': 2, 'f79': 1, 'f2531': 3, 'f2142': 3, 'f538': 1, 'f1473': 6, 'f1005': 2, 'f2710': 7, 'f2467': 9, 'f336': 1, 'f956': 6, 'f1580': 1, 'f55': 5, 'f2298': 5, 'f1815': 1, 'f802': 1, 'f2481': 1, 'f1112': 3, 'f2572': 1, 'f2484': 10, 'f1877': 1, 'f44': 3, 'f216': 1, 'f215': 13, 'f337': 12, 'f2272': 4, 'f1352': 1, 'f50': 1, 'f1489': 1, 'f1435': 2, 'f1173': 1, 'f1138': 2, 'f1977': 1, 'f1023': 1, 'f2474': 8, 'f227': 1, 'f2266': 1, 'f490': 21, 'f36': 7, 'f988': 3, 'f2729': 8, 'f1114': 3, 'f1111': 1, 'f1017': 5, 'f816': 1}\n",
      "[ 0.  0.  0.  0.  0.  0.  1.  0.  0.  0.]\n",
      "0.129733520337 0.129733520337 1.0 0.129733520337\n",
      "________________________________________________________________________________\n",
      "[Memory] Calling frn.get_rel_feat_frn-alias...\n",
      "get_rel_feat_frn-alias({ 'feature_importance_priority': 1000000000000.0,\n",
      "  'feature_selection_threshold_coef': 1.0,\n",
      "  'min_correlation': 0.8}, \n",
      "array([[0, ..., 0],\n",
      "       ..., \n",
      "       [0, ..., 0]], dtype=int32), array([ 0., ...,  0.]), 0.1297335203366059)\n",
      "get_relevant_features_call\n",
      "real importances 81\n"
     ]
    },
    {
     "ename": "KeyboardInterrupt",
     "evalue": "",
     "output_type": "error",
     "traceback": [
      "\u001b[1;31m---------------------------------------------------------------------------\u001b[0m",
      "\u001b[1;31mKeyboardInterrupt\u001b[0m                         Traceback (most recent call last)",
      "\u001b[1;32m<ipython-input-11-16e3a05043f0>\u001b[0m in \u001b[0;36m<module>\u001b[1;34m()\u001b[0m\n\u001b[0;32m      1\u001b[0m \u001b[0mmodel\u001b[0m \u001b[1;33m=\u001b[0m \u001b[0mget_complete_tree_based_model\u001b[0m\u001b[1;33m(\u001b[0m\u001b[1;33m)\u001b[0m\u001b[1;33m\u001b[0m\u001b[0m\n\u001b[1;32m----> 2\u001b[1;33m \u001b[0mtest_models_with_drugs\u001b[0m\u001b[1;33m(\u001b[0m\u001b[1;33m[\u001b[0m\u001b[1;33m(\u001b[0m\u001b[1;34m'xgboost'\u001b[0m\u001b[1;33m,\u001b[0m \u001b[0mmodel\u001b[0m\u001b[1;33m)\u001b[0m\u001b[1;33m]\u001b[0m\u001b[1;33m,\u001b[0m \u001b[1;33m[\u001b[0m\u001b[1;34mu'ETHI: Ethionamide/ Prothionamide '\u001b[0m\u001b[1;33m]\u001b[0m\u001b[1;33m,\u001b[0m \u001b[0mmetrics\u001b[0m\u001b[1;33m=\u001b[0m\u001b[1;33m[\u001b[0m\u001b[1;34m'accuracy'\u001b[0m\u001b[1;33m,\u001b[0m \u001b[1;34m'confusion matrix'\u001b[0m\u001b[1;33m]\u001b[0m\u001b[1;33m)\u001b[0m\u001b[1;33m\u001b[0m\u001b[0m\n\u001b[0m",
      "\u001b[1;32m/media/vlad/01D198E892261920/vlad/vlad/diploma/testing.py\u001b[0m in \u001b[0;36mtest_models_with_drugs\u001b[1;34m(models, drugs, metrics)\u001b[0m\n\u001b[0;32m     23\u001b[0m     \u001b[1;32mfor\u001b[0m \u001b[0mmodel_name\u001b[0m\u001b[1;33m,\u001b[0m \u001b[0mmodel\u001b[0m \u001b[1;32min\u001b[0m \u001b[0mmodels\u001b[0m\u001b[1;33m:\u001b[0m\u001b[1;33m\u001b[0m\u001b[0m\n\u001b[0;32m     24\u001b[0m         \u001b[1;32mfor\u001b[0m \u001b[0mdrug_name\u001b[0m \u001b[1;32min\u001b[0m \u001b[0mdrugs\u001b[0m\u001b[1;33m:\u001b[0m\u001b[1;33m\u001b[0m\u001b[0m\n\u001b[1;32m---> 25\u001b[1;33m             \u001b[0mresult\u001b[0m\u001b[1;33m[\u001b[0m\u001b[1;33m(\u001b[0m\u001b[0mmodel_name\u001b[0m\u001b[1;33m,\u001b[0m \u001b[0mdrug_name\u001b[0m\u001b[1;33m)\u001b[0m\u001b[1;33m]\u001b[0m \u001b[1;33m=\u001b[0m \u001b[0mtest_model_with_drug\u001b[0m\u001b[1;33m(\u001b[0m\u001b[0mmodel\u001b[0m\u001b[1;33m,\u001b[0m \u001b[0mdrug_name\u001b[0m\u001b[1;33m,\u001b[0m \u001b[0mmetrics\u001b[0m\u001b[1;33m)\u001b[0m\u001b[1;33m\u001b[0m\u001b[0m\n\u001b[0m\u001b[0;32m     26\u001b[0m     \u001b[1;32mreturn\u001b[0m \u001b[0mresult\u001b[0m\u001b[1;33m\u001b[0m\u001b[0m\n\u001b[0;32m     27\u001b[0m \u001b[1;33m\u001b[0m\u001b[0m\n",
      "\u001b[1;32m/media/vlad/01D198E892261920/vlad/vlad/diploma/testing.py\u001b[0m in \u001b[0;36mtest_model_with_drug\u001b[1;34m(model, drug, metrics)\u001b[0m\n\u001b[0;32m      8\u001b[0m \u001b[1;32mdef\u001b[0m \u001b[0mtest_model_with_drug\u001b[0m\u001b[1;33m(\u001b[0m\u001b[0mmodel\u001b[0m\u001b[1;33m,\u001b[0m \u001b[0mdrug\u001b[0m\u001b[1;33m,\u001b[0m \u001b[0mmetrics\u001b[0m\u001b[1;33m)\u001b[0m\u001b[1;33m:\u001b[0m\u001b[1;33m\u001b[0m\u001b[0m\n\u001b[0;32m      9\u001b[0m     \u001b[0mX\u001b[0m\u001b[1;33m,\u001b[0m \u001b[0my\u001b[0m \u001b[1;33m=\u001b[0m \u001b[0mget_data_keeper\u001b[0m\u001b[1;33m(\u001b[0m\u001b[1;33m)\u001b[0m\u001b[1;33m.\u001b[0m\u001b[0mget_train_data\u001b[0m\u001b[1;33m(\u001b[0m\u001b[0mdrug\u001b[0m\u001b[1;33m)\u001b[0m\u001b[1;33m\u001b[0m\u001b[0m\n\u001b[1;32m---> 10\u001b[1;33m     \u001b[0my_pred\u001b[0m \u001b[1;33m=\u001b[0m \u001b[0mcross_val_predict\u001b[0m\u001b[1;33m(\u001b[0m\u001b[0mmodel\u001b[0m\u001b[1;33m,\u001b[0m \u001b[0mX\u001b[0m\u001b[1;33m,\u001b[0m \u001b[0my\u001b[0m\u001b[1;33m,\u001b[0m \u001b[0mcv\u001b[0m\u001b[1;33m=\u001b[0m\u001b[0mStratifiedKFold\u001b[0m\u001b[1;33m(\u001b[0m\u001b[0my\u001b[0m\u001b[1;33m,\u001b[0m \u001b[0mn_folds\u001b[0m\u001b[1;33m=\u001b[0m\u001b[1;36m10\u001b[0m\u001b[1;33m,\u001b[0m \u001b[0mshuffle\u001b[0m\u001b[1;33m=\u001b[0m\u001b[0mTrue\u001b[0m\u001b[1;33m,\u001b[0m \u001b[0mrandom_state\u001b[0m\u001b[1;33m=\u001b[0m\u001b[1;36m42\u001b[0m\u001b[1;33m)\u001b[0m\u001b[1;33m)\u001b[0m\u001b[1;33m\u001b[0m\u001b[0m\n\u001b[0m\u001b[0;32m     11\u001b[0m     \u001b[0mresult\u001b[0m \u001b[1;33m=\u001b[0m \u001b[0mdict\u001b[0m\u001b[1;33m(\u001b[0m\u001b[1;33m)\u001b[0m\u001b[1;33m\u001b[0m\u001b[0m\n\u001b[0;32m     12\u001b[0m     \u001b[1;32mif\u001b[0m \u001b[1;34m'confusion matrix'\u001b[0m \u001b[1;32min\u001b[0m \u001b[0mmetrics\u001b[0m\u001b[1;33m:\u001b[0m\u001b[1;33m\u001b[0m\u001b[0m\n",
      "\u001b[1;32m/usr/local/lib/python2.7/dist-packages/sklearn/cross_validation.pyc\u001b[0m in \u001b[0;36mcross_val_predict\u001b[1;34m(estimator, X, y, cv, n_jobs, verbose, fit_params, pre_dispatch)\u001b[0m\n\u001b[0;32m   1255\u001b[0m                                                       \u001b[0mtrain\u001b[0m\u001b[1;33m,\u001b[0m \u001b[0mtest\u001b[0m\u001b[1;33m,\u001b[0m \u001b[0mverbose\u001b[0m\u001b[1;33m,\u001b[0m\u001b[1;33m\u001b[0m\u001b[0m\n\u001b[0;32m   1256\u001b[0m                                                       fit_params)\n\u001b[1;32m-> 1257\u001b[1;33m                             for train, test in cv)\n\u001b[0m\u001b[0;32m   1258\u001b[0m \u001b[1;33m\u001b[0m\u001b[0m\n\u001b[0;32m   1259\u001b[0m     \u001b[0mpreds\u001b[0m \u001b[1;33m=\u001b[0m \u001b[1;33m[\u001b[0m\u001b[0mp\u001b[0m \u001b[1;32mfor\u001b[0m \u001b[0mp\u001b[0m\u001b[1;33m,\u001b[0m \u001b[0m_\u001b[0m \u001b[1;32min\u001b[0m \u001b[0mpreds_blocks\u001b[0m\u001b[1;33m]\u001b[0m\u001b[1;33m\u001b[0m\u001b[0m\n",
      "\u001b[1;32m/usr/local/lib/python2.7/dist-packages/sklearn/externals/joblib/parallel.pyc\u001b[0m in \u001b[0;36m__call__\u001b[1;34m(self, iterable)\u001b[0m\n\u001b[0;32m    798\u001b[0m             \u001b[1;31m# was dispatched. In particular this covers the edge\u001b[0m\u001b[1;33m\u001b[0m\u001b[1;33m\u001b[0m\u001b[0m\n\u001b[0;32m    799\u001b[0m             \u001b[1;31m# case of Parallel used with an exhausted iterator.\u001b[0m\u001b[1;33m\u001b[0m\u001b[1;33m\u001b[0m\u001b[0m\n\u001b[1;32m--> 800\u001b[1;33m             \u001b[1;32mwhile\u001b[0m \u001b[0mself\u001b[0m\u001b[1;33m.\u001b[0m\u001b[0mdispatch_one_batch\u001b[0m\u001b[1;33m(\u001b[0m\u001b[0miterator\u001b[0m\u001b[1;33m)\u001b[0m\u001b[1;33m:\u001b[0m\u001b[1;33m\u001b[0m\u001b[0m\n\u001b[0m\u001b[0;32m    801\u001b[0m                 \u001b[0mself\u001b[0m\u001b[1;33m.\u001b[0m\u001b[0m_iterating\u001b[0m \u001b[1;33m=\u001b[0m \u001b[0mTrue\u001b[0m\u001b[1;33m\u001b[0m\u001b[0m\n\u001b[0;32m    802\u001b[0m             \u001b[1;32melse\u001b[0m\u001b[1;33m:\u001b[0m\u001b[1;33m\u001b[0m\u001b[0m\n",
      "\u001b[1;32m/usr/local/lib/python2.7/dist-packages/sklearn/externals/joblib/parallel.pyc\u001b[0m in \u001b[0;36mdispatch_one_batch\u001b[1;34m(self, iterator)\u001b[0m\n\u001b[0;32m    656\u001b[0m                 \u001b[1;32mreturn\u001b[0m \u001b[0mFalse\u001b[0m\u001b[1;33m\u001b[0m\u001b[0m\n\u001b[0;32m    657\u001b[0m             \u001b[1;32melse\u001b[0m\u001b[1;33m:\u001b[0m\u001b[1;33m\u001b[0m\u001b[0m\n\u001b[1;32m--> 658\u001b[1;33m                 \u001b[0mself\u001b[0m\u001b[1;33m.\u001b[0m\u001b[0m_dispatch\u001b[0m\u001b[1;33m(\u001b[0m\u001b[0mtasks\u001b[0m\u001b[1;33m)\u001b[0m\u001b[1;33m\u001b[0m\u001b[0m\n\u001b[0m\u001b[0;32m    659\u001b[0m                 \u001b[1;32mreturn\u001b[0m \u001b[0mTrue\u001b[0m\u001b[1;33m\u001b[0m\u001b[0m\n\u001b[0;32m    660\u001b[0m \u001b[1;33m\u001b[0m\u001b[0m\n",
      "\u001b[1;32m/usr/local/lib/python2.7/dist-packages/sklearn/externals/joblib/parallel.pyc\u001b[0m in \u001b[0;36m_dispatch\u001b[1;34m(self, batch)\u001b[0m\n\u001b[0;32m    564\u001b[0m \u001b[1;33m\u001b[0m\u001b[0m\n\u001b[0;32m    565\u001b[0m         \u001b[1;32mif\u001b[0m \u001b[0mself\u001b[0m\u001b[1;33m.\u001b[0m\u001b[0m_pool\u001b[0m \u001b[1;32mis\u001b[0m \u001b[0mNone\u001b[0m\u001b[1;33m:\u001b[0m\u001b[1;33m\u001b[0m\u001b[0m\n\u001b[1;32m--> 566\u001b[1;33m             \u001b[0mjob\u001b[0m \u001b[1;33m=\u001b[0m \u001b[0mImmediateComputeBatch\u001b[0m\u001b[1;33m(\u001b[0m\u001b[0mbatch\u001b[0m\u001b[1;33m)\u001b[0m\u001b[1;33m\u001b[0m\u001b[0m\n\u001b[0m\u001b[0;32m    567\u001b[0m             \u001b[0mself\u001b[0m\u001b[1;33m.\u001b[0m\u001b[0m_jobs\u001b[0m\u001b[1;33m.\u001b[0m\u001b[0mappend\u001b[0m\u001b[1;33m(\u001b[0m\u001b[0mjob\u001b[0m\u001b[1;33m)\u001b[0m\u001b[1;33m\u001b[0m\u001b[0m\n\u001b[0;32m    568\u001b[0m             \u001b[0mself\u001b[0m\u001b[1;33m.\u001b[0m\u001b[0mn_dispatched_batches\u001b[0m \u001b[1;33m+=\u001b[0m \u001b[1;36m1\u001b[0m\u001b[1;33m\u001b[0m\u001b[0m\n",
      "\u001b[1;32m/usr/local/lib/python2.7/dist-packages/sklearn/externals/joblib/parallel.pyc\u001b[0m in \u001b[0;36m__init__\u001b[1;34m(self, batch)\u001b[0m\n\u001b[0;32m    178\u001b[0m         \u001b[1;31m# Don't delay the application, to avoid keeping the input\u001b[0m\u001b[1;33m\u001b[0m\u001b[1;33m\u001b[0m\u001b[0m\n\u001b[0;32m    179\u001b[0m         \u001b[1;31m# arguments in memory\u001b[0m\u001b[1;33m\u001b[0m\u001b[1;33m\u001b[0m\u001b[0m\n\u001b[1;32m--> 180\u001b[1;33m         \u001b[0mself\u001b[0m\u001b[1;33m.\u001b[0m\u001b[0mresults\u001b[0m \u001b[1;33m=\u001b[0m \u001b[0mbatch\u001b[0m\u001b[1;33m(\u001b[0m\u001b[1;33m)\u001b[0m\u001b[1;33m\u001b[0m\u001b[0m\n\u001b[0m\u001b[0;32m    181\u001b[0m \u001b[1;33m\u001b[0m\u001b[0m\n\u001b[0;32m    182\u001b[0m     \u001b[1;32mdef\u001b[0m \u001b[0mget\u001b[0m\u001b[1;33m(\u001b[0m\u001b[0mself\u001b[0m\u001b[1;33m)\u001b[0m\u001b[1;33m:\u001b[0m\u001b[1;33m\u001b[0m\u001b[0m\n",
      "\u001b[1;32m/usr/local/lib/python2.7/dist-packages/sklearn/externals/joblib/parallel.pyc\u001b[0m in \u001b[0;36m__call__\u001b[1;34m(self)\u001b[0m\n\u001b[0;32m     70\u001b[0m \u001b[1;33m\u001b[0m\u001b[0m\n\u001b[0;32m     71\u001b[0m     \u001b[1;32mdef\u001b[0m \u001b[0m__call__\u001b[0m\u001b[1;33m(\u001b[0m\u001b[0mself\u001b[0m\u001b[1;33m)\u001b[0m\u001b[1;33m:\u001b[0m\u001b[1;33m\u001b[0m\u001b[0m\n\u001b[1;32m---> 72\u001b[1;33m         \u001b[1;32mreturn\u001b[0m \u001b[1;33m[\u001b[0m\u001b[0mfunc\u001b[0m\u001b[1;33m(\u001b[0m\u001b[1;33m*\u001b[0m\u001b[0margs\u001b[0m\u001b[1;33m,\u001b[0m \u001b[1;33m**\u001b[0m\u001b[0mkwargs\u001b[0m\u001b[1;33m)\u001b[0m \u001b[1;32mfor\u001b[0m \u001b[0mfunc\u001b[0m\u001b[1;33m,\u001b[0m \u001b[0margs\u001b[0m\u001b[1;33m,\u001b[0m \u001b[0mkwargs\u001b[0m \u001b[1;32min\u001b[0m \u001b[0mself\u001b[0m\u001b[1;33m.\u001b[0m\u001b[0mitems\u001b[0m\u001b[1;33m]\u001b[0m\u001b[1;33m\u001b[0m\u001b[0m\n\u001b[0m\u001b[0;32m     73\u001b[0m \u001b[1;33m\u001b[0m\u001b[0m\n\u001b[0;32m     74\u001b[0m     \u001b[1;32mdef\u001b[0m \u001b[0m__len__\u001b[0m\u001b[1;33m(\u001b[0m\u001b[0mself\u001b[0m\u001b[1;33m)\u001b[0m\u001b[1;33m:\u001b[0m\u001b[1;33m\u001b[0m\u001b[0m\n",
      "\u001b[1;32m/usr/local/lib/python2.7/dist-packages/sklearn/cross_validation.pyc\u001b[0m in \u001b[0;36m_fit_and_predict\u001b[1;34m(estimator, X, y, train, test, verbose, fit_params)\u001b[0m\n\u001b[0;32m   1320\u001b[0m         \u001b[0mestimator\u001b[0m\u001b[1;33m.\u001b[0m\u001b[0mfit\u001b[0m\u001b[1;33m(\u001b[0m\u001b[0mX_train\u001b[0m\u001b[1;33m,\u001b[0m \u001b[1;33m**\u001b[0m\u001b[0mfit_params\u001b[0m\u001b[1;33m)\u001b[0m\u001b[1;33m\u001b[0m\u001b[0m\n\u001b[0;32m   1321\u001b[0m     \u001b[1;32melse\u001b[0m\u001b[1;33m:\u001b[0m\u001b[1;33m\u001b[0m\u001b[0m\n\u001b[1;32m-> 1322\u001b[1;33m         \u001b[0mestimator\u001b[0m\u001b[1;33m.\u001b[0m\u001b[0mfit\u001b[0m\u001b[1;33m(\u001b[0m\u001b[0mX_train\u001b[0m\u001b[1;33m,\u001b[0m \u001b[0my_train\u001b[0m\u001b[1;33m,\u001b[0m \u001b[1;33m**\u001b[0m\u001b[0mfit_params\u001b[0m\u001b[1;33m)\u001b[0m\u001b[1;33m\u001b[0m\u001b[0m\n\u001b[0m\u001b[0;32m   1323\u001b[0m     \u001b[0mpreds\u001b[0m \u001b[1;33m=\u001b[0m \u001b[0mestimator\u001b[0m\u001b[1;33m.\u001b[0m\u001b[0mpredict\u001b[0m\u001b[1;33m(\u001b[0m\u001b[0mX_test\u001b[0m\u001b[1;33m)\u001b[0m\u001b[1;33m\u001b[0m\u001b[0m\n\u001b[0;32m   1324\u001b[0m     \u001b[1;32mreturn\u001b[0m \u001b[0mpreds\u001b[0m\u001b[1;33m,\u001b[0m \u001b[0mtest\u001b[0m\u001b[1;33m\u001b[0m\u001b[0m\n",
      "\u001b[1;32m/media/vlad/01D198E892261920/vlad/vlad/diploma/wrappers.pyc\u001b[0m in \u001b[0;36mfit\u001b[1;34m(self, X, y)\u001b[0m\n\u001b[0;32m     78\u001b[0m         \u001b[0mX\u001b[0m \u001b[1;33m=\u001b[0m \u001b[0mself\u001b[0m\u001b[1;33m.\u001b[0m\u001b[0m_drop\u001b[0m\u001b[1;33m(\u001b[0m\u001b[0mX\u001b[0m\u001b[1;33m)\u001b[0m\u001b[1;33m\u001b[0m\u001b[0m\n\u001b[0;32m     79\u001b[0m         \u001b[1;32mprint\u001b[0m \u001b[1;34m\"cleaner\"\u001b[0m\u001b[1;33m,\u001b[0m \u001b[0mX\u001b[0m\u001b[1;33m.\u001b[0m\u001b[0mshape\u001b[0m\u001b[1;33m\u001b[0m\u001b[0m\n\u001b[1;32m---> 80\u001b[1;33m         \u001b[0mself\u001b[0m\u001b[1;33m.\u001b[0m\u001b[0minner_model\u001b[0m\u001b[1;33m.\u001b[0m\u001b[0mfit\u001b[0m\u001b[1;33m(\u001b[0m\u001b[0mX\u001b[0m\u001b[1;33m,\u001b[0m \u001b[0my\u001b[0m\u001b[1;33m)\u001b[0m\u001b[1;33m\u001b[0m\u001b[0m\n\u001b[0m\u001b[0;32m     81\u001b[0m         \u001b[1;31m#self.feature_importances_ = self.inner_model.feature_importances_\u001b[0m\u001b[1;33m\u001b[0m\u001b[1;33m\u001b[0m\u001b[0m\n\u001b[0;32m     82\u001b[0m         \u001b[1;32mreturn\u001b[0m \u001b[0mself\u001b[0m\u001b[1;33m\u001b[0m\u001b[0m\n",
      "\u001b[1;32m/media/vlad/01D198E892261920/vlad/vlad/diploma/frn.py\u001b[0m in \u001b[0;36mfit\u001b[1;34m(self, X, y)\u001b[0m\n\u001b[0;32m     96\u001b[0m \u001b[1;33m\u001b[0m\u001b[0m\n\u001b[0;32m     97\u001b[0m     \u001b[1;32mdef\u001b[0m \u001b[0mfit\u001b[0m\u001b[1;33m(\u001b[0m\u001b[0mself\u001b[0m\u001b[1;33m,\u001b[0m \u001b[0mX\u001b[0m\u001b[1;33m,\u001b[0m \u001b[0my\u001b[0m\u001b[1;33m)\u001b[0m\u001b[1;33m:\u001b[0m\u001b[1;33m\u001b[0m\u001b[0m\n\u001b[1;32m---> 98\u001b[1;33m         \u001b[0mself\u001b[0m\u001b[1;33m.\u001b[0m\u001b[0m_set_relevant_feature_mask\u001b[0m\u001b[1;33m(\u001b[0m\u001b[0mX\u001b[0m\u001b[1;33m,\u001b[0m \u001b[0my\u001b[0m\u001b[1;33m)\u001b[0m\u001b[1;33m\u001b[0m\u001b[0m\n\u001b[0m\u001b[0;32m     99\u001b[0m         \u001b[0mX\u001b[0m \u001b[1;33m=\u001b[0m \u001b[0mself\u001b[0m\u001b[1;33m.\u001b[0m\u001b[0m_filter_X\u001b[0m\u001b[1;33m(\u001b[0m\u001b[0mX\u001b[0m\u001b[1;33m)\u001b[0m\u001b[1;33m\u001b[0m\u001b[0m\n\u001b[0;32m    100\u001b[0m         \u001b[0mself\u001b[0m\u001b[1;33m.\u001b[0m\u001b[0minner_model\u001b[0m\u001b[1;33m.\u001b[0m\u001b[0mfit\u001b[0m\u001b[1;33m(\u001b[0m\u001b[0mX\u001b[0m\u001b[1;33m,\u001b[0m \u001b[0my\u001b[0m\u001b[1;33m)\u001b[0m\u001b[1;33m\u001b[0m\u001b[0m\n",
      "\u001b[1;32m/media/vlad/01D198E892261920/vlad/vlad/diploma/frn.py\u001b[0m in \u001b[0;36m_set_relevant_feature_mask\u001b[1;34m(self, X, y)\u001b[0m\n\u001b[0;32m     87\u001b[0m         \u001b[0mimportance_threshold\u001b[0m \u001b[1;33m=\u001b[0m \u001b[0mfeature_importances\u001b[0m\u001b[1;33m.\u001b[0m\u001b[0mmean\u001b[0m\u001b[1;33m(\u001b[0m\u001b[1;33m)\u001b[0m \u001b[1;33m*\u001b[0m \u001b[0mself\u001b[0m\u001b[1;33m.\u001b[0m\u001b[0mfeature_selection_threshold_coef\u001b[0m\u001b[1;33m\u001b[0m\u001b[0m\n\u001b[0;32m     88\u001b[0m         \u001b[1;32mprint\u001b[0m \u001b[0mfeature_importances\u001b[0m\u001b[1;33m.\u001b[0m\u001b[0mmean\u001b[0m\u001b[1;33m(\u001b[0m\u001b[1;33m)\u001b[0m\u001b[1;33m,\u001b[0m \u001b[0mimportance_threshold\u001b[0m\u001b[1;33m,\u001b[0m \u001b[0mself\u001b[0m\u001b[1;33m.\u001b[0m\u001b[0mfeature_selection_threshold_coef\u001b[0m\u001b[1;33m,\u001b[0m \u001b[0mimportance_threshold\u001b[0m\u001b[1;33m.\u001b[0m\u001b[0msum\u001b[0m\u001b[1;33m(\u001b[0m\u001b[1;33m)\u001b[0m\u001b[1;33m\u001b[0m\u001b[0m\n\u001b[1;32m---> 89\u001b[1;33m         \u001b[0mself\u001b[0m\u001b[1;33m.\u001b[0m\u001b[0m_relevant_feature_mask\u001b[0m \u001b[1;33m=\u001b[0m \u001b[0mget_rel_feat_frn\u001b[0m\u001b[1;33m(\u001b[0m\u001b[0mself\u001b[0m\u001b[1;33m.\u001b[0m\u001b[0m_get_reduced_params\u001b[0m\u001b[1;33m(\u001b[0m\u001b[1;33m)\u001b[0m\u001b[1;33m,\u001b[0m \u001b[0mX\u001b[0m\u001b[1;33m,\u001b[0m \u001b[0mfeature_importances\u001b[0m\u001b[1;33m,\u001b[0m \u001b[0mimportance_threshold\u001b[0m\u001b[1;33m)\u001b[0m\u001b[1;33m\u001b[0m\u001b[0m\n\u001b[0m\u001b[0;32m     90\u001b[0m \u001b[1;33m\u001b[0m\u001b[0m\n\u001b[0;32m     91\u001b[0m     \u001b[1;32mdef\u001b[0m \u001b[0mget_support\u001b[0m\u001b[1;33m(\u001b[0m\u001b[0mself\u001b[0m\u001b[1;33m,\u001b[0m \u001b[0mindices\u001b[0m\u001b[1;33m=\u001b[0m\u001b[0mFalse\u001b[0m\u001b[1;33m)\u001b[0m\u001b[1;33m:\u001b[0m\u001b[1;33m\u001b[0m\u001b[0m\n",
      "\u001b[1;32m/usr/lib/pymodules/python2.7/joblib/memory.pyc\u001b[0m in \u001b[0;36m__call__\u001b[1;34m(self, *args, **kwargs)\u001b[0m\n\u001b[0;32m    161\u001b[0m                           \u001b[1;34m'directory %s'\u001b[0m\u001b[1;33m\u001b[0m\u001b[0m\n\u001b[0;32m    162\u001b[0m                         % (name, argument_hash, output_dir))\n\u001b[1;32m--> 163\u001b[1;33m             \u001b[1;32mreturn\u001b[0m \u001b[0mself\u001b[0m\u001b[1;33m.\u001b[0m\u001b[0mcall\u001b[0m\u001b[1;33m(\u001b[0m\u001b[1;33m*\u001b[0m\u001b[0margs\u001b[0m\u001b[1;33m,\u001b[0m \u001b[1;33m**\u001b[0m\u001b[0mkwargs\u001b[0m\u001b[1;33m)\u001b[0m\u001b[1;33m\u001b[0m\u001b[0m\n\u001b[0m\u001b[0;32m    164\u001b[0m         \u001b[1;32melse\u001b[0m\u001b[1;33m:\u001b[0m\u001b[1;33m\u001b[0m\u001b[0m\n\u001b[0;32m    165\u001b[0m             \u001b[1;32mtry\u001b[0m\u001b[1;33m:\u001b[0m\u001b[1;33m\u001b[0m\u001b[0m\n",
      "\u001b[1;32m/usr/lib/pymodules/python2.7/joblib/memory.pyc\u001b[0m in \u001b[0;36mcall\u001b[1;34m(self, *args, **kwargs)\u001b[0m\n\u001b[0;32m    319\u001b[0m         \u001b[1;32mif\u001b[0m \u001b[0mself\u001b[0m\u001b[1;33m.\u001b[0m\u001b[0m_verbose\u001b[0m\u001b[1;33m:\u001b[0m\u001b[1;33m\u001b[0m\u001b[0m\n\u001b[0;32m    320\u001b[0m             \u001b[1;32mprint\u001b[0m\u001b[1;33m(\u001b[0m\u001b[0mself\u001b[0m\u001b[1;33m.\u001b[0m\u001b[0mformat_call\u001b[0m\u001b[1;33m(\u001b[0m\u001b[1;33m*\u001b[0m\u001b[0margs\u001b[0m\u001b[1;33m,\u001b[0m \u001b[1;33m**\u001b[0m\u001b[0mkwargs\u001b[0m\u001b[1;33m)\u001b[0m\u001b[1;33m)\u001b[0m\u001b[1;33m\u001b[0m\u001b[0m\n\u001b[1;32m--> 321\u001b[1;33m         \u001b[0moutput\u001b[0m \u001b[1;33m=\u001b[0m \u001b[0mself\u001b[0m\u001b[1;33m.\u001b[0m\u001b[0mfunc\u001b[0m\u001b[1;33m(\u001b[0m\u001b[1;33m*\u001b[0m\u001b[0margs\u001b[0m\u001b[1;33m,\u001b[0m \u001b[1;33m**\u001b[0m\u001b[0mkwargs\u001b[0m\u001b[1;33m)\u001b[0m\u001b[1;33m\u001b[0m\u001b[0m\n\u001b[0m\u001b[0;32m    322\u001b[0m         \u001b[0mself\u001b[0m\u001b[1;33m.\u001b[0m\u001b[0m_persist_output\u001b[0m\u001b[1;33m(\u001b[0m\u001b[0moutput\u001b[0m\u001b[1;33m,\u001b[0m \u001b[0moutput_dir\u001b[0m\u001b[1;33m)\u001b[0m\u001b[1;33m\u001b[0m\u001b[0m\n\u001b[0;32m    323\u001b[0m         \u001b[0mself\u001b[0m\u001b[1;33m.\u001b[0m\u001b[0m_persist_input\u001b[0m\u001b[1;33m(\u001b[0m\u001b[0moutput_dir\u001b[0m\u001b[1;33m,\u001b[0m \u001b[1;33m*\u001b[0m\u001b[0margs\u001b[0m\u001b[1;33m,\u001b[0m \u001b[1;33m**\u001b[0m\u001b[0mkwargs\u001b[0m\u001b[1;33m)\u001b[0m\u001b[1;33m\u001b[0m\u001b[0m\n",
      "\u001b[1;32m/media/vlad/01D198E892261920/vlad/vlad/diploma/frn.py\u001b[0m in \u001b[0;36mget_rel_feat_frn\u001b[1;34m(params, X, feature_importances, importance_threshold)\u001b[0m\n\u001b[0;32m     12\u001b[0m \u001b[1;32mdef\u001b[0m \u001b[0mget_rel_feat_frn\u001b[0m\u001b[1;33m(\u001b[0m\u001b[0mparams\u001b[0m\u001b[1;33m,\u001b[0m \u001b[0mX\u001b[0m\u001b[1;33m,\u001b[0m \u001b[0mfeature_importances\u001b[0m\u001b[1;33m,\u001b[0m \u001b[0mimportance_threshold\u001b[0m\u001b[1;33m)\u001b[0m\u001b[1;33m:\u001b[0m\u001b[1;33m\u001b[0m\u001b[0m\n\u001b[0;32m     13\u001b[0m     \u001b[0mfrn\u001b[0m \u001b[1;33m=\u001b[0m \u001b[0mFeatureRelevanceNetwork\u001b[0m\u001b[1;33m(\u001b[0m\u001b[1;33m**\u001b[0m\u001b[0mparams\u001b[0m\u001b[1;33m)\u001b[0m\u001b[1;33m\u001b[0m\u001b[0m\n\u001b[1;32m---> 14\u001b[1;33m     \u001b[1;32mreturn\u001b[0m \u001b[0mfrn\u001b[0m\u001b[1;33m.\u001b[0m\u001b[0mget_relevant_features\u001b[0m\u001b[1;33m(\u001b[0m\u001b[0mX\u001b[0m\u001b[1;33m,\u001b[0m \u001b[0mfeature_importances\u001b[0m\u001b[1;33m,\u001b[0m \u001b[0mimportance_threshold\u001b[0m\u001b[1;33m)\u001b[0m\u001b[1;33m\u001b[0m\u001b[0m\n\u001b[0m\u001b[0;32m     15\u001b[0m \u001b[1;33m\u001b[0m\u001b[0m\n\u001b[0;32m     16\u001b[0m \u001b[1;33m\u001b[0m\u001b[0m\n",
      "\u001b[1;32m/media/vlad/01D198E892261920/vlad/vlad/diploma/frn.py\u001b[0m in \u001b[0;36mget_relevant_features\u001b[1;34m(self, X, feature_importances, importance_threshold)\u001b[0m\n\u001b[0;32m     49\u001b[0m     \u001b[1;32mdef\u001b[0m \u001b[0mget_relevant_features\u001b[0m\u001b[1;33m(\u001b[0m\u001b[0mself\u001b[0m\u001b[1;33m,\u001b[0m \u001b[0mX\u001b[0m\u001b[1;33m,\u001b[0m \u001b[0mfeature_importances\u001b[0m\u001b[1;33m,\u001b[0m \u001b[0mimportance_threshold\u001b[0m\u001b[1;33m)\u001b[0m\u001b[1;33m:\u001b[0m\u001b[1;33m\u001b[0m\u001b[0m\n\u001b[0;32m     50\u001b[0m         \u001b[1;32mprint\u001b[0m \u001b[1;34m\"get_relevant_features_call\"\u001b[0m\u001b[1;33m\u001b[0m\u001b[0m\n\u001b[1;32m---> 51\u001b[1;33m         \u001b[0medges\u001b[0m\u001b[1;33m,\u001b[0m \u001b[0medge_weights\u001b[0m\u001b[1;33m,\u001b[0m \u001b[0munary_cost\u001b[0m\u001b[1;33m,\u001b[0m \u001b[0mpairwise_cost\u001b[0m \u001b[1;33m=\u001b[0m \u001b[0mself\u001b[0m\u001b[1;33m.\u001b[0m\u001b[0m_get_model_parameters\u001b[0m\u001b[1;33m(\u001b[0m\u001b[0mX\u001b[0m\u001b[1;33m,\u001b[0m \u001b[0mfeature_importances\u001b[0m\u001b[1;33m,\u001b[0m \u001b[0mimportance_threshold\u001b[0m\u001b[1;33m)\u001b[0m\u001b[1;33m\u001b[0m\u001b[0m\n\u001b[0m\u001b[0;32m     52\u001b[0m         \u001b[0mresult\u001b[0m \u001b[1;33m=\u001b[0m \u001b[0mpygco\u001b[0m\u001b[1;33m.\u001b[0m\u001b[0mcut_general_graph\u001b[0m\u001b[1;33m(\u001b[0m\u001b[0medges\u001b[0m\u001b[1;33m,\u001b[0m \u001b[0medge_weights\u001b[0m\u001b[1;33m,\u001b[0m \u001b[0munary_cost\u001b[0m\u001b[1;33m,\u001b[0m \u001b[0mpairwise_cost\u001b[0m\u001b[1;33m,\u001b[0m \u001b[0mn_iter\u001b[0m\u001b[1;33m=\u001b[0m\u001b[1;36m1\u001b[0m\u001b[1;33m,\u001b[0m \u001b[0malgorithm\u001b[0m\u001b[1;33m=\u001b[0m\u001b[1;34m\"expansion\"\u001b[0m\u001b[1;33m)\u001b[0m\u001b[1;33m\u001b[0m\u001b[0m\n\u001b[0;32m     53\u001b[0m         \u001b[1;32mprint\u001b[0m \u001b[1;34m\"features count:\"\u001b[0m\u001b[1;33m,\u001b[0m \u001b[0mresult\u001b[0m\u001b[1;33m.\u001b[0m\u001b[0msum\u001b[0m\u001b[1;33m(\u001b[0m\u001b[1;33m)\u001b[0m\u001b[1;33m\u001b[0m\u001b[0m\n",
      "\u001b[1;32m/media/vlad/01D198E892261920/vlad/vlad/diploma/frn.py\u001b[0m in \u001b[0;36m_get_model_parameters\u001b[1;34m(self, X, feature_importances, importance_threshold)\u001b[0m\n\u001b[0;32m     40\u001b[0m             \u001b[1;32mfor\u001b[0m \u001b[0mj\u001b[0m \u001b[1;32min\u001b[0m \u001b[0mxrange\u001b[0m\u001b[1;33m(\u001b[0m\u001b[0mi\u001b[0m \u001b[1;33m+\u001b[0m \u001b[1;36m1\u001b[0m\u001b[1;33m,\u001b[0m \u001b[0mcorrelation_coefficient\u001b[0m\u001b[1;33m.\u001b[0m\u001b[0mshape\u001b[0m\u001b[1;33m[\u001b[0m\u001b[1;36m1\u001b[0m\u001b[1;33m]\u001b[0m\u001b[1;33m)\u001b[0m\u001b[1;33m:\u001b[0m\u001b[1;33m\u001b[0m\u001b[0m\n\u001b[0;32m     41\u001b[0m                 \u001b[1;32mif\u001b[0m \u001b[0mcorrelation_coefficient\u001b[0m\u001b[1;33m[\u001b[0m\u001b[0mi\u001b[0m\u001b[1;33m]\u001b[0m\u001b[1;33m[\u001b[0m\u001b[0mj\u001b[0m\u001b[1;33m]\u001b[0m \u001b[1;33m>=\u001b[0m \u001b[0mself\u001b[0m\u001b[1;33m.\u001b[0m\u001b[0mmin_correlation\u001b[0m\u001b[1;33m:\u001b[0m\u001b[1;33m\u001b[0m\u001b[0m\n\u001b[1;32m---> 42\u001b[1;33m                     \u001b[0medges\u001b[0m\u001b[1;33m[\u001b[0m\u001b[0medges_added\u001b[0m\u001b[1;33m]\u001b[0m \u001b[1;33m=\u001b[0m \u001b[0mnp\u001b[0m\u001b[1;33m.\u001b[0m\u001b[0marray\u001b[0m\u001b[1;33m(\u001b[0m\u001b[1;33m[\u001b[0m\u001b[0mi\u001b[0m\u001b[1;33m,\u001b[0m \u001b[0mj\u001b[0m\u001b[1;33m]\u001b[0m\u001b[1;33m)\u001b[0m\u001b[1;33m\u001b[0m\u001b[0m\n\u001b[0m\u001b[0;32m     43\u001b[0m                     \u001b[0medge_weights\u001b[0m\u001b[1;33m[\u001b[0m\u001b[0medges_added\u001b[0m\u001b[1;33m]\u001b[0m \u001b[1;33m=\u001b[0m \u001b[0mcorrelation_coefficient\u001b[0m\u001b[1;33m[\u001b[0m\u001b[0mi\u001b[0m\u001b[1;33m]\u001b[0m\u001b[1;33m[\u001b[0m\u001b[0mj\u001b[0m\u001b[1;33m]\u001b[0m\u001b[1;33m\u001b[0m\u001b[0m\n\u001b[0;32m     44\u001b[0m                     \u001b[0medges_added\u001b[0m \u001b[1;33m+=\u001b[0m \u001b[1;36m1\u001b[0m\u001b[1;33m\u001b[0m\u001b[0m\n",
      "\u001b[1;31mKeyboardInterrupt\u001b[0m: "
     ]
    }
   ],
   "source": [
    "model = get_complete_tree_based_model()\n",
    "test_models_with_drugs([('xgboost', model)], [u'ETHI: Ethionamide/ Prothionamide '], metrics=['accuracy', 'confusion matrix'])"
   ]
  },
  {
   "cell_type": "code",
   "execution_count": 10,
   "metadata": {
    "collapsed": true
   },
   "outputs": [],
   "source": [
    "X = get_data_keeper().get_common_x()"
   ]
  },
  {
   "cell_type": "code",
   "execution_count": 11,
   "metadata": {
    "collapsed": true
   },
   "outputs": [],
   "source": [
    "from testing import results_differ_p_value"
   ]
  },
  {
   "cell_type": "code",
   "execution_count": 14,
   "metadata": {
    "collapsed": false
   },
   "outputs": [
    {
     "data": {
      "text/plain": [
       "0.077071286548999973"
      ]
     },
     "execution_count": 14,
     "metadata": {},
     "output_type": "execute_result"
    }
   ],
   "source": [
    "results_differ_p_value([0] * 100 + [1] * 32, [0] * 100 + [1] * 32, [0] * 99 + [1] * 32 + [0])"
   ]
  },
  {
   "cell_type": "code",
   "execution_count": 12,
   "metadata": {
    "collapsed": false
   },
   "outputs": [],
   "source": [
    "from generate_subsets_for_common_x import get_ready_generator\n",
    "GENERATOR_FOLDER = '/media/vlad/01D198E892261920/vlad/vlad/diploma'"
   ]
  },
  {
   "cell_type": "code",
   "execution_count": 2,
   "metadata": {
    "collapsed": false,
    "scrolled": true
   },
   "outputs": [
    {
     "data": {
      "text/plain": [
       "(<wrappers.SubsetGeneratorWrapper at 0x7fdb0e64bcb0>,\n",
       "           698  1594  1771  4086  7570  7572  7581  7582  8040  9841  11370  \\\n",
       " #snp_pos                                                                     \n",
       " G55413      0     0     0     1     1     0     0     0     0     0      0   \n",
       " G55414      0     1     0     1     0     0     0     0     0     0      0   \n",
       " G55415      0     0     0     0     0     0     0     0     0     0      0   \n",
       " G55416      0     0     0     1     0     0     0     0     0     0      0   \n",
       " G55417      0     0     0     0     0     0     0     0     0     0      0   \n",
       " G55418      0     0     0     1     1     0     0     0     0     0      0   \n",
       " G55419      0     0     0     0     0     0     0     0     0     0      0   \n",
       " G55421      0     1     0     1     0     0     0     1     0     0      0   \n",
       " G55422      0     0     0     0     0     0     0     0     0     0      0   \n",
       " G55423      0     0     0     0     0     0     0     0     0     0      0   \n",
       " G55424      0     0     0     0     0     0     0     0     0     0      0   \n",
       " G55425      0     1     0     0     0     0     0     0     0     0      0   \n",
       " G55426      0     0     0     0     0     0     0     0     0     0      0   \n",
       " G55427      0     1     0     1     0     0     0     0     0     0      0   \n",
       " G55428      0     0     0     1     0     0     0     1     0     0      0   \n",
       " G55429      1     0     0     0     0     0     0     0     1     0      0   \n",
       " G55430      0     0     0     0     0     0     0     0     0     0      0   \n",
       " G55431      1     0     0     0     0     0     0     0     1     0      0   \n",
       " G55432      0     0     0     0     0     0     0     0     0     0      0   \n",
       " G55433      0     0     0     0     0     0     0     0     0     0      0   \n",
       " G55435      1     0     0     0     0     0     1     0     1     0      0   \n",
       " G55436      0     0     0     0     0     0     0     0     0     0      0   \n",
       " G55438      0     1     0     1     0     0     0     1     0     0      0   \n",
       " G55439      0     0     0     0     0     0     0     0     0     0      0   \n",
       " G55440      0     0     0     1     0     0     0     0     0     0      0   \n",
       " G55441      0     0     0     1     0     0     0     1     0     0      0   \n",
       " G55442      0     0     0     1     0     0     0     0     0     0      0   \n",
       " G55443      1     0     0     0     1     0     0     0     1     0      0   \n",
       " G55444      0     0     0     0     0     0     0     1     0     0      0   \n",
       " G55445      0     0     0     1     0     0     0     0     0     0      0   \n",
       " G55446      0     0     0     0     0     0     0     1     0     0      1   \n",
       " G55447      0     0     0     1     0     0     0     1     0     0      0   \n",
       " G55448      0     0     0     0     0     0     0     0     0     0      0   \n",
       " G55449      0     0     0     1     1     0     0     0     0     0      0   \n",
       " G55450      0     1     0     1     1     0     1     0     0     0      0   \n",
       " G55451      0     0     0     1     1     0     0     0     0     0      0   \n",
       " G55452      1     0     0     0     0     0     1     0     1     0      0   \n",
       " G55453      0     1     0     0     0     0     0     1     0     0      0   \n",
       " G55454      0     0     0     0     0     0     1     0     0     0      0   \n",
       " G55455      0     0     0     0     0     0     0     0     0     0      0   \n",
       " G55457      0     1     0     1     0     0     0     1     0     0      0   \n",
       " G55458      1     0     0     0     0     0     0     0     1     0      0   \n",
       " G55459      0     0     0     1     0     0     0     0     0     0      0   \n",
       " G55460      0     0     0     1     0     0     0     0     0     0      0   \n",
       " G55461      0     0     0     0     0     0     0     0     0     0      0   \n",
       " G55462      0     1     0     0     0     0     0     0     0     0      0   \n",
       " G55463      0     0     0     1     0     0     0     1     0     0      0   \n",
       " G55464      0     0     0     0     0     0     0     0     0     0      0   \n",
       " G55465      0     0     0     1     0     0     0     1     0     0      0   \n",
       " G55466      0     0     0     0     0     0     0     0     0     0      0   \n",
       " G55467      0     0     0     1     0     0     0     0     0     0      0   \n",
       " G55468      0     0     0     1     0     0     0     0     0     0      0   \n",
       " G55469      0     0     0     0     0     0     0     0     1     0      0   \n",
       " G55470      0     1     0     1     1     0     0     0     0     0      0   \n",
       " G55471      0     1     0     1     0     0     0     1     0     0      0   \n",
       " G55472      0     0     0     1     0     0     0     1     0     0      0   \n",
       " G55473      0     0     0     1     0     0     0     1     0     0      0   \n",
       " G55474      0     0     0     0     0     0     0     0     0     0      1   \n",
       " G55475      0     1     0     1     1     0     0     0     0     0      0   \n",
       " G55476      0     0     0     1     0     0     0     0     0     0      0   \n",
       "           ...   ...   ...   ...   ...   ...   ...   ...   ...   ...    ...   \n",
       " \n",
       "           14105  14251  15159  15517  16089  16807  17608  24060  24720      \n",
       " #snp_pos                                                                     \n",
       " G55413        0      0      0      0      0      0      0      0      1 ...  \n",
       " G55414        0      0      0      0      0      0      0      0      0 ...  \n",
       " G55415        0      0      0      0      0      0      0      0      0 ...  \n",
       " G55416        0      0      0      0      0      0      0      0      0 ...  \n",
       " G55417        0      0      0      0      0      0      0      0      0 ...  \n",
       " G55418        0      0      0      0      0      0      0      0      0 ...  \n",
       " G55419        0      0      0      0      0      1      0      0      0 ...  \n",
       " G55421        0      0      0      0      0      0      0      0      1 ...  \n",
       " G55422        0      0      0      0      0      0      0      0      0 ...  \n",
       " G55423        0      0      0      0      0      0      0      0      0 ...  \n",
       " G55424        0      0      0      0      0      0      0      1      0 ...  \n",
       " G55425        0      0      0      0      0      0      0      0      0 ...  \n",
       " G55426        0      0      0      0      0      0      0      0      0 ...  \n",
       " G55427        0      0      0      0      0      0      0      0      0 ...  \n",
       " G55428        0      0      0      0      0      0      0      0      1 ...  \n",
       " G55429        0      1      0      0      0      0      1      0      0 ...  \n",
       " G55430        0      0      0      0      0      0      0      0      0 ...  \n",
       " G55431        0      1      0      0      0      0      1      0      0 ...  \n",
       " G55432        0      0      0      0      0      0      0      0      0 ...  \n",
       " G55433        0      0      0      0      0      0      0      0      0 ...  \n",
       " G55435        0      1      0      0      0      0      1      0      0 ...  \n",
       " G55436        0      0      0      0      0      0      0      0      1 ...  \n",
       " G55438        0      0      0      0      0      0      0      0      0 ...  \n",
       " G55439        0      0      0      0      0      0      0      0      0 ...  \n",
       " G55440        0      0      0      0      0      0      0      0      1 ...  \n",
       " G55441        0      0      0      0      0      0      0      0      0 ...  \n",
       " G55442        0      0      0      0      0      0      0      0      0 ...  \n",
       " G55443        0      1      0      0      0      0      1      0      0 ...  \n",
       " G55444        0      0      0      0      0      0      0      0      1 ...  \n",
       " G55445        0      0      0      0      0      0      0      0      1 ...  \n",
       " G55446        0      0      0      0      0      0      0      0      0 ...  \n",
       " G55447        0      0      0      0      0      0      0      0      1 ...  \n",
       " G55448        0      0      0      0      0      1      0      0      0 ...  \n",
       " G55449        0      0      0      0      0      0      0      0      1 ...  \n",
       " G55450        0      0      0      0      0      0      0      0      0 ...  \n",
       " G55451        0      0      0      0      0      0      0      0      1 ...  \n",
       " G55452        0      1      0      0      0      0      1      0      0 ...  \n",
       " G55453        0      0      0      0      0      0      0      0      0 ...  \n",
       " G55454        0      0      0      0      0      0      0      0      1 ...  \n",
       " G55455        0      0      0      0      0      0      0      0      0 ...  \n",
       " G55457        0      0      0      0      0      0      0      0      0 ...  \n",
       " G55458        0      1      0      0      0      0      1      0      0 ...  \n",
       " G55459        0      0      0      0      0      0      0      0      0 ...  \n",
       " G55460        0      0      0      0      0      0      0      0      0 ...  \n",
       " G55461        0      0      0      0      0      1      0      0      0 ...  \n",
       " G55462        0      0      0      0      0      0      0      0      0 ...  \n",
       " G55463        0      0      0      0      0      0      0      0      1 ...  \n",
       " G55464        0      0      0      0      0      0      0      0      0 ...  \n",
       " G55465        0      0      0      0      0      0      0      0      1 ...  \n",
       " G55466        0      0      0      0      0      0      0      0      0 ...  \n",
       " G55467        0      0      0      0      0      0      0      0      0 ...  \n",
       " G55468        0      0      0      0      0      0      0      0      0 ...  \n",
       " G55469        0      1      0      0      0      0      1      0      0 ...  \n",
       " G55470        0      0      0      0      0      0      0      0      0 ...  \n",
       " G55471        0      0      0      0      0      0      0      0      0 ...  \n",
       " G55472        0      0      0      0      0      0      0      0      1 ...  \n",
       " G55473        0      0      0      0      0      0      0      0      1 ...  \n",
       " G55474        0      0      0      0      0      0      0      0      0 ...  \n",
       " G55475        0      0      0      0      0      0      0      0      0 ...  \n",
       " G55476        0      0      0      0      0      0      0      0      0 ...  \n",
       "             ...    ...    ...    ...    ...    ...    ...    ...    ...      \n",
       " \n",
       " [142 rows x 3175 columns])"
      ]
     },
     "execution_count": 2,
     "metadata": {},
     "output_type": "execute_result"
    }
   ],
   "source": [
    "res = get_ready_generator(folder=GENERATOR_FOLDER)\n",
    "res"
   ]
  },
  {
   "cell_type": "code",
   "execution_count": 3,
   "metadata": {
    "collapsed": false
   },
   "outputs": [],
   "source": [
    "generator, X = res"
   ]
  },
  {
   "cell_type": "code",
   "execution_count": 4,
   "metadata": {
    "collapsed": false
   },
   "outputs": [
    {
     "data": {
      "text/plain": [
       "106625438"
      ]
     },
     "execution_count": 4,
     "metadata": {},
     "output_type": "execute_result"
    }
   ],
   "source": [
    "generator.get_sets_count()"
   ]
  },
  {
   "cell_type": "code",
   "execution_count": 31,
   "metadata": {
    "collapsed": false
   },
   "outputs": [],
   "source": [
    "from complex_features_inserting import ExtenderStrategy, MinSizePreFilter, SimplePriorityGetter, BayesBasedPriorityGetter, ComplexFeaturesAdderWrapper\n",
    "def get_simple_feature_adder_wrapper(inner_model, max_features_to_add):\n",
    "    generator, matrix_before_generating = get_ready_generator()\n",
    "    priority_getter = BayesBasedPriorityGetter(max_features_to_add)\n",
    "    pre_filter = MinSizePreFilter(min_size=1)\n",
    "    extender_strategy = ExtenderStrategy(max_features=1000, \n",
    "                                         priority_getter=priority_getter, \n",
    "                                         pre_filter=pre_filter,\n",
    "                                         generator=get_ready_generator()[0])\n",
    "    return ComplexFeaturesAdderWrapper(inner_model=inner_model, \n",
    "                                       matrix_before_generating=matrix_before_generating.as_matrix(),\n",
    "                                       features_names=list(matrix_before_generating.columns.values),\n",
    "                                       objects_names=list(matrix_before_generating.index),\n",
    "                                       extender_strategy=extender_strategy)"
   ]
  },
  {
   "cell_type": "code",
   "execution_count": 32,
   "metadata": {
    "collapsed": false
   },
   "outputs": [],
   "source": [
    "from sklearn.linear_model import LogisticRegression\n",
    "simple_feature_adder_wrapper = get_simple_feature_adder_wrapper(LogisticRegression(), 1000)"
   ]
  },
  {
   "cell_type": "code",
   "execution_count": 33,
   "metadata": {
    "collapsed": false
   },
   "outputs": [
    {
     "data": {
      "text/plain": [
       "(142, 3175)"
      ]
     },
     "execution_count": 33,
     "metadata": {},
     "output_type": "execute_result"
    }
   ],
   "source": [
    "simple_feature_adder_wrapper.matrix_before_generating.shape"
   ]
  },
  {
   "cell_type": "code",
   "execution_count": 34,
   "metadata": {
    "collapsed": false
   },
   "outputs": [],
   "source": [
    "X, y = get_data_keeper().get_train_data('ETHI: Ethionamide/ Prothionamide ')"
   ]
  },
  {
   "cell_type": "code",
   "execution_count": 35,
   "metadata": {
    "collapsed": false
   },
   "outputs": [],
   "source": [
    "possible_objects = set(y.index)"
   ]
  },
  {
   "cell_type": "code",
   "execution_count": 36,
   "metadata": {
    "collapsed": false
   },
   "outputs": [],
   "source": [
    "import numpy as np\n",
    "indexes = list()\n",
    "y_refactored = list()\n",
    "\n",
    "for i, el in enumerate(simple_feature_adder_wrapper.objects_names):\n",
    "    if el in possible_objects:\n",
    "        indexes.append(i)\n",
    "        y_refactored.append(y[el])\n",
    "y_refactored = np.array(y_refactored)\n",
    "indexes = np.array(indexes)\n",
    "indexes = indexes.reshape((indexes.shape[0], 1))"
   ]
  },
  {
   "cell_type": "code",
   "execution_count": 37,
   "metadata": {
    "collapsed": false
   },
   "outputs": [
    {
     "data": {
      "text/plain": [
       "136"
      ]
     },
     "execution_count": 37,
     "metadata": {},
     "output_type": "execute_result"
    }
   ],
   "source": [
    "len(indexes)"
   ]
  },
  {
   "cell_type": "code",
   "execution_count": 38,
   "metadata": {
    "collapsed": false
   },
   "outputs": [
    {
     "data": {
      "text/plain": [
       "106625438"
      ]
     },
     "execution_count": 38,
     "metadata": {},
     "output_type": "execute_result"
    }
   ],
   "source": [
    "get_ready_generator()[0].get_sets_count()"
   ]
  },
  {
   "cell_type": "code",
   "execution_count": 39,
   "metadata": {
    "collapsed": false
   },
   "outputs": [],
   "source": [
    "import sys\n",
    "stdout = sys.stdout\n",
    "stderr = sys.stderr"
   ]
  },
  {
   "cell_type": "code",
   "execution_count": 40,
   "metadata": {
    "collapsed": false
   },
   "outputs": [
    {
     "ename": "TypeError",
     "evalue": "_get_candidate_priority() takes exactly 4 arguments (5 given)",
     "output_type": "error",
     "traceback": [
      "\u001b[1;31m---------------------------------------------------------------------------\u001b[0m",
      "\u001b[1;31mTypeError\u001b[0m                                 Traceback (most recent call last)",
      "\u001b[1;32m<ipython-input-40-40c602058d3c>\u001b[0m in \u001b[0;36m<module>\u001b[1;34m()\u001b[0m\n\u001b[0;32m      3\u001b[0m \u001b[1;32mfrom\u001b[0m \u001b[0mwrappers\u001b[0m \u001b[1;32mimport\u001b[0m \u001b[0mXGBoostClassifierFeatureImportances\u001b[0m \u001b[1;32mas\u001b[0m \u001b[0mXGB\u001b[0m\u001b[1;33m\u001b[0m\u001b[0m\n\u001b[0;32m      4\u001b[0m \u001b[0msys\u001b[0m\u001b[1;33m.\u001b[0m\u001b[0mstdout\u001b[0m \u001b[1;33m=\u001b[0m \u001b[0msys\u001b[0m\u001b[1;33m.\u001b[0m\u001b[0mstderr\u001b[0m \u001b[1;33m=\u001b[0m \u001b[0mopen\u001b[0m\u001b[1;33m(\u001b[0m\u001b[1;34m\"cross_val.log\"\u001b[0m\u001b[1;33m,\u001b[0m \u001b[1;34m\"w\"\u001b[0m\u001b[1;33m)\u001b[0m\u001b[1;33m\u001b[0m\u001b[0m\n\u001b[1;32m----> 5\u001b[1;33m \u001b[0mcross_val_score\u001b[0m\u001b[1;33m(\u001b[0m\u001b[0msimple_feature_adder_wrapper\u001b[0m\u001b[1;33m,\u001b[0m \u001b[0mindexes\u001b[0m\u001b[1;33m,\u001b[0m \u001b[0my_refactored\u001b[0m\u001b[1;33m,\u001b[0m \u001b[0mscoring\u001b[0m\u001b[1;33m=\u001b[0m\u001b[0mmake_scorer\u001b[0m\u001b[1;33m(\u001b[0m\u001b[0maccuracy_score\u001b[0m\u001b[1;33m)\u001b[0m\u001b[1;33m,\u001b[0m \u001b[0mcv\u001b[0m\u001b[1;33m=\u001b[0m\u001b[1;36m10\u001b[0m\u001b[1;33m)\u001b[0m\u001b[1;33m\u001b[0m\u001b[0m\n\u001b[0m",
      "\u001b[1;32m/usr/local/lib/python2.7/dist-packages/sklearn/cross_validation.pyc\u001b[0m in \u001b[0;36mcross_val_score\u001b[1;34m(estimator, X, y, scoring, cv, n_jobs, verbose, fit_params, pre_dispatch)\u001b[0m\n\u001b[0;32m   1431\u001b[0m                                               \u001b[0mtrain\u001b[0m\u001b[1;33m,\u001b[0m \u001b[0mtest\u001b[0m\u001b[1;33m,\u001b[0m \u001b[0mverbose\u001b[0m\u001b[1;33m,\u001b[0m \u001b[0mNone\u001b[0m\u001b[1;33m,\u001b[0m\u001b[1;33m\u001b[0m\u001b[0m\n\u001b[0;32m   1432\u001b[0m                                               fit_params)\n\u001b[1;32m-> 1433\u001b[1;33m                       for train, test in cv)\n\u001b[0m\u001b[0;32m   1434\u001b[0m     \u001b[1;32mreturn\u001b[0m \u001b[0mnp\u001b[0m\u001b[1;33m.\u001b[0m\u001b[0marray\u001b[0m\u001b[1;33m(\u001b[0m\u001b[0mscores\u001b[0m\u001b[1;33m)\u001b[0m\u001b[1;33m[\u001b[0m\u001b[1;33m:\u001b[0m\u001b[1;33m,\u001b[0m \u001b[1;36m0\u001b[0m\u001b[1;33m]\u001b[0m\u001b[1;33m\u001b[0m\u001b[0m\n\u001b[0;32m   1435\u001b[0m \u001b[1;33m\u001b[0m\u001b[0m\n",
      "\u001b[1;32m/usr/local/lib/python2.7/dist-packages/sklearn/externals/joblib/parallel.pyc\u001b[0m in \u001b[0;36m__call__\u001b[1;34m(self, iterable)\u001b[0m\n\u001b[0;32m    798\u001b[0m             \u001b[1;31m# was dispatched. In particular this covers the edge\u001b[0m\u001b[1;33m\u001b[0m\u001b[1;33m\u001b[0m\u001b[0m\n\u001b[0;32m    799\u001b[0m             \u001b[1;31m# case of Parallel used with an exhausted iterator.\u001b[0m\u001b[1;33m\u001b[0m\u001b[1;33m\u001b[0m\u001b[0m\n\u001b[1;32m--> 800\u001b[1;33m             \u001b[1;32mwhile\u001b[0m \u001b[0mself\u001b[0m\u001b[1;33m.\u001b[0m\u001b[0mdispatch_one_batch\u001b[0m\u001b[1;33m(\u001b[0m\u001b[0miterator\u001b[0m\u001b[1;33m)\u001b[0m\u001b[1;33m:\u001b[0m\u001b[1;33m\u001b[0m\u001b[0m\n\u001b[0m\u001b[0;32m    801\u001b[0m                 \u001b[0mself\u001b[0m\u001b[1;33m.\u001b[0m\u001b[0m_iterating\u001b[0m \u001b[1;33m=\u001b[0m \u001b[0mTrue\u001b[0m\u001b[1;33m\u001b[0m\u001b[0m\n\u001b[0;32m    802\u001b[0m             \u001b[1;32melse\u001b[0m\u001b[1;33m:\u001b[0m\u001b[1;33m\u001b[0m\u001b[0m\n",
      "\u001b[1;32m/usr/local/lib/python2.7/dist-packages/sklearn/externals/joblib/parallel.pyc\u001b[0m in \u001b[0;36mdispatch_one_batch\u001b[1;34m(self, iterator)\u001b[0m\n\u001b[0;32m    656\u001b[0m                 \u001b[1;32mreturn\u001b[0m \u001b[0mFalse\u001b[0m\u001b[1;33m\u001b[0m\u001b[0m\n\u001b[0;32m    657\u001b[0m             \u001b[1;32melse\u001b[0m\u001b[1;33m:\u001b[0m\u001b[1;33m\u001b[0m\u001b[0m\n\u001b[1;32m--> 658\u001b[1;33m                 \u001b[0mself\u001b[0m\u001b[1;33m.\u001b[0m\u001b[0m_dispatch\u001b[0m\u001b[1;33m(\u001b[0m\u001b[0mtasks\u001b[0m\u001b[1;33m)\u001b[0m\u001b[1;33m\u001b[0m\u001b[0m\n\u001b[0m\u001b[0;32m    659\u001b[0m                 \u001b[1;32mreturn\u001b[0m \u001b[0mTrue\u001b[0m\u001b[1;33m\u001b[0m\u001b[0m\n\u001b[0;32m    660\u001b[0m \u001b[1;33m\u001b[0m\u001b[0m\n",
      "\u001b[1;32m/usr/local/lib/python2.7/dist-packages/sklearn/externals/joblib/parallel.pyc\u001b[0m in \u001b[0;36m_dispatch\u001b[1;34m(self, batch)\u001b[0m\n\u001b[0;32m    564\u001b[0m \u001b[1;33m\u001b[0m\u001b[0m\n\u001b[0;32m    565\u001b[0m         \u001b[1;32mif\u001b[0m \u001b[0mself\u001b[0m\u001b[1;33m.\u001b[0m\u001b[0m_pool\u001b[0m \u001b[1;32mis\u001b[0m \u001b[0mNone\u001b[0m\u001b[1;33m:\u001b[0m\u001b[1;33m\u001b[0m\u001b[0m\n\u001b[1;32m--> 566\u001b[1;33m             \u001b[0mjob\u001b[0m \u001b[1;33m=\u001b[0m \u001b[0mImmediateComputeBatch\u001b[0m\u001b[1;33m(\u001b[0m\u001b[0mbatch\u001b[0m\u001b[1;33m)\u001b[0m\u001b[1;33m\u001b[0m\u001b[0m\n\u001b[0m\u001b[0;32m    567\u001b[0m             \u001b[0mself\u001b[0m\u001b[1;33m.\u001b[0m\u001b[0m_jobs\u001b[0m\u001b[1;33m.\u001b[0m\u001b[0mappend\u001b[0m\u001b[1;33m(\u001b[0m\u001b[0mjob\u001b[0m\u001b[1;33m)\u001b[0m\u001b[1;33m\u001b[0m\u001b[0m\n\u001b[0;32m    568\u001b[0m             \u001b[0mself\u001b[0m\u001b[1;33m.\u001b[0m\u001b[0mn_dispatched_batches\u001b[0m \u001b[1;33m+=\u001b[0m \u001b[1;36m1\u001b[0m\u001b[1;33m\u001b[0m\u001b[0m\n",
      "\u001b[1;32m/usr/local/lib/python2.7/dist-packages/sklearn/externals/joblib/parallel.pyc\u001b[0m in \u001b[0;36m__init__\u001b[1;34m(self, batch)\u001b[0m\n\u001b[0;32m    178\u001b[0m         \u001b[1;31m# Don't delay the application, to avoid keeping the input\u001b[0m\u001b[1;33m\u001b[0m\u001b[1;33m\u001b[0m\u001b[0m\n\u001b[0;32m    179\u001b[0m         \u001b[1;31m# arguments in memory\u001b[0m\u001b[1;33m\u001b[0m\u001b[1;33m\u001b[0m\u001b[0m\n\u001b[1;32m--> 180\u001b[1;33m         \u001b[0mself\u001b[0m\u001b[1;33m.\u001b[0m\u001b[0mresults\u001b[0m \u001b[1;33m=\u001b[0m \u001b[0mbatch\u001b[0m\u001b[1;33m(\u001b[0m\u001b[1;33m)\u001b[0m\u001b[1;33m\u001b[0m\u001b[0m\n\u001b[0m\u001b[0;32m    181\u001b[0m \u001b[1;33m\u001b[0m\u001b[0m\n\u001b[0;32m    182\u001b[0m     \u001b[1;32mdef\u001b[0m \u001b[0mget\u001b[0m\u001b[1;33m(\u001b[0m\u001b[0mself\u001b[0m\u001b[1;33m)\u001b[0m\u001b[1;33m:\u001b[0m\u001b[1;33m\u001b[0m\u001b[0m\n",
      "\u001b[1;32m/usr/local/lib/python2.7/dist-packages/sklearn/externals/joblib/parallel.pyc\u001b[0m in \u001b[0;36m__call__\u001b[1;34m(self)\u001b[0m\n\u001b[0;32m     70\u001b[0m \u001b[1;33m\u001b[0m\u001b[0m\n\u001b[0;32m     71\u001b[0m     \u001b[1;32mdef\u001b[0m \u001b[0m__call__\u001b[0m\u001b[1;33m(\u001b[0m\u001b[0mself\u001b[0m\u001b[1;33m)\u001b[0m\u001b[1;33m:\u001b[0m\u001b[1;33m\u001b[0m\u001b[0m\n\u001b[1;32m---> 72\u001b[1;33m         \u001b[1;32mreturn\u001b[0m \u001b[1;33m[\u001b[0m\u001b[0mfunc\u001b[0m\u001b[1;33m(\u001b[0m\u001b[1;33m*\u001b[0m\u001b[0margs\u001b[0m\u001b[1;33m,\u001b[0m \u001b[1;33m**\u001b[0m\u001b[0mkwargs\u001b[0m\u001b[1;33m)\u001b[0m \u001b[1;32mfor\u001b[0m \u001b[0mfunc\u001b[0m\u001b[1;33m,\u001b[0m \u001b[0margs\u001b[0m\u001b[1;33m,\u001b[0m \u001b[0mkwargs\u001b[0m \u001b[1;32min\u001b[0m \u001b[0mself\u001b[0m\u001b[1;33m.\u001b[0m\u001b[0mitems\u001b[0m\u001b[1;33m]\u001b[0m\u001b[1;33m\u001b[0m\u001b[0m\n\u001b[0m\u001b[0;32m     73\u001b[0m \u001b[1;33m\u001b[0m\u001b[0m\n\u001b[0;32m     74\u001b[0m     \u001b[1;32mdef\u001b[0m \u001b[0m__len__\u001b[0m\u001b[1;33m(\u001b[0m\u001b[0mself\u001b[0m\u001b[1;33m)\u001b[0m\u001b[1;33m:\u001b[0m\u001b[1;33m\u001b[0m\u001b[0m\n",
      "\u001b[1;32m/usr/local/lib/python2.7/dist-packages/sklearn/cross_validation.pyc\u001b[0m in \u001b[0;36m_fit_and_score\u001b[1;34m(estimator, X, y, scorer, train, test, verbose, parameters, fit_params, return_train_score, return_parameters, error_score)\u001b[0m\n\u001b[0;32m   1529\u001b[0m             \u001b[0mestimator\u001b[0m\u001b[1;33m.\u001b[0m\u001b[0mfit\u001b[0m\u001b[1;33m(\u001b[0m\u001b[0mX_train\u001b[0m\u001b[1;33m,\u001b[0m \u001b[1;33m**\u001b[0m\u001b[0mfit_params\u001b[0m\u001b[1;33m)\u001b[0m\u001b[1;33m\u001b[0m\u001b[0m\n\u001b[0;32m   1530\u001b[0m         \u001b[1;32melse\u001b[0m\u001b[1;33m:\u001b[0m\u001b[1;33m\u001b[0m\u001b[0m\n\u001b[1;32m-> 1531\u001b[1;33m             \u001b[0mestimator\u001b[0m\u001b[1;33m.\u001b[0m\u001b[0mfit\u001b[0m\u001b[1;33m(\u001b[0m\u001b[0mX_train\u001b[0m\u001b[1;33m,\u001b[0m \u001b[0my_train\u001b[0m\u001b[1;33m,\u001b[0m \u001b[1;33m**\u001b[0m\u001b[0mfit_params\u001b[0m\u001b[1;33m)\u001b[0m\u001b[1;33m\u001b[0m\u001b[0m\n\u001b[0m\u001b[0;32m   1532\u001b[0m \u001b[1;33m\u001b[0m\u001b[0m\n\u001b[0;32m   1533\u001b[0m     \u001b[1;32mexcept\u001b[0m \u001b[0mException\u001b[0m \u001b[1;32mas\u001b[0m \u001b[0me\u001b[0m\u001b[1;33m:\u001b[0m\u001b[1;33m\u001b[0m\u001b[0m\n",
      "\u001b[1;32m/home/vlad/diploma/complex_features_inserting.py\u001b[0m in \u001b[0;36mfit\u001b[1;34m(self, indexes, y, simple_features)\u001b[0m\n\u001b[0;32m    194\u001b[0m         \u001b[1;32melse\u001b[0m\u001b[1;33m:\u001b[0m\u001b[1;33m\u001b[0m\u001b[0m\n\u001b[0;32m    195\u001b[0m             \u001b[0msimple_features\u001b[0m \u001b[1;33m=\u001b[0m \u001b[0msimple_features\u001b[0m\u001b[1;33m[\u001b[0m\u001b[0mself\u001b[0m\u001b[1;33m.\u001b[0m\u001b[0mfeatures_names\u001b[0m\u001b[1;33m]\u001b[0m\u001b[1;33m\u001b[0m\u001b[0m\n\u001b[1;32m--> 196\u001b[1;33m         \u001b[0mself\u001b[0m\u001b[1;33m.\u001b[0m\u001b[0m_fit_feature_extender\u001b[0m\u001b[1;33m(\u001b[0m\u001b[0msimple_features\u001b[0m\u001b[1;33m,\u001b[0m \u001b[0my\u001b[0m\u001b[1;33m,\u001b[0m \u001b[0mindexes\u001b[0m\u001b[1;33m)\u001b[0m\u001b[1;33m\u001b[0m\u001b[0m\n\u001b[0m\u001b[0;32m    197\u001b[0m         \u001b[0mextended_features\u001b[0m \u001b[1;33m=\u001b[0m \u001b[0mself\u001b[0m\u001b[1;33m.\u001b[0m\u001b[0m_extend_features\u001b[0m\u001b[1;33m(\u001b[0m\u001b[0msimple_features\u001b[0m\u001b[1;33m)\u001b[0m\u001b[1;33m\u001b[0m\u001b[0m\n\u001b[0;32m    198\u001b[0m         \u001b[0mself\u001b[0m\u001b[1;33m.\u001b[0m\u001b[0minner_model\u001b[0m\u001b[1;33m.\u001b[0m\u001b[0mfit\u001b[0m\u001b[1;33m(\u001b[0m\u001b[0mextended_features\u001b[0m\u001b[1;33m,\u001b[0m \u001b[0my\u001b[0m\u001b[1;33m)\u001b[0m\u001b[1;33m\u001b[0m\u001b[0m\n",
      "\u001b[1;32m/home/vlad/diploma/complex_features_inserting.py\u001b[0m in \u001b[0;36m_fit_feature_extender\u001b[1;34m(self, simple_features, y, indexes)\u001b[0m\n\u001b[0;32m    181\u001b[0m \u001b[1;33m\u001b[0m\u001b[0m\n\u001b[0;32m    182\u001b[0m     \u001b[1;32mdef\u001b[0m \u001b[0m_fit_feature_extender\u001b[0m\u001b[1;33m(\u001b[0m\u001b[0mself\u001b[0m\u001b[1;33m,\u001b[0m \u001b[0msimple_features\u001b[0m\u001b[1;33m,\u001b[0m \u001b[0my\u001b[0m\u001b[1;33m,\u001b[0m \u001b[0mindexes\u001b[0m\u001b[1;33m)\u001b[0m\u001b[1;33m:\u001b[0m\u001b[1;33m\u001b[0m\u001b[0m\n\u001b[1;32m--> 183\u001b[1;33m         \u001b[0mself\u001b[0m\u001b[1;33m.\u001b[0m\u001b[0mextender_strategy\u001b[0m\u001b[1;33m.\u001b[0m\u001b[0mfit\u001b[0m\u001b[1;33m(\u001b[0m\u001b[0msimple_features\u001b[0m\u001b[1;33m,\u001b[0m \u001b[0my\u001b[0m\u001b[1;33m,\u001b[0m \u001b[0mindexes\u001b[0m\u001b[1;33m)\u001b[0m\u001b[1;33m\u001b[0m\u001b[0m\n\u001b[0m\u001b[0;32m    184\u001b[0m \u001b[1;33m\u001b[0m\u001b[0m\n\u001b[0;32m    185\u001b[0m     \u001b[1;32mdef\u001b[0m \u001b[0m_extend_features\u001b[0m\u001b[1;33m(\u001b[0m\u001b[0mself\u001b[0m\u001b[1;33m,\u001b[0m \u001b[0msimple_features\u001b[0m\u001b[1;33m)\u001b[0m\u001b[1;33m:\u001b[0m\u001b[1;33m\u001b[0m\u001b[0m\n",
      "\u001b[1;32m/home/vlad/diploma/complex_features_inserting.py\u001b[0m in \u001b[0;36mfit\u001b[1;34m(self, simple_features, y, indexes)\u001b[0m\n\u001b[0;32m     77\u001b[0m                                                             \u001b[0my_values\u001b[0m\u001b[1;33m,\u001b[0m\u001b[1;33m\u001b[0m\u001b[0m\n\u001b[0;32m     78\u001b[0m                                                             \u001b[0msimple_feature_indexes\u001b[0m\u001b[1;33m,\u001b[0m\u001b[1;33m\u001b[0m\u001b[0m\n\u001b[1;32m---> 79\u001b[1;33m                                                             candidate_index)\n\u001b[0m\u001b[0;32m     80\u001b[0m                     \u001b[1;32mif\u001b[0m \u001b[0mpriority\u001b[0m \u001b[1;33m>\u001b[0m \u001b[1;36m0\u001b[0m\u001b[1;33m:\u001b[0m\u001b[1;33m\u001b[0m\u001b[0m\n\u001b[0;32m     81\u001b[0m                         \u001b[0mself\u001b[0m\u001b[1;33m.\u001b[0m\u001b[0m_best_feature_sets\u001b[0m\u001b[1;33m.\u001b[0m\u001b[0mappend\u001b[0m\u001b[1;33m(\u001b[0m\u001b[1;33m(\u001b[0m\u001b[0mpriority\u001b[0m\u001b[1;33m,\u001b[0m \u001b[0msimple_feature_indexes\u001b[0m\u001b[1;33m)\u001b[0m\u001b[1;33m)\u001b[0m\u001b[1;33m\u001b[0m\u001b[0m\n",
      "\u001b[1;31mTypeError\u001b[0m: _get_candidate_priority() takes exactly 4 arguments (5 given)"
     ]
    }
   ],
   "source": [
    "from sklearn.cross_validation import cross_val_score\n",
    "from sklearn.metrics import make_scorer, accuracy_score\n",
    "from wrappers import XGBoostClassifierFeatureImportances as XGB\n",
    "sys.stdout = sys.stderr = open(\"cross_val.log\", \"w\")\n",
    "cross_val_score(simple_feature_adder_wrapper, indexes, y_refactored, scoring=make_scorer(accuracy_score), cv=10)"
   ]
  },
  {
   "cell_type": "code",
   "execution_count": null,
   "metadata": {
    "collapsed": false
   },
   "outputs": [],
   "source": [
    "_.mean()"
   ]
  },
  {
   "cell_type": "code",
   "execution_count": null,
   "metadata": {
    "collapsed": false
   },
   "outputs": [],
   "source": [
    "simple_feature_adder_wrapper.extender_strategy.__dict__"
   ]
  },
  {
   "cell_type": "code",
   "execution_count": null,
   "metadata": {
    "collapsed": true
   },
   "outputs": [],
   "source": []
  }
 ],
 "metadata": {
  "kernelspec": {
   "display_name": "Python 2",
   "language": "python",
   "name": "python2"
  },
  "language_info": {
   "codemirror_mode": {
    "name": "ipython",
    "version": 2
   },
   "file_extension": ".py",
   "mimetype": "text/x-python",
   "name": "python",
   "nbconvert_exporter": "python",
   "pygments_lexer": "ipython2",
   "version": "2.7.6"
  }
 },
 "nbformat": 4,
 "nbformat_minor": 0
}

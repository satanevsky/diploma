{
 "cells": [
  {
   "cell_type": "code",
   "execution_count": 1,
   "metadata": {
    "collapsed": false
   },
   "outputs": [],
   "source": [
    "from data_keeper import get_data_keeper"
   ]
  },
  {
   "cell_type": "code",
   "execution_count": 2,
   "metadata": {
    "collapsed": false
   },
   "outputs": [],
   "source": [
    "from testing import test_models_with_drugs"
   ]
  },
  {
   "cell_type": "code",
   "execution_count": 3,
   "metadata": {
    "collapsed": false
   },
   "outputs": [],
   "source": [
    "from sklearn.ensemble import RandomForestClassifier\n",
    "from sklearn.linear_model import LogisticRegressionCV"
   ]
  },
  {
   "cell_type": "code",
   "execution_count": 4,
   "metadata": {
    "collapsed": false
   },
   "outputs": [
    {
     "data": {
      "text/plain": [
       "[u'ETHA: Ethambutol ',\n",
       " u'ISON: Isoniazid ',\n",
       " u'RIFM: rifampicin ',\n",
       " u'RIFP: Rifapentine ',\n",
       " u'PYRA: Pyrazinamide ',\n",
       " u'STRE: Streptomycin ',\n",
       " u'CYCL: Cycloserine ',\n",
       " u'ETHI: Ethionamide/ Prothionamide ',\n",
       " u'PARA: Para-aminosalicyclic acid ',\n",
       " u'AMIK: Amikacin',\n",
       " u' Kanamycin ',\n",
       " u'CAPR: Capreomycin ',\n",
       " u'OFLO: Ofloxacin ']"
      ]
     },
     "execution_count": 4,
     "metadata": {},
     "output_type": "execute_result"
    }
   ],
   "source": [
    "get_data_keeper().get_possible_drugs()"
   ]
  },
  {
   "cell_type": "code",
   "execution_count": 5,
   "metadata": {
    "collapsed": false
   },
   "outputs": [],
   "source": [
    "import joblib"
   ]
  },
  {
   "cell_type": "code",
   "execution_count": 66,
   "metadata": {
    "collapsed": false
   },
   "outputs": [],
   "source": [
    "import wrappers\n",
    "wrappers = reload(wrappers)\n",
    "from wrappers import GridSearchCVWrapper\n",
    "from wrappers import XGBoostClassifierFeatureImportances as XGB\n",
    "from wrappers import MatrixCleaningWrapper\n",
    "from wrappers import SparseWrapper\n",
    "from wrappers import ModelFeatureSelectionWrapper\n",
    "from wrappers import ModelBasedFeatureImportanceGetter\n",
    "XGB = wrappers.XGBoostClassifierFeatureImportances"
   ]
  },
  {
   "cell_type": "code",
   "execution_count": 7,
   "metadata": {
    "collapsed": false
   },
   "outputs": [],
   "source": [
    "from frn import FeatureRelevanceNetworkWrapper"
   ]
  },
  {
   "cell_type": "code",
   "execution_count": 8,
   "metadata": {
    "collapsed": true
   },
   "outputs": [],
   "source": [
    "def get_complete_linear_model():\n",
    "    inner_model = LogisticRegressionCV(Cs=[10 ** i for i in xrange(-4, 4)], solver='liblinear')\n",
    "    outer_model = GridSearchCV(inner_model, {'penalty': ['l1', 'l2']})\n",
    "    return MatrixCleaningWrapper(SparseWrapper(outer_model))"
   ]
  },
  {
   "cell_type": "code",
   "execution_count": 9,
   "metadata": {
    "collapsed": false
   },
   "outputs": [],
   "source": [
    "def get_complete_tree_based_model():\n",
    "    cv_params = {'inner_model__inner_model__n_estimators': [1],#, 5, 10, 20, 50, 100], \n",
    "                 'feature_selection_threshold_coef': [0.1]}#, 1, 3, 10, 30, 100, 300]}\n",
    "    return MatrixCleaningWrapper(FeatureRelevanceNetworkWrapper(XGB(n_estimators=100), ModelBasedFeatureImportanceGetter(XGB())))"
   ]
  },
  {
   "cell_type": "code",
   "execution_count": null,
   "metadata": {
    "collapsed": true
   },
   "outputs": [],
   "source": []
  },
  {
   "cell_type": "code",
   "execution_count": 10,
   "metadata": {
    "collapsed": false,
    "scrolled": true
   },
   "outputs": [
    {
     "name": "stdout",
     "output_type": "stream",
     "text": [
      "cleaner (122, 2718)\n",
      "{'f949': 1, 'f904': 1, 'f532': 9, 'f606': 10, 'f2604': 9, 'f2193': 15, 'f160': 1, 'f2607': 5, 'f1285': 1, 'f554': 2, 'f1714': 1, 'f800': 1, 'f2391': 3, 'f511': 2, 'f2056': 5, 'f2054': 7, 'f213': 1, 'f1060': 11, 'f117': 6, 'f2375': 3, 'f6': 1, 'f202': 9, 'f225': 1, 'f2100': 1, 'f900': 4, 'f652': 1, 'f2401': 1, 'f2186': 6, 'f1111': 1, 'f972': 3, 'f2177': 1, 'f970': 1, 'f458': 18, 'f2409': 8, 'f996': 30, 'f588': 3, 'f2461': 3, 'f2077': 6, 'f964': 4, 'f932': 5, 'f2469': 1, 'f2379': 1, 'f2586': 8, 'f719': 10, 'f952': 4, 'f2460': 6, 'f955': 17, 'f92': 1, 'f1917': 2, 'f2168': 16, 'f544': 1, 'f353': 3, 'f2380': 11, 'f2381': 12, 'f2040': 1, 'f1873': 3, 'f2161': 8, 'f770': 6, 'f397': 2, 'f798': 1, 'f504': 3, 'f1401': 2, 'f2363': 11, 'f316': 6, 'f211': 3, 'f210': 2, 'f1286': 1, 'f1158': 1, 'f203': 4, 'f1994': 1, 'f1884': 1, 'f2439': 15, 'f2248': 1, 'f35': 9, 'f1543': 2, 'f2356': 8, 'f2418': 8, 'f2374': 2, 'f2373': 3, 'f1937': 3, 'f2370': 8}\n",
      "[ 0.  0.  0.  0.  0.  0.  1.  0.  0.  0.]\n",
      "0.150478292862 0.150478292862 1.0 0.150478292862\n",
      "<type 'numpy.ndarray'>\n",
      "shape: (122, 81)\n",
      "<type 'numpy.ndarray'>\n",
      "shape: (14, 81)\n",
      "cleaner (122, 2705)\n",
      "{'f2157': 14, 'f1185': 1, 'f534': 6, 'f1054': 6, 'f5': 1, 'f2171': 1, 'f607': 5, 'f2441': 1, 'f1713': 1, 'f902': 5, 'f946': 3, 'f1983': 6, 'f2277': 3, 'f1906': 3, 'f1499': 7, 'f2392': 8, 'f2034': 4, 'f2361': 7, 'f513': 6, 'f558': 1, 'f2398': 1, 'f438': 3, 'f117': 1, 'f2591': 3, 'f2439': 3, 'f49': 4, 'f2400': 4, 'f1712': 2, 'f1677': 2, 'f1162': 1, 'f2343': 11, 'f962': 4, 'f972': 1, 'f2444': 3, 'f994': 34, 'f995': 15, 'f2362': 3, 'f1577': 1, 'f1389': 2, 'f932': 2, 'f1974': 1, 'f2614': 1, 'f2589': 14, 'f867': 1, 'f954': 11, 'f955': 2, 'f2069': 9, 'f2336': 5, 'f2360': 3, 'f2384': 2, 'f542': 4, 'f95': 8, 'f2163': 2, 'f463': 26, 'f2045': 11, 'f1954': 2, 'f2325': 1, 'f317': 5, 'f1057': 1, 'f1056': 3, 'f1700': 4, 'f198': 18, 'f199': 2, 'f31': 12, 'f963': 8, 'f2411': 1, 'f1394': 2, 'f964': 2, 'f1892': 1, 'f969': 2, 'f2402': 1, 'f2418': 23}\n",
      "[ 0.  0.  0.  0.  0.  1.  0.  0.  0.  0.]\n",
      "0.139371534196 0.139371534196 1.0 0.139371534196\n",
      "<type 'numpy.ndarray'>\n",
      "shape: (122, 72)\n",
      "<type 'numpy.ndarray'>\n",
      "shape: (14, 72)\n",
      "cleaner (122, 2770)\n",
      "{'f886': 1, 'f121': 13, 'f2577': 1, 'f1748': 3, 'f2093': 1, 'f554': 3, 'f2336': 7, 'f617': 1, 'f2230': 19, 'f82': 1, 'f2030': 3, 'f476': 24, 'f2119': 2, 'f2235': 1, 'f1417': 4, 'f578': 1, 'f882': 1, 'f321': 1, 'f1166': 1, 'f208': 8, 'f209': 1, 'f1301': 2, 'f328': 1, 'f976': 1, 'f2343': 8, 'f2652': 3, 'f1384': 1, 'f2405': 8, 'f2427': 2, 'f2501': 6, 'f2425': 1, 'f2503': 2, 'f2423': 11, 'f2422': 5, 'f2421': 2, 'f613': 1, 'f327': 1, 'f2398': 2, 'f525': 4, 'f2145': 1, 'f912': 1, 'f2631': 5, 'f220': 2, 'f630': 21, 'f1844': 1, 'f2208': 2, 'f2081': 3, 'f975': 1, 'f2209': 2, 'f889': 2, 'f1916': 3, 'f987': 3, 'f794': 6, 'f96': 2, 'f2262': 9, 'f2106': 2, 'f99': 12, 'f2515': 5, 'f2227': 11, 'f1905': 1, 'f588': 1, 'f1075': 1, 'f1076': 3, 'f210': 10, 'f90': 3, 'f233': 12, 'f1126': 1, 'f1555': 1, 'f972': 5, 'f2654': 3, 'f2414': 4, 'f2415': 1, 'f1422': 8, 'f1011': 39, 'f2479': 25, 'f981': 2, 'f1209': 9}\n",
      "[ 0.  0.  0.  0.  0.  0.  0.  0.  0.  0.]\n",
      "0.137545126354 0.137545126354 1.0 0.137545126354\n",
      "<type 'numpy.ndarray'>\n",
      "shape: (122, 77)\n",
      "<type 'numpy.ndarray'>\n",
      "shape: (14, 77)\n",
      "cleaner (122, 2712)\n",
      "{'f2596': 3, 'f949': 11, 'f386': 5, 'f2153': 7, 'f928': 7, 'f725': 3, 'f943': 1, 'f2574': 4, 'f732': 2, 'f2334': 9, 'f1378': 1, 'f1590': 3, 'f2272': 4, 'f1180': 1, 'f513': 4, 'f1493': 2, 'f515': 1, 'f412': 1, 'f204': 4, 'f205': 3, 'f45': 1, 'f2151': 3, 'f321': 9, 'f2142': 1, 'f1041': 2, 'f1044': 5, 'f1046': 6, 'f2352': 3, 'f2400': 9, 'f2391': 2, 'f1384': 2, 'f88': 1, 'f2360': 10, 'f2361': 6, 'f2348': 4, 'f1803': 1, 'f2421': 21, 'f964': 6, 'f958': 3, 'f2065': 7, 'f2414': 3, 'f2201': 13, 'f950': 2, 'f2444': 1, 'f619': 9, 'f2446': 8, 'f1993': 2, 'f2442': 5, 'f402': 1, 'f1047': 1, 'f2169': 17, 'f96': 10, 'f2383': 8, 'f2145': 2, 'f2041': 7, 'f117': 5, 'f2045': 1, 'f2167': 3, 'f466': 22, 'f1572': 2, 'f1709': 3, 'f1403': 2, 'f1156': 2, 'f50': 1, 'f899': 6, 'f1269': 11, 'f697': 1, 'f230': 3, 'f218': 1, 'f33': 6, 'f1389': 6, 'f989': 37, 'f2359': 3, 'f543': 7, 'f73': 4}\n",
      "[ 0.  0.  0.  0.  0.  0.  0.  0.  0.  0.]\n",
      "0.144911504425 0.144911504425 1.0 0.144911504425\n",
      "<type 'numpy.ndarray'>\n",
      "shape: (122, 75)\n",
      "<type 'numpy.ndarray'>\n",
      "shape: (14, 75)\n",
      "cleaner (122, 2852)\n",
      "{'f2092': 1, 'f2155': 4, 'f699': 1, 'f6': 1, 'f2574': 6, 'f2551': 12, 'f921': 1, 'f923': 1, 'f539': 2, 'f2274': 10, 'f571': 2, 'f1808': 1, 'f649': 2, 'f769': 4, 'f2492': 9, 'f2493': 3, 'f101': 9, 'f605': 1, 'f1049': 28, 'f1006': 3, 'f123': 5, 'f1169': 2, 'f1235': 2, 'f243': 5, 'f1008': 17, 'f1009': 3, 'f771': 2, 'f820': 14, 'f1258': 7, 'f2180': 9, 'f1795': 1, 'f2731': 18, 'f2733': 3, 'f2291': 2, 'f1219': 2, 'f2577': 5, 'f1257': 2, 'f79': 1, 'f2531': 3, 'f2142': 3, 'f538': 1, 'f1473': 6, 'f1005': 2, 'f2710': 7, 'f2467': 9, 'f336': 1, 'f956': 6, 'f1580': 1, 'f55': 5, 'f2298': 5, 'f1815': 1, 'f802': 1, 'f2481': 1, 'f1112': 3, 'f2572': 1, 'f2484': 10, 'f1877': 1, 'f44': 3, 'f216': 1, 'f215': 13, 'f337': 12, 'f2272': 4, 'f1352': 1, 'f50': 1, 'f1489': 1, 'f1435': 2, 'f1173': 1, 'f1138': 2, 'f1977': 1, 'f1023': 1, 'f2474': 8, 'f227': 1, 'f2266': 1, 'f490': 21, 'f36': 7, 'f988': 3, 'f2729': 8, 'f1114': 3, 'f1111': 1, 'f1017': 5, 'f816': 1}\n",
      "[ 0.  0.  0.  0.  0.  0.  1.  0.  0.  0.]\n",
      "0.129733520337 0.129733520337 1.0 0.129733520337\n",
      "<type 'numpy.ndarray'>\n",
      "shape: (122, 81)\n",
      "<type 'numpy.ndarray'>\n",
      "shape: (14, 81)\n",
      "cleaner (122, 2692)\n",
      "{'f709': 5, 'f2156': 2, 'f2339': 4, 'f452': 21, 'f2578': 6, 'f2332': 2, 'f940': 15, 'f893': 4, 'f2395': 13, 'f789': 1, 'f2059': 9, 'f2393': 1, 'f768': 1, 'f2037': 6, 'f1494': 1, 'f2177': 2, 'f643': 2, 'f2351': 1, 'f1143': 3, 'f2172': 16, 'f308': 1, 'f202': 3, 'f2356': 3, 'f307': 8, 'f683': 1, 'f1044': 1, 'f1045': 3, 'f1699': 6, 'f1201': 2, 'f2346': 3, 'f1382': 7, 'f2355': 3, 'f1897': 2, 'f2349': 5, 'f346': 1, 'f1177': 5, 'f932': 1, 'f2141': 5, 'f677': 1, 'f2203': 1, 'f156': 1, 'f526': 7, 'f950': 1, 'f2149': 14, 'f597': 11, 'f918': 3, 'f955': 7, 'f2560': 5, 'f889': 9, 'f2023': 2, 'f1665': 3, 'f94': 6, 'f791': 5, 'f116': 6, 'f757': 2, 'f1918': 2, 'f2165': 8, 'f194': 7, 'f547': 2, 'f698': 1, 'f193': 9, 'f1268': 1, 'f218': 3, 'f2275': 11, 'f856': 2, 'f34': 13, 'f2436': 2, 'f2415': 27, 'f2359': 1, 'f949': 1, 'f2294': 1, 'f498': 2, 'f981': 40}\n",
      "[ 0.  0.  0.  0.  0.  0.  0.  0.  0.  0.]\n",
      "0.145616641902 0.145616641902 1.0 0.145616641902\n",
      "<type 'numpy.ndarray'>\n",
      "shape: (122, 73)\n",
      "<type 'numpy.ndarray'>\n",
      "shape: (14, 73)\n",
      "cleaner (123, 2852)\n",
      "{'f609': 1, 'f2275': 8, 'f2273': 1, 'f2181': 5, 'f2574': 3, 'f1251': 8, 'f1024': 5, 'f1252': 5, 'f992': 3, 'f1793': 2, 'f427': 2, 'f1769': 4, 'f2482': 1, 'f2487': 1, 'f2486': 2, 'f217': 13, 'f218': 1, 'f2475': 4, 'f1013': 3, 'f1012': 3, 'f1015': 14, 'f2157': 7, 'f2708': 10, 'f740': 2, 'f924': 1, 'f927': 4, 'f2554': 11, 'f341': 7, 'f342': 1, 'f2010': 1, 'f2493': 4, 'f1806': 3, 'f102': 3, 'f2494': 4, 'f2495': 11, 'f1007': 2, 'f1003': 1, 'f228': 2, 'f1009': 3, 'f820': 1, 'f821': 3, 'f824': 6, 'f2407': 15, 'f1472': 2, 'f2143': 1, 'f634': 2, 'f1666': 1, 'f1667': 1, 'f409': 1, 'f1875': 1, 'f1467': 2, 'f36': 10, 'f126': 6, 'f1613': 2, 'f2032': 1, 'f2547': 2, 'f2732': 7, 'f92': 2, 'f93': 1, 'f544': 1, 'f542': 1, 'f2585': 1, 'f653': 7, 'f1054': 23, 'f494': 25, 'f2533': 8, 'f2728': 8, 'f1117': 4, 'f1114': 2, 'f879': 1, 'f2457': 1, 'f575': 3, 'f2526': 1, 'f2525': 7, 'f2284': 2, 'f2468': 8, 'f2062': 2, 'f1348': 1, 'f2068': 1, 'f2104': 2, 'f961': 3, 'f2299': 15, 'f965': 4, 'f2516': 2, 'f2515': 3, 'f2293': 9, 'f1030': 1, 'f1033': 1, 'f1032': 2}\n",
      "[ 0.  0.  0.  0.  0.  0.  0.  0.  0.  0.]\n",
      "0.133941093969 0.133941093969 1.0 0.133941093969\n",
      "<type 'numpy.ndarray'>\n",
      "shape: (123, 89)\n",
      "<type 'numpy.ndarray'>\n",
      "shape: (13, 89)\n",
      "cleaner (123, 2765)\n",
      "{'f2211': 1, 'f2626': 4, 'f2076': 2, 'f2456': 13, 'f2454': 1, 'f6': 2, 'f2090': 11, 'f2194': 9, 'f2498': 4, 'f2391': 10, 'f2259': 9, 'f115': 6, 'f2496': 1, 'f911': 3, 'f2647': 3, 'f1414': 4, 'f1299': 2, 'f1001': 34, 'f1169': 1, 'f970': 1, 'f1734': 2, 'f2200': 5, 'f32': 5, 'f1419': 1, 'f2111': 1, 'f976': 5, 'f1555': 1, 'f2405': 2, 'f2448': 2, 'f971': 1, 'f2409': 3, 'f2501': 1, 'f2285': 1, 'f2331': 8, 'f2506': 1, 'f958': 3, 'f959': 1, 'f953': 1, 'f2202': 13, 'f409': 3, 'f1063': 3, 'f938': 2, 'f618': 8, 'f2447': 1, 'f955': 2, 'f2500': 1, 'f2026': 1, 'f94': 12, 'f2381': 2, 'f2220': 1, 'f463': 22, 'f2100': 1, 'f2227': 11, 'f44': 5, 'f196': 14, 'f197': 4, 'f316': 5, 'f1536': 2, 'f314': 1, 'f1408': 1, 'f783': 8, 'f961': 15, 'f2475': 24, 'f2645': 9, 'f1205': 3, 'f78': 1, 'f2417': 4, 'f2418': 15, 'f2649': 1, 'f816': 1}\n",
      "[ 0.  0.  0.  0.  0.  0.  2.  0.  0.  0.]\n",
      "0.130560578662 0.130560578662 1.0 0.130560578662\n",
      "<type 'numpy.ndarray'>\n",
      "shape: (123, 70)\n",
      "<type 'numpy.ndarray'>\n",
      "shape: (13, 70)\n",
      "cleaner (123, 2693)\n",
      "{'f2210': 1, 'f2176': 1, 'f534': 10, 'f86': 1, 'f1192': 2, 'f1193': 1, 'f456': 20, 'f2333': 9, 'f609': 7, 'f2317': 1, 'f2576': 2, 'f2557': 5, 'f2199': 3, 'f2159': 4, 'f870': 2, 'f503': 5, 'f556': 1, 'f557': 1, 'f262': 1, 'f2133': 8, 'f2271': 4, 'f644': 2, 'f903': 3, 'f2036': 3, 'f2139': 2, 'f2029': 1, 'f2075': 2, 'f1060': 3, 'f1061': 1, 'f201': 1, 'f202': 7, 'f203': 7, 'f1167': 1, 'f1308': 10, 'f724': 2, 'f1248': 10, 'f1233': 1, 'f2343': 2, 'f1217': 1, 'f2428': 11, 'f2409': 21, 'f997': 29, 'f958': 8, 'f2141': 14, 'f869': 2, 'f935': 12, 'f159': 1, 'f2340': 1, 'f2379': 1, 'f955': 2, 'f2579': 1, 'f2049': 3, 'f93': 10, 'f1263': 4, 'f956': 1, 'f774': 10, 'f116': 2, 'f2166': 14, 'f2388': 13, 'f1535': 2, 'f312': 3, 'f313': 2, 'f311': 3, 'f1058': 1, 'f1408': 4, 'f1171': 4, 'f1284': 1, 'f46': 1, 'f2578': 1, 'f717': 1, 'f2351': 18, 'f1467': 6, 'f592': 10, 'f962': 1, 'f34': 7, 'f1684': 1, 'f967': 5, 'f1672': 7, 'f2430': 4, 'f2371': 1}\n",
      "[ 0.  0.  0.  0.  0.  0.  0.  0.  0.  0.]\n",
      "0.145191236539 0.145191236539 1.0 0.145191236539\n",
      "<type 'numpy.ndarray'>\n",
      "shape: (123, 80)\n",
      "<type 'numpy.ndarray'>\n",
      "shape: (13, 80)\n",
      "cleaner (123, 2855)\n",
      "{'f169': 1, 'f2157': 8, 'f2579': 3, 'f5': 2, 'f6': 1, 'f122': 3, 'f2577': 1, 'f2557': 24, 'f920': 1, 'f572': 5, 'f2498': 2, 'f2499': 6, 'f2120': 2, 'f2270': 6, 'f1902': 1, 'f2593': 2, 'f2491': 7, 'f2057': 1, 'f2278': 16, 'f100': 6, 'f1005': 20, 'f226': 3, 'f1002': 4, 'f242': 1, 'f1045': 34, 'f1046': 17, 'f641': 1, 'f2736': 5, 'f2734': 5, 'f1109': 1, 'f2732': 7, 'f2182': 6, 'f2500': 15, 'f1253': 3, 'f917': 1, 'f999': 2, 'f2531': 3, 'f489': 23, 'f2276': 1, 'f1473': 3, 'f1348': 1, 'f952': 2, 'f2712': 5, 'f2302': 13, 'f336': 2, 'f1774': 3, 'f2336': 2, 'f92': 2, 'f2414': 10, 'f759': 2, 'f1810': 1, 'f55': 1, 'f1663': 1, 'f2480': 5, 'f462': 7, 'f2487': 2, 'f650': 5, 'f335': 2, 'f215': 2, 'f214': 7, 'f213': 1, 'f2581': 1, 'f2430': 1, 'f2521': 4, 'f983': 1, 'f231': 2, 'f819': 2, 'f1429': 1, 'f1020': 1, 'f36': 15, 'f2473': 6, 'f1013': 1, 'f2538': 5, 'f1112': 2, 'f2295': 1, 'f1015': 2, 'f1014': 8}\n",
      "[ 0.  0.  0.  0.  0.  2.  1.  0.  0.  0.]\n",
      "0.133800350263 0.133800350263 1.0 0.133800350263\n",
      "<type 'numpy.ndarray'>\n",
      "shape: (123, 77)\n",
      "<type 'numpy.ndarray'>\n",
      "shape: (13, 77)\n"
     ]
    },
    {
     "data": {
      "text/plain": [
       "{('xgboost',\n",
       "  u'ETHI: Ethionamide/ Prothionamide '): {'accuracy': 0.82352941176470584, 'confusion matrix': array([[94,  6],\n",
       "         [18, 18]])}}"
      ]
     },
     "execution_count": 10,
     "metadata": {},
     "output_type": "execute_result"
    }
   ],
   "source": [
    "model = get_complete_tree_based_model()\n",
    "test_models_with_drugs([('xgboost', model)], [u'ETHI: Ethionamide/ Prothionamide '], metrics=['accuracy', 'confusion matrix'])"
   ]
  },
  {
   "cell_type": "code",
   "execution_count": 11,
   "metadata": {
    "collapsed": true
   },
   "outputs": [],
   "source": [
    "X = get_data_keeper().get_common_x()"
   ]
  },
  {
   "cell_type": "code",
   "execution_count": 12,
   "metadata": {
    "collapsed": true
   },
   "outputs": [],
   "source": [
    "from testing import results_differ_p_value"
   ]
  },
  {
   "cell_type": "code",
   "execution_count": 13,
   "metadata": {
    "collapsed": false
   },
   "outputs": [
    {
     "data": {
      "text/plain": [
       "0.077071286548999973"
      ]
     },
     "execution_count": 13,
     "metadata": {},
     "output_type": "execute_result"
    }
   ],
   "source": [
    "results_differ_p_value([0] * 100 + [1] * 32, [0] * 100 + [1] * 32, [0] * 99 + [1] * 32 + [0])"
   ]
  },
  {
   "cell_type": "code",
   "execution_count": 14,
   "metadata": {
    "collapsed": false
   },
   "outputs": [],
   "source": [
    "from generate_subsets_for_common_x import get_ready_generator\n",
    "GENERATOR_FOLDER = '/media/vlad/01D198E892261920/vlad/vlad/diploma'"
   ]
  },
  {
   "cell_type": "code",
   "execution_count": 15,
   "metadata": {
    "collapsed": false,
    "scrolled": true
   },
   "outputs": [
    {
     "data": {
      "text/plain": [
       "(<wrappers.SubsetGeneratorWrapper at 0x7f3ce28d2368>,\n",
       "           698  1594  1771  4086  7570  7572  7581  7582  8040  9841  11370  \\\n",
       " #snp_pos                                                                     \n",
       " G55413      0     0     0     1     1     0     0     0     0     0      0   \n",
       " G55414      0     1     0     1     0     0     0     0     0     0      0   \n",
       " G55415      0     0     0     0     0     0     0     0     0     0      0   \n",
       " G55416      0     0     0     1     0     0     0     0     0     0      0   \n",
       " G55417      0     0     0     0     0     0     0     0     0     0      0   \n",
       " G55418      0     0     0     1     1     0     0     0     0     0      0   \n",
       " G55419      0     0     0     0     0     0     0     0     0     0      0   \n",
       " G55421      0     1     0     1     0     0     0     1     0     0      0   \n",
       " G55422      0     0     0     0     0     0     0     0     0     0      0   \n",
       " G55423      0     0     0     0     0     0     0     0     0     0      0   \n",
       " G55424      0     0     0     0     0     0     0     0     0     0      0   \n",
       " G55425      0     1     0     0     0     0     0     0     0     0      0   \n",
       " G55426      0     0     0     0     0     0     0     0     0     0      0   \n",
       " G55427      0     1     0     1     0     0     0     0     0     0      0   \n",
       " G55428      0     0     0     1     0     0     0     1     0     0      0   \n",
       " G55429      1     0     0     0     0     0     0     0     1     0      0   \n",
       " G55430      0     0     0     0     0     0     0     0     0     0      0   \n",
       " G55431      1     0     0     0     0     0     0     0     1     0      0   \n",
       " G55432      0     0     0     0     0     0     0     0     0     0      0   \n",
       " G55433      0     0     0     0     0     0     0     0     0     0      0   \n",
       " G55435      1     0     0     0     0     0     1     0     1     0      0   \n",
       " G55436      0     0     0     0     0     0     0     0     0     0      0   \n",
       " G55438      0     1     0     1     0     0     0     1     0     0      0   \n",
       " G55439      0     0     0     0     0     0     0     0     0     0      0   \n",
       " G55440      0     0     0     1     0     0     0     0     0     0      0   \n",
       " G55441      0     0     0     1     0     0     0     1     0     0      0   \n",
       " G55442      0     0     0     1     0     0     0     0     0     0      0   \n",
       " G55443      1     0     0     0     1     0     0     0     1     0      0   \n",
       " G55444      0     0     0     0     0     0     0     1     0     0      0   \n",
       " G55445      0     0     0     1     0     0     0     0     0     0      0   \n",
       " G55446      0     0     0     0     0     0     0     1     0     0      1   \n",
       " G55447      0     0     0     1     0     0     0     1     0     0      0   \n",
       " G55448      0     0     0     0     0     0     0     0     0     0      0   \n",
       " G55449      0     0     0     1     1     0     0     0     0     0      0   \n",
       " G55450      0     1     0     1     1     0     1     0     0     0      0   \n",
       " G55451      0     0     0     1     1     0     0     0     0     0      0   \n",
       " G55452      1     0     0     0     0     0     1     0     1     0      0   \n",
       " G55453      0     1     0     0     0     0     0     1     0     0      0   \n",
       " G55454      0     0     0     0     0     0     1     0     0     0      0   \n",
       " G55455      0     0     0     0     0     0     0     0     0     0      0   \n",
       " G55457      0     1     0     1     0     0     0     1     0     0      0   \n",
       " G55458      1     0     0     0     0     0     0     0     1     0      0   \n",
       " G55459      0     0     0     1     0     0     0     0     0     0      0   \n",
       " G55460      0     0     0     1     0     0     0     0     0     0      0   \n",
       " G55461      0     0     0     0     0     0     0     0     0     0      0   \n",
       " G55462      0     1     0     0     0     0     0     0     0     0      0   \n",
       " G55463      0     0     0     1     0     0     0     1     0     0      0   \n",
       " G55464      0     0     0     0     0     0     0     0     0     0      0   \n",
       " G55465      0     0     0     1     0     0     0     1     0     0      0   \n",
       " G55466      0     0     0     0     0     0     0     0     0     0      0   \n",
       " G55467      0     0     0     1     0     0     0     0     0     0      0   \n",
       " G55468      0     0     0     1     0     0     0     0     0     0      0   \n",
       " G55469      0     0     0     0     0     0     0     0     1     0      0   \n",
       " G55470      0     1     0     1     1     0     0     0     0     0      0   \n",
       " G55471      0     1     0     1     0     0     0     1     0     0      0   \n",
       " G55472      0     0     0     1     0     0     0     1     0     0      0   \n",
       " G55473      0     0     0     1     0     0     0     1     0     0      0   \n",
       " G55474      0     0     0     0     0     0     0     0     0     0      1   \n",
       " G55475      0     1     0     1     1     0     0     0     0     0      0   \n",
       " G55476      0     0     0     1     0     0     0     0     0     0      0   \n",
       "           ...   ...   ...   ...   ...   ...   ...   ...   ...   ...    ...   \n",
       " \n",
       "           14105  14251  15159  15517  16089  16807  17608  24060  24720      \n",
       " #snp_pos                                                                     \n",
       " G55413        0      0      0      0      0      0      0      0      1 ...  \n",
       " G55414        0      0      0      0      0      0      0      0      0 ...  \n",
       " G55415        0      0      0      0      0      0      0      0      0 ...  \n",
       " G55416        0      0      0      0      0      0      0      0      0 ...  \n",
       " G55417        0      0      0      0      0      0      0      0      0 ...  \n",
       " G55418        0      0      0      0      0      0      0      0      0 ...  \n",
       " G55419        0      0      0      0      0      1      0      0      0 ...  \n",
       " G55421        0      0      0      0      0      0      0      0      1 ...  \n",
       " G55422        0      0      0      0      0      0      0      0      0 ...  \n",
       " G55423        0      0      0      0      0      0      0      0      0 ...  \n",
       " G55424        0      0      0      0      0      0      0      1      0 ...  \n",
       " G55425        0      0      0      0      0      0      0      0      0 ...  \n",
       " G55426        0      0      0      0      0      0      0      0      0 ...  \n",
       " G55427        0      0      0      0      0      0      0      0      0 ...  \n",
       " G55428        0      0      0      0      0      0      0      0      1 ...  \n",
       " G55429        0      1      0      0      0      0      1      0      0 ...  \n",
       " G55430        0      0      0      0      0      0      0      0      0 ...  \n",
       " G55431        0      1      0      0      0      0      1      0      0 ...  \n",
       " G55432        0      0      0      0      0      0      0      0      0 ...  \n",
       " G55433        0      0      0      0      0      0      0      0      0 ...  \n",
       " G55435        0      1      0      0      0      0      1      0      0 ...  \n",
       " G55436        0      0      0      0      0      0      0      0      1 ...  \n",
       " G55438        0      0      0      0      0      0      0      0      0 ...  \n",
       " G55439        0      0      0      0      0      0      0      0      0 ...  \n",
       " G55440        0      0      0      0      0      0      0      0      1 ...  \n",
       " G55441        0      0      0      0      0      0      0      0      0 ...  \n",
       " G55442        0      0      0      0      0      0      0      0      0 ...  \n",
       " G55443        0      1      0      0      0      0      1      0      0 ...  \n",
       " G55444        0      0      0      0      0      0      0      0      1 ...  \n",
       " G55445        0      0      0      0      0      0      0      0      1 ...  \n",
       " G55446        0      0      0      0      0      0      0      0      0 ...  \n",
       " G55447        0      0      0      0      0      0      0      0      1 ...  \n",
       " G55448        0      0      0      0      0      1      0      0      0 ...  \n",
       " G55449        0      0      0      0      0      0      0      0      1 ...  \n",
       " G55450        0      0      0      0      0      0      0      0      0 ...  \n",
       " G55451        0      0      0      0      0      0      0      0      1 ...  \n",
       " G55452        0      1      0      0      0      0      1      0      0 ...  \n",
       " G55453        0      0      0      0      0      0      0      0      0 ...  \n",
       " G55454        0      0      0      0      0      0      0      0      1 ...  \n",
       " G55455        0      0      0      0      0      0      0      0      0 ...  \n",
       " G55457        0      0      0      0      0      0      0      0      0 ...  \n",
       " G55458        0      1      0      0      0      0      1      0      0 ...  \n",
       " G55459        0      0      0      0      0      0      0      0      0 ...  \n",
       " G55460        0      0      0      0      0      0      0      0      0 ...  \n",
       " G55461        0      0      0      0      0      1      0      0      0 ...  \n",
       " G55462        0      0      0      0      0      0      0      0      0 ...  \n",
       " G55463        0      0      0      0      0      0      0      0      1 ...  \n",
       " G55464        0      0      0      0      0      0      0      0      0 ...  \n",
       " G55465        0      0      0      0      0      0      0      0      1 ...  \n",
       " G55466        0      0      0      0      0      0      0      0      0 ...  \n",
       " G55467        0      0      0      0      0      0      0      0      0 ...  \n",
       " G55468        0      0      0      0      0      0      0      0      0 ...  \n",
       " G55469        0      1      0      0      0      0      1      0      0 ...  \n",
       " G55470        0      0      0      0      0      0      0      0      0 ...  \n",
       " G55471        0      0      0      0      0      0      0      0      0 ...  \n",
       " G55472        0      0      0      0      0      0      0      0      1 ...  \n",
       " G55473        0      0      0      0      0      0      0      0      1 ...  \n",
       " G55474        0      0      0      0      0      0      0      0      0 ...  \n",
       " G55475        0      0      0      0      0      0      0      0      0 ...  \n",
       " G55476        0      0      0      0      0      0      0      0      0 ...  \n",
       "             ...    ...    ...    ...    ...    ...    ...    ...    ...      \n",
       " \n",
       " [142 rows x 3175 columns])"
      ]
     },
     "execution_count": 15,
     "metadata": {},
     "output_type": "execute_result"
    }
   ],
   "source": [
    "res = get_ready_generator(folder=GENERATOR_FOLDER)\n",
    "res"
   ]
  },
  {
   "cell_type": "code",
   "execution_count": 16,
   "metadata": {
    "collapsed": false
   },
   "outputs": [],
   "source": [
    "generator, X = res"
   ]
  },
  {
   "cell_type": "code",
   "execution_count": 17,
   "metadata": {
    "collapsed": false
   },
   "outputs": [
    {
     "data": {
      "text/plain": [
       "106625438"
      ]
     },
     "execution_count": 17,
     "metadata": {},
     "output_type": "execute_result"
    }
   ],
   "source": [
    "generator.get_sets_count()"
   ]
  },
  {
   "cell_type": "code",
   "execution_count": 46,
   "metadata": {
    "collapsed": false
   },
   "outputs": [],
   "source": [
    "import complex_features_inserting\n",
    "complex_features_inserting = reload(complex_features_inserting)\n",
    "from complex_features_inserting import ExtenderStrategy, \\\n",
    "                                       MinSizePreFilter, \\\n",
    "                                       SimplePriorityGetter, \\\n",
    "                                       BayesBasedPriorityGetter, \\\n",
    "                                       ComplexFeaturesAdderWrapper\n",
    "#                                       AndBasedSimpleFeaaturesIndexesGetter \n",
    "AndBasedSimpleFeaaturesIndexesGetter = complex_features_inserting.AndBasedSimpleFeaturesIndexesGetter\n",
    "MinSimpleFeaturesIndexGetter = complex_features_inserting.MinSimpleFeaturesIndexGetter\n",
    "ExtenderStrategy = complex_features_inserting.ExtenderStrategy\n",
    "ComplexFeaturesAdderWrapper = complex_features_inserting.ComplexFeaturesAdderWrapper\n",
    "def get_simple_feature_adder_wrapper(inner_model, max_features_to_add):\n",
    "    generator, matrix_before_generating = get_ready_generator()\n",
    "    priority_getter = SimplePriorityGetter()\n",
    "    pre_filter = MinSizePreFilter(min_size=1)\n",
    "    simple_features_indexes_getter = MinSimpleFeaturesIndexGetter(generator, 1000)\n",
    "    extender_strategy = ExtenderStrategy(max_features=1000, \n",
    "                                         priority_getter=priority_getter, \n",
    "                                         pre_filter=pre_filter,\n",
    "                                         generator=get_ready_generator()[0],\n",
    "                                         simple_features_indexes_getter=simple_features_indexes_getter,\n",
    "                                         )\n",
    "    feature_selector = ModelFeatureSelectionWrapper(inner_model)\n",
    "    return ComplexFeaturesAdderWrapper(inner_model=feature_selector, \n",
    "                                       matrix_before_generating=matrix_before_generating.as_matrix(),\n",
    "                                       features_names=list(matrix_before_generating.columns.values),\n",
    "                                       objects_names=list(matrix_before_generating.index),\n",
    "                                       extender_strategy=extender_strategy)"
   ]
  },
  {
   "cell_type": "code",
   "execution_count": 67,
   "metadata": {
    "collapsed": false
   },
   "outputs": [],
   "source": [
    "from sklearn.linear_model import LogisticRegression\n",
    "simple_feature_adder_wrapper = get_simple_feature_adder_wrapper(XGB(), 1000)"
   ]
  },
  {
   "cell_type": "code",
   "execution_count": 48,
   "metadata": {
    "collapsed": false
   },
   "outputs": [
    {
     "data": {
      "text/plain": [
       "(142, 3175)"
      ]
     },
     "execution_count": 48,
     "metadata": {},
     "output_type": "execute_result"
    }
   ],
   "source": [
    "simple_feature_adder_wrapper.matrix_before_generating.shape"
   ]
  },
  {
   "cell_type": "code",
   "execution_count": 49,
   "metadata": {
    "collapsed": false
   },
   "outputs": [],
   "source": [
    "X, y = get_data_keeper().get_train_data('ETHI: Ethionamide/ Prothionamide ')"
   ]
  },
  {
   "cell_type": "code",
   "execution_count": 50,
   "metadata": {
    "collapsed": false
   },
   "outputs": [],
   "source": [
    "possible_objects = set(y.index)"
   ]
  },
  {
   "cell_type": "code",
   "execution_count": 51,
   "metadata": {
    "collapsed": false
   },
   "outputs": [],
   "source": [
    "import numpy as np\n",
    "indexes = list()\n",
    "y_refactored = list()\n",
    "\n",
    "for i, el in enumerate(simple_feature_adder_wrapper.objects_names):\n",
    "    if el in possible_objects:\n",
    "        indexes.append(i)\n",
    "        y_refactored.append(y[el])\n",
    "y_refactored = np.array(y_refactored)\n",
    "indexes = np.array(indexes)\n",
    "indexes = indexes.reshape((indexes.shape[0], 1))"
   ]
  },
  {
   "cell_type": "code",
   "execution_count": 52,
   "metadata": {
    "collapsed": false
   },
   "outputs": [
    {
     "data": {
      "text/plain": [
       "136"
      ]
     },
     "execution_count": 52,
     "metadata": {},
     "output_type": "execute_result"
    }
   ],
   "source": [
    "len(indexes)"
   ]
  },
  {
   "cell_type": "code",
   "execution_count": 53,
   "metadata": {
    "collapsed": false
   },
   "outputs": [
    {
     "data": {
      "text/plain": [
       "106625438"
      ]
     },
     "execution_count": 53,
     "metadata": {},
     "output_type": "execute_result"
    }
   ],
   "source": [
    "get_ready_generator()[0].get_sets_count()"
   ]
  },
  {
   "cell_type": "code",
   "execution_count": 54,
   "metadata": {
    "collapsed": true
   },
   "outputs": [],
   "source": [
    "get_ready_generator()[0].restore()"
   ]
  },
  {
   "cell_type": "code",
   "execution_count": 55,
   "metadata": {
    "collapsed": false
   },
   "outputs": [],
   "source": [
    "import sys\n",
    "stdout = sys.stdout\n",
    "stderr = sys.stderr"
   ]
  },
  {
   "cell_type": "code",
   "execution_count": 56,
   "metadata": {
    "collapsed": false
   },
   "outputs": [
    {
     "data": {
      "text/plain": [
       "106625438"
      ]
     },
     "execution_count": 56,
     "metadata": {},
     "output_type": "execute_result"
    }
   ],
   "source": [
    "generator.get_sets_count()"
   ]
  },
  {
   "cell_type": "code",
   "execution_count": 68,
   "metadata": {
    "collapsed": false
   },
   "outputs": [
    {
     "name": "stdout",
     "output_type": "stream",
     "text": [
      "[  0   1   2   3   4   5   6   7   8   9  10  11  12  13  14  15  16  17\n",
      "  18  19  20  21  22  23  24  25  26  27  28  29  30  31  32  33  34  35\n",
      "  36  37  38  39  40  41  42  43  44  45  46  47  48  49  50  51  52  54\n",
      "  55  56  57  58  59  60  61  62  63  64  65  66  67  68  69  70  71  72\n",
      "  73  74  75  76  77  78  79  80  81  82  83  84  85  86  87  88  89  90\n",
      "  91  93  95  96  97  98  99 100 101 102 103 104 105 106 107 108 109 110\n",
      " 111 112 113 114 115 116 117 118 119 120 121 123 124 125 126 127 129 130\n",
      " 131 132 133 134 135 136 137 138 140 141]\n",
      "[ 11  13  15  16  20  27  28  29  30  33  36  38  45  48  50  51  56  60\n",
      "  62  66  69  71  72  73  78  82  83  85  93  96  99 101 111 133 135 140]\n",
      "7403\n",
      "{'f536': 10, 'f3241': 1, 'f2769': 1, 'f3411': 3, 'f3380': 5, 'f668': 2, 'f3306': 1, 'f3209': 7, 'f107': 2, 'f1636': 1, 'f3207': 2, 'f3202': 4, 'f1006': 5, 'f1413': 3, 'f1001': 1, 'f1163': 15, 'f3198': 9, 'f1231': 1, 'f2521': 4, 'f2732': 1, 'f3190': 5, 'f3850': 1, 'f3195': 6, 'f1514': 3, 'f3370': 2, 'f2772': 1, 'f3283': 2, 'f3316': 6, 'f3214': 3, 'f3335': 2, 'f3318': 1, 'f3860': 2, 'f3493': 1, 'f2842': 9, 'f1265': 2, 'f693': 2, 'f1285': 1, 'f233': 1, 'f3042': 1, 'f3188': 13, 'f1445': 1, 'f3182': 3, 'f649': 1}\n",
      "{'f536': 10, 'f3241': 1, 'f2769': 1, 'f3411': 3, 'f3380': 5, 'f668': 2, 'f3306': 1, 'f3209': 7, 'f107': 2, 'f1636': 1, 'f3207': 2, 'f3202': 4, 'f1006': 5, 'f1413': 3, 'f1001': 1, 'f1163': 15, 'f3198': 9, 'f1231': 1, 'f2521': 4, 'f2732': 1, 'f3190': 5, 'f3850': 1, 'f3195': 6, 'f1514': 3, 'f3370': 2, 'f2772': 1, 'f3283': 2, 'f3316': 6, 'f3214': 3, 'f3335': 2, 'f3318': 1, 'f3860': 2, 'f3493': 1, 'f2842': 9, 'f1265': 2, 'f693': 2, 'f1285': 1, 'f233': 1, 'f3042': 1, 'f3188': 13, 'f1445': 1, 'f3182': 3, 'f649': 1}\n"
     ]
    },
    {
     "data": {
      "text/plain": [
       "ComplexFeaturesAdderWrapper(extender_strategy=<complex_features_inserting.ExtenderStrategy object at 0x7f3ce0560250>,\n",
       "              features_names=['698', '1594', '1771', '4086', '7570', '7572', '7581', '7582', '8040', '9841', '11370', '14105', '14251', '15159', '15517', '16089', '16807', '17608', '24060', '24720', '25899', '27463', '28367', '28640', '29482', '30943', '31077', '31258', '33457', '33551', '34527', '34859', '34879'..., '4399861', '4400424', '4404211', '4405009', '4406293', '4406543', '4408333', '4408390', '4408724'],\n",
       "              inner_model=ModelFeatureSelectionWrapper(feature_selection_threshold_coef=3,\n",
       "               inner_model=XGBoostClassifierFeatureImportances(base_score=0.5, colsample_bylevel=1,\n",
       "                  colsample_bytree=1, gamma=0, learning_rate=0.1,\n",
       "                  max_delta_step=0, max_depth=3, min_chil... reg_alpha=0, reg_lambda=1,\n",
       "                  scale_pos_weight=1, seed=0, silent=True, subsample=1)),\n",
       "              matrix_before_generating=array([[0, 0, ..., 0, 0],\n",
       "       [0, 1, ..., 0, 0],\n",
       "       ...,\n",
       "       [0, 1, ..., 0, 0],\n",
       "       [0, 0, ..., 0, 0]]),\n",
       "              objects_names=['G55413', 'G55414', 'G55415', 'G55416', 'G55417', 'G55418', 'G55419', 'G55421', 'G55422', 'G55423', 'G55424', 'G55425', 'G55426', 'G55427', 'G55428', 'G55429', 'G55430', 'G55431', 'G55432', 'G55433', 'G55435', 'G55436', 'G55438', 'G55439', 'G55440', 'G55441', 'G55442', 'G55443', 'G554... 'G55555', 'G55556', 'G55557', 'G55558', 'G55559', 'G55560', 'G55561', 'G55563', 'G55565', 'G55566'])"
      ]
     },
     "execution_count": 68,
     "metadata": {},
     "output_type": "execute_result"
    }
   ],
   "source": [
    "simple_feature_adder_wrapper.fit(indexes, y_refactored)"
   ]
  },
  {
   "cell_type": "code",
   "execution_count": 81,
   "metadata": {
    "collapsed": false
   },
   "outputs": [
    {
     "data": {
      "text/plain": [
       "array([[  0],\n",
       "       [  1],\n",
       "       [  2],\n",
       "       [  3],\n",
       "       [  4],\n",
       "       [  5],\n",
       "       [  6],\n",
       "       [  7],\n",
       "       [  8],\n",
       "       [  9],\n",
       "       [ 10],\n",
       "       [ 11],\n",
       "       [ 12],\n",
       "       [ 13],\n",
       "       [ 14],\n",
       "       [ 15],\n",
       "       [ 16],\n",
       "       [ 17],\n",
       "       [ 18],\n",
       "       [ 19],\n",
       "       [ 20],\n",
       "       [ 21],\n",
       "       [ 22],\n",
       "       [ 23],\n",
       "       [ 24],\n",
       "       [ 25],\n",
       "       [ 26],\n",
       "       [ 27],\n",
       "       [ 28],\n",
       "       [ 29],\n",
       "       [ 30],\n",
       "       [ 31],\n",
       "       [ 32],\n",
       "       [ 33],\n",
       "       [ 34],\n",
       "       [ 35],\n",
       "       [ 36],\n",
       "       [ 37],\n",
       "       [ 38],\n",
       "       [ 39],\n",
       "       [ 40],\n",
       "       [ 41],\n",
       "       [ 42],\n",
       "       [ 43],\n",
       "       [ 44],\n",
       "       [ 45],\n",
       "       [ 46],\n",
       "       [ 47],\n",
       "       [ 48],\n",
       "       [ 49],\n",
       "       [ 50],\n",
       "       [ 51],\n",
       "       [ 52],\n",
       "       [ 54],\n",
       "       [ 55],\n",
       "       [ 56],\n",
       "       [ 57],\n",
       "       [ 58],\n",
       "       [ 59],\n",
       "       [ 60],\n",
       "       [ 61],\n",
       "       [ 62],\n",
       "       [ 63],\n",
       "       [ 64],\n",
       "       [ 65],\n",
       "       [ 66],\n",
       "       [ 67],\n",
       "       [ 68],\n",
       "       [ 69],\n",
       "       [ 70],\n",
       "       [ 71],\n",
       "       [ 72],\n",
       "       [ 73],\n",
       "       [ 74],\n",
       "       [ 75],\n",
       "       [ 76],\n",
       "       [ 77],\n",
       "       [ 78],\n",
       "       [ 79],\n",
       "       [ 80],\n",
       "       [ 81],\n",
       "       [ 82],\n",
       "       [ 83],\n",
       "       [ 84],\n",
       "       [ 85],\n",
       "       [ 86],\n",
       "       [ 87],\n",
       "       [ 88],\n",
       "       [ 89],\n",
       "       [ 90],\n",
       "       [ 91],\n",
       "       [ 93],\n",
       "       [ 95],\n",
       "       [ 96],\n",
       "       [ 97],\n",
       "       [ 98],\n",
       "       [ 99],\n",
       "       [100],\n",
       "       [101],\n",
       "       [102],\n",
       "       [103],\n",
       "       [104],\n",
       "       [105],\n",
       "       [106],\n",
       "       [107],\n",
       "       [108],\n",
       "       [109],\n",
       "       [110],\n",
       "       [111],\n",
       "       [112],\n",
       "       [113],\n",
       "       [114],\n",
       "       [115],\n",
       "       [116],\n",
       "       [117],\n",
       "       [118],\n",
       "       [119],\n",
       "       [120],\n",
       "       [121],\n",
       "       [123],\n",
       "       [124],\n",
       "       [125],\n",
       "       [126],\n",
       "       [127],\n",
       "       [129],\n",
       "       [130],\n",
       "       [131],\n",
       "       [132],\n",
       "       [133],\n",
       "       [134],\n",
       "       [135],\n",
       "       [136],\n",
       "       [137],\n",
       "       [138],\n",
       "       [140],\n",
       "       [141]])"
      ]
     },
     "execution_count": 81,
     "metadata": {},
     "output_type": "execute_result"
    }
   ],
   "source": [
    "indexes"
   ]
  },
  {
   "cell_type": "code",
   "execution_count": 58,
   "metadata": {
    "collapsed": true
   },
   "outputs": [],
   "source": [
    "from complex_features_inserting import and_arrays"
   ]
  },
  {
   "cell_type": "code",
   "execution_count": 59,
   "metadata": {
    "collapsed": false
   },
   "outputs": [
    {
     "data": {
      "text/plain": [
       "array([1, 1, 1, 1, 1, 1, 1, 1, 1, 1, 1, 1, 1, 1, 1, 1, 1, 1, 1, 1, 1, 1, 1,\n",
       "       1, 1, 1, 1, 1, 1, 1, 1, 1, 1, 1, 1, 1, 1, 1, 1, 1, 1, 1, 1, 1, 1, 1,\n",
       "       1, 1, 1, 1, 1, 1, 1, 1, 1, 1, 1, 1, 1, 1, 1, 1, 1, 1, 1, 1, 1, 1, 1,\n",
       "       1, 1, 1, 1, 1, 1, 1, 1, 1, 1, 1, 1, 1, 1, 1, 1, 1, 1, 1, 1, 1, 1, 1,\n",
       "       1, 1, 1, 1, 1, 1, 1, 1, 1, 1, 1, 1, 1, 1, 1, 1, 1, 1, 1, 1, 1, 1, 1,\n",
       "       1, 1, 1, 1, 1, 1, 1, 1, 1, 1, 1, 1, 1, 1, 1, 1, 1, 1, 1, 1, 1, 1, 1,\n",
       "       1, 1, 1, 1])"
      ]
     },
     "execution_count": 59,
     "metadata": {},
     "output_type": "execute_result"
    }
   ],
   "source": [
    "and_arrays(simple_feature_adder_wrapper.matrix_before_generating[:,[]].T)"
   ]
  },
  {
   "cell_type": "code",
   "execution_count": 60,
   "metadata": {
    "collapsed": false
   },
   "outputs": [
    {
     "data": {
      "text/plain": [
       "array([0, 0, 0, 0, 0, 0, 0, 0, 0, 0, 0, 0, 0, 0, 0, 1, 0, 1, 0, 0, 1, 0, 0,\n",
       "       0, 0, 0, 0, 1, 0, 0, 0, 0, 0, 0, 0, 0, 1, 0, 0, 0, 0, 1, 0, 0, 0, 0,\n",
       "       0, 0, 0, 0, 0, 0, 0, 0, 0, 0, 0, 0, 0, 0, 0, 0, 0, 1, 0, 0, 0, 0, 0,\n",
       "       0, 0, 0, 0, 0, 0, 0, 0, 0, 1, 1, 0, 0, 1, 1, 0, 1, 0, 0, 0, 0, 0, 0,\n",
       "       0, 0, 0, 0, 0, 0, 0, 0, 0, 0, 0, 1, 0, 1, 0, 0, 0, 0, 1, 1, 0, 0, 1,\n",
       "       0, 0, 1, 1, 0, 0, 0, 0, 0, 0, 0, 1, 0, 1, 1, 0, 0, 0, 0, 0, 1, 0, 0,\n",
       "       0, 0, 0, 0])"
      ]
     },
     "execution_count": 60,
     "metadata": {},
     "output_type": "execute_result"
    }
   ],
   "source": [
    "simple_feature_adder_wrapper.matrix_before_generating[:,0]"
   ]
  },
  {
   "cell_type": "code",
   "execution_count": 61,
   "metadata": {
    "collapsed": false
   },
   "outputs": [
    {
     "data": {
      "text/plain": [
       "array([ 1, 33], dtype=uint64)"
      ]
     },
     "execution_count": 61,
     "metadata": {},
     "output_type": "execute_result"
    }
   ],
   "source": [
    "simple_feature_adder_wrapper.extender_strategy._simple_features_indexes_getter.get_features_indexes(\n",
    "    simple_feature_adder_wrapper.matrix_before_generating, \n",
    "    and_arrays(simple_feature_adder_wrapper.matrix_before_generating[:,[1, 33]].T).nonzero()[0], \n",
    "    np.arange(1000))"
   ]
  },
  {
   "cell_type": "code",
   "execution_count": 84,
   "metadata": {
    "collapsed": false
   },
   "outputs": [
    {
     "data": {
      "text/plain": [
       "array([ 13,  33,  50,  51,  56, 101, 140])"
      ]
     },
     "execution_count": 84,
     "metadata": {},
     "output_type": "execute_result"
    }
   ],
   "source": [
    "and_arrays(simple_feature_adder_wrapper.matrix_before_generating[:,[ 552,  586,  843, 1091, 1413, 2750, 2885]].T).astype(np.bool).nonzero()[0]"
   ]
  },
  {
   "cell_type": "code",
   "execution_count": 92,
   "metadata": {
    "collapsed": false
   },
   "outputs": [
    {
     "data": {
      "text/plain": [
       "array([ True], dtype=bool)"
      ]
     },
     "execution_count": 92,
     "metadata": {},
     "output_type": "execute_result"
    }
   ],
   "source": [
    "y_refactored[(indexes.ravel() == 140).nonzero()[0]]"
   ]
  },
  {
   "cell_type": "code",
   "execution_count": 69,
   "metadata": {
    "collapsed": false
   },
   "outputs": [
    {
     "name": "stdout",
     "output_type": "stream",
     "text": [
      "{'f536': 10, 'f3241': 1, 'f2769': 1, 'f3411': 3, 'f3380': 5, 'f668': 2, 'f3306': 1, 'f3209': 7, 'f107': 2, 'f1636': 1, 'f3207': 2, 'f3202': 4, 'f1006': 5, 'f1413': 3, 'f1001': 1, 'f1163': 15, 'f3198': 9, 'f1231': 1, 'f2521': 4, 'f2732': 1, 'f3190': 5, 'f3850': 1, 'f3195': 6, 'f1514': 3, 'f3370': 2, 'f2772': 1, 'f3283': 2, 'f3316': 6, 'f3214': 3, 'f3335': 2, 'f3318': 1, 'f3860': 2, 'f3493': 1, 'f2842': 9, 'f1265': 2, 'f693': 2, 'f1285': 1, 'f233': 1, 'f3042': 1, 'f3188': 13, 'f1445': 1, 'f3182': 3, 'f649': 1}\n",
      "{'f536': 10, 'f3241': 1, 'f2769': 1, 'f3411': 3, 'f3380': 5, 'f668': 2, 'f3306': 1, 'f3209': 7, 'f107': 2, 'f1636': 1, 'f3207': 2, 'f3202': 4, 'f1006': 5, 'f1413': 3, 'f1001': 1, 'f1163': 15, 'f3198': 9, 'f1231': 1, 'f2521': 4, 'f2732': 1, 'f3190': 5, 'f3850': 1, 'f3195': 6, 'f1514': 3, 'f3370': 2, 'f2772': 1, 'f3283': 2, 'f3316': 6, 'f3214': 3, 'f3335': 2, 'f3318': 1, 'f3860': 2, 'f3493': 1, 'f2842': 9, 'f1265': 2, 'f693': 2, 'f1285': 1, 'f233': 1, 'f3042': 1, 'f3188': 13, 'f1445': 1, 'f3182': 3, 'f649': 1}\n"
     ]
    },
    {
     "data": {
      "text/plain": [
       "[[107],\n",
       " [233],\n",
       " [536],\n",
       " [649],\n",
       " [668],\n",
       " [693],\n",
       " [1001],\n",
       " [1006],\n",
       " [1163],\n",
       " [1231],\n",
       " [1265],\n",
       " [1285],\n",
       " [1413],\n",
       " [1445],\n",
       " [1514],\n",
       " [1636],\n",
       " [2521],\n",
       " [2732],\n",
       " [2769],\n",
       " [2772],\n",
       " [2842],\n",
       " [3042],\n",
       " array([ 621, 1006, 1163], dtype=uint64),\n",
       " array([ 552,  586,  843, 1091, 1413, 2750, 2885], dtype=uint64),\n",
       " array([  34, 1006], dtype=uint64),\n",
       " array([ 134, 2798, 2870], dtype=uint64),\n",
       " array([ 552,  586,  822, 1091, 2806, 3125], dtype=uint64),\n",
       " array([  47, 1514, 2799, 2826], dtype=uint64),\n",
       " array([  47,  591, 1514, 1761, 2826], dtype=uint64),\n",
       " array([  69, 2769, 2798], dtype=uint64),\n",
       " array([ 648, 1130, 1413, 1653, 2750, 2756], dtype=uint64),\n",
       " array([ 591,  822, 1019, 2761], dtype=uint64),\n",
       " array([ 579,  586,  656, 1006, 1413, 2077], dtype=uint64),\n",
       " array([ 356, 1130, 1413, 1746, 2750, 2815], dtype=uint64),\n",
       " array([ 648, 1130, 1132, 1413, 2379, 2750, 2756], dtype=uint64),\n",
       " array([  47,  591, 1514, 2750, 2826], dtype=uint64),\n",
       " array([ 621, 1057, 1514, 2378], dtype=uint64),\n",
       " array([ 465, 1231, 1514], dtype=uint64),\n",
       " array([  48,  843, 1413, 1761, 2598, 2766, 2885], dtype=uint64),\n",
       " array([  89,  261, 2387], dtype=uint64),\n",
       " array([ 591,  648, 1130, 1413, 2750, 2756], dtype=uint64),\n",
       " array([ 849, 1006, 1413, 2750], dtype=uint64),\n",
       " array([ 249,  261, 1006, 2729], dtype=uint64)]"
      ]
     },
     "execution_count": 69,
     "metadata": {},
     "output_type": "execute_result"
    }
   ],
   "source": [
    "simple_feature_adder_wrapper.get_support(indices=True)"
   ]
  },
  {
   "cell_type": "code",
   "execution_count": 36,
   "metadata": {
    "collapsed": false
   },
   "outputs": [
    {
     "ename": "TypeError",
     "evalue": "exceptions must be old-style classes or derived from BaseException, not NoneType",
     "output_type": "error",
     "traceback": [
      "\u001b[1;31m---------------------------------------------------------------------------\u001b[0m",
      "\u001b[1;31mTypeError\u001b[0m                                 Traceback (most recent call last)",
      "\u001b[1;32m<ipython-input-36-26814ed17a01>\u001b[0m in \u001b[0;36m<module>\u001b[1;34m()\u001b[0m\n\u001b[1;32m----> 1\u001b[1;33m \u001b[1;32mraise\u001b[0m\u001b[1;33m\u001b[0m\u001b[0m\n\u001b[0m",
      "\u001b[1;31mTypeError\u001b[0m: exceptions must be old-style classes or derived from BaseException, not NoneType"
     ]
    }
   ],
   "source": [
    "raise"
   ]
  },
  {
   "cell_type": "code",
   "execution_count": 72,
   "metadata": {
    "collapsed": false
   },
   "outputs": [
    {
     "data": {
      "text/plain": [
       "array([ 0.85714286,  0.78571429,  0.64285714,  0.71428571,  0.78571429,\n",
       "        0.78571429,  1.        ,  0.92307692,  0.92307692,  0.76923077])"
      ]
     },
     "execution_count": 72,
     "metadata": {},
     "output_type": "execute_result"
    }
   ],
   "source": [
    "from sklearn.cross_validation import cross_val_score\n",
    "from sklearn.metrics import make_scorer, accuracy_score\n",
    "from wrappers import XGBoostClassifierFeatureImportances as XGB\n",
    "sys.stdout = sys.stderr = open(\"cross_val.log\", \"w\")\n",
    "cross_val_score(simple_feature_adder_wrapper, indexes, y_refactored, scoring=make_scorer(accuracy_score), cv=10)"
   ]
  },
  {
   "cell_type": "code",
   "execution_count": 73,
   "metadata": {
    "collapsed": false
   },
   "outputs": [
    {
     "data": {
      "text/plain": [
       "0.81868131868131877"
      ]
     },
     "execution_count": 73,
     "metadata": {},
     "output_type": "execute_result"
    }
   ],
   "source": [
    "_.mean()"
   ]
  },
  {
   "cell_type": "code",
   "execution_count": null,
   "metadata": {
    "collapsed": false
   },
   "outputs": [],
   "source": [
    "simple_feature_adder_wrapper.extender_strategy.__dict__"
   ]
  },
  {
   "cell_type": "code",
   "execution_count": null,
   "metadata": {
    "collapsed": true
   },
   "outputs": [],
   "source": []
  }
 ],
 "metadata": {
  "kernelspec": {
   "display_name": "Python 2",
   "language": "python",
   "name": "python2"
  },
  "language_info": {
   "codemirror_mode": {
    "name": "ipython",
    "version": 2
   },
   "file_extension": ".py",
   "mimetype": "text/x-python",
   "name": "python",
   "nbconvert_exporter": "python",
   "pygments_lexer": "ipython2",
   "version": "2.7.6"
  }
 },
 "nbformat": 4,
 "nbformat_minor": 0
}
